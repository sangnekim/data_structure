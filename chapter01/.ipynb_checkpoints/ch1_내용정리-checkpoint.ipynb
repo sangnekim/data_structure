{
 "cells": [
  {
   "cell_type": "markdown",
   "metadata": {},
   "source": [
    "# 자료구조와 알고리즘"
   ]
  },
  {
   "cell_type": "markdown",
   "metadata": {},
   "source": [
    "## 1.1 자료구조와 알고리즘"
   ]
  },
  {
   "cell_type": "markdown",
   "metadata": {},
   "source": [
    "자료구조: 컴퓨터에서 자료들을 정리하고 조직화 하는 여러 가지 구조들  \n",
    "알고리즘: 자료구조를 이용해 주어진 문제를 처리하기 위한 효과적인 절차  "
   ]
  },
  {
   "cell_type": "markdown",
   "metadata": {},
   "source": [
    "알고리즘의 조건  \n",
    "- 입력: 0개 이상의 입력이 존재하여야 한다.\n",
    "- 출력: 1개 이상의 출력이 존재하여야 한다.\n",
    "- 명백성: 각 명령어의 의미는 모호하지 않고 명확해야 한다.\n",
    "- 유한성: 한정된 수의 단계 후에는 반드시 종료되어야 한다.\n",
    "- 유효성: 각 명령어들은 실행 가능한 연산이어야 한다."
   ]
  },
  {
   "cell_type": "markdown",
   "metadata": {},
   "source": [
    "## 1.2 추상자료형\n",
    "추상자료형: 프로그래머가 추상적으로 정의한 자료형이다. 추상 자료형은 어떤 자료들과 자료에 가해지는 연산들을 구체적으로 표시한다."
   ]
  },
  {
   "cell_type": "markdown",
   "metadata": {},
   "source": [
    "### 추상 자료형 구현"
   ]
  },
  {
   "cell_type": "code",
   "execution_count": 1,
   "metadata": {},
   "outputs": [],
   "source": [
    "def contains(bag, e):\n",
    "    return e in bag\n",
    "\n",
    "def insert(bag, e):\n",
    "    bag.append(e)\n",
    "\n",
    "def remove(bag, e):\n",
    "    bag.remove(e)\n",
    "\n",
    "def count(bag):\n",
    "    return len(bag)"
   ]
  },
  {
   "cell_type": "code",
   "execution_count": 2,
   "metadata": {},
   "outputs": [
    {
     "name": "stdout",
     "output_type": "stream",
     "text": [
      "가방속의 물건: ['휴대폰', '지갑', '손수건', '빗', '자료구조', '야구공']\n",
      "가방속의 물건: ['휴대폰', '지갑', '빗', '자료구조', '야구공', '빗']\n"
     ]
    }
   ],
   "source": [
    "myBag = []\n",
    "insert(myBag,'휴대폰')\n",
    "insert(myBag,'지갑')\n",
    "insert(myBag,'손수건')\n",
    "insert(myBag,'빗')\n",
    "insert(myBag,'자료구조')\n",
    "insert(myBag,'야구공')\n",
    "print('가방속의 물건:', myBag)\n",
    "\n",
    "insert(myBag, '빗')\n",
    "remove(myBag, '손수건')\n",
    "print('가방속의 물건:', myBag)"
   ]
  },
  {
   "cell_type": "markdown",
   "metadata": {},
   "source": [
    "추상자료형은 일반 함수보다 클래스로 구현하는 것이 더 바람직하다"
   ]
  },
  {
   "cell_type": "markdown",
   "metadata": {},
   "source": [
    "## 1.3 알고리즘의 성능 분석"
   ]
  },
  {
   "cell_type": "markdown",
   "metadata": {},
   "source": [
    "알고리즘의 효율성은 계산속도와 메모리 사용량으로 평가할 수 있다.  \n",
    "<br>\n",
    "복잡도 분석: 입력의 개수를 n이라고 할 때, 이 방법은 n이 증가함에 따라서 실행시간이 어떤 형태로 증가하는지 만을 분석하는데, 알고리즘을 구현하지 않고도 모든 입력에 대해 실행 하드웨어나 소프트웨어 환경과 관계없이 알고리즘의 효율성을 평가할 수 있다."
   ]
  },
  {
   "cell_type": "markdown",
   "metadata": {},
   "source": [
    "시간복잡도 함수: 연산의 수를 n의 함수로 나타낸 것으로 T(n)으로 표기한다."
   ]
  },
  {
   "cell_type": "markdown",
   "metadata": {},
   "source": [
    "빅오 표기법: 두개의 함수 $f(n)$과 $g(n)$이 주어졌을 때 모든 $n>n_0$에 대해 $|f(n)| \\le c|g(n)|$을 만족하는 상수 c와 $n_0$가 존재하면 $f(n)=O(g(n))$ 이다.  \n",
    "\n",
    "즉, 빅오 표기법은 n에 따른 함수의 상한을 나타낸다."
   ]
  },
  {
   "cell_type": "markdown",
   "metadata": {},
   "source": [
    "### n에 따른 시간 복잡도 함수의 증가순\n",
    "1. $O(1)$ : 상수형\n",
    "2. $O(logn)$ : 로그형\n",
    "3. $O(n)$ : 선형\n",
    "4. $O(nlogn)$ :선형로그형\n",
    "5. $O(n^2)$ : 2차형\n",
    "6. $O(n^3)$ : 3차형\n",
    "7. $O(2^n)$ : 지수형\n",
    "8. $O(n!)$ : 팩토리얼형"
   ]
  },
  {
   "cell_type": "markdown",
   "metadata": {},
   "source": [
    "빅오 표기법 이외에 빅오메가 표기법, 빅세타 표기법이 있으나 통상적으로 빅오 표기법을 많이 사용한다. 단 빅오 표기법을 사용할 때는 최소차수로 상한을 표시를 한다고 가정하자"
   ]
  },
  {
   "cell_type": "markdown",
   "metadata": {},
   "source": [
    "## 시간 복잡도 분석: 순환 알고리즘"
   ]
  },
  {
   "cell_type": "markdown",
   "metadata": {},
   "source": [
    "순환(recursion): 어떤 함수가 자기 자신을 다시 호출하여 문제를 해결하는 프로그래밍 기법이다.  \n",
    "순환함수: 자신을 순환적으로 호출하는 부분과 순환 호출을 멈추는 부분으로 구성되어 있다."
   ]
  },
  {
   "cell_type": "markdown",
   "metadata": {},
   "source": [
    "### 순환 알고리즘 예시(팩토리얼)"
   ]
  },
  {
   "cell_type": "code",
   "execution_count": 3,
   "metadata": {},
   "outputs": [],
   "source": [
    "#순환 알고리즘\n",
    "def factorial(n):\n",
    "    if n == 1:\n",
    "        return 1\n",
    "    else:\n",
    "        return n*factorial(n-1)\n",
    "\n",
    "#반복 알고리즘\n",
    "def factorial(n):\n",
    "    result = 1\n",
    "    for k in range(n,0,-1):\n",
    "        result = result*k\n",
    "    return result"
   ]
  },
  {
   "cell_type": "markdown",
   "metadata": {},
   "source": [
    "순환 알고리즘은 이해하기 쉽다는 것과 쉽게 프로그램 할 수 있다는 장점이 있는 대신 수행 시간과 기억 공간의 사용에 있어서는 비효율적인 경우가 많다."
   ]
  },
  {
   "cell_type": "markdown",
   "metadata": {},
   "source": [
    "### 순환이 빠른 예시 (거듭제곱 구하기)"
   ]
  },
  {
   "cell_type": "code",
   "execution_count": 4,
   "metadata": {},
   "outputs": [],
   "source": [
    "#반복 알고리즘\n",
    "def power_item(x, n):\n",
    "    result = 1.0\n",
    "    for i in range(n):\n",
    "        result = result*x\n",
    "    return result\n",
    "\n",
    "#순환 알고리즘\n",
    "def power(x, n):\n",
    "    if n == 0:\n",
    "        return 1\n",
    "    elif (n%2) == 0:\n",
    "        return power(x*x, n//2)\n",
    "    else:\n",
    "        return x*power(x*x, (n-1)//2)"
   ]
  },
  {
   "cell_type": "markdown",
   "metadata": {},
   "source": [
    "### 순환이 느린 예시 (피보나치 수열)"
   ]
  },
  {
   "cell_type": "code",
   "execution_count": 5,
   "metadata": {},
   "outputs": [],
   "source": [
    "#순환 알고리즘\n",
    "def fibo(n):\n",
    "    if n == 0:\n",
    "        return 0\n",
    "    elif n == 1:\n",
    "        return 1\n",
    "    else:\n",
    "        return fibo(n-1) + fibo(n-2)\n",
    "    \n",
    "#반복 알고리즘\n",
    "def fibo_iter(n):\n",
    "    if n < 2:\n",
    "        return n\n",
    "    last = 0\n",
    "    current = 1\n",
    "    for i in range(2, n+1):\n",
    "        tmp = current\n",
    "        current += last\n",
    "        last = tmp\n",
    "    return current"
   ]
  },
  {
   "cell_type": "markdown",
   "metadata": {},
   "source": [
    "### 순환은 복잡한 문제를 쉽게 해결할 수 있다 (하노이의 탑)"
   ]
  },
  {
   "cell_type": "code",
   "execution_count": 6,
   "metadata": {},
   "outputs": [
    {
     "name": "stdout",
     "output_type": "stream",
     "text": [
      "원판 1: A --> B\n",
      "원판 2: A --> C\n",
      "원판 1: B --> C\n",
      "원판 3: A --> B\n",
      "원판 1: C --> A\n",
      "원판 2: C --> B\n",
      "원판 1: A --> B\n",
      "원판 4: A --> C\n",
      "원판 1: B --> C\n",
      "원판 2: B --> A\n",
      "원판 1: C --> A\n",
      "원판 3: B --> C\n",
      "원판 1: A --> B\n",
      "원판 2: A --> C\n",
      "원판 1: B --> C\n"
     ]
    }
   ],
   "source": [
    "def hanoi(n, fr, tmp, to):\n",
    "    if n==1:\n",
    "        print(\"원판 1: %s --> %s\" % (fr, to))\n",
    "    else:\n",
    "        hanoi(n-1, fr, to, tmp)\n",
    "        print(\"원판 %d: %s --> %s\" % (n,fr,to))\n",
    "        hanoi(n-1, tmp, fr, to)\n",
    "hanoi(4, 'A','B','C')"
   ]
  },
  {
   "cell_type": "code",
   "execution_count": null,
   "metadata": {},
   "outputs": [],
   "source": []
  }
 ],
 "metadata": {
  "kernelspec": {
   "display_name": "Python 3",
   "language": "python",
   "name": "python3"
  },
  "language_info": {
   "codemirror_mode": {
    "name": "ipython",
    "version": 3
   },
   "file_extension": ".py",
   "mimetype": "text/x-python",
   "name": "python",
   "nbconvert_exporter": "python",
   "pygments_lexer": "ipython3",
   "version": "3.7.3"
  }
 },
 "nbformat": 4,
 "nbformat_minor": 2
}
