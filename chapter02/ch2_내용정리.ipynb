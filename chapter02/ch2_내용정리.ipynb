{
 "cells": [
  {
   "cell_type": "markdown",
   "metadata": {},
   "source": [
    "# 파이썬 리뷰"
   ]
  },
  {
   "cell_type": "markdown",
   "metadata": {},
   "source": [
    "## 2.2 자료형, 리터럴과 변수"
   ]
  },
  {
   "cell_type": "markdown",
   "metadata": {},
   "source": [
    "식별자: 변수나 함수, 클래스 등 다양한 요소를 유일하게 구별할 수 있는 이름  \n",
    "예약어(키워드): 이미 특별한 의미가 주어진 이름들 ex) break, class, continue,..."
   ]
  },
  {
   "cell_type": "markdown",
   "metadata": {},
   "source": [
    "리터럴(liternal): \"값\" 그 자체로, 고정된 값을 표현하는 것을 의미한다. 리터럴은 그 형태에 따라 자료형이 결정된다."
   ]
  },
  {
   "cell_type": "markdown",
   "metadata": {},
   "source": [
    "변수: 데이터를 담는 공간 \n",
    "<br>\n",
    "\n",
    "### 변수의 동작 이해하기  "
   ]
  },
  {
   "cell_type": "markdown",
   "metadata": {},
   "source": [
    "![](./variable.jpg)"
   ]
  },
  {
   "cell_type": "markdown",
   "metadata": {},
   "source": [
    "변수 number는 리터럴 132에 의해 만들어진 정수(int)객체를 참조한다."
   ]
  },
  {
   "cell_type": "markdown",
   "metadata": {},
   "source": [
    "## 2.3 파이썬의 연산"
   ]
  },
  {
   "cell_type": "markdown",
   "metadata": {},
   "source": [
    "다른 프로그래밍 언어와 비슷하게 연산자를 제공한다\n",
    "- 산술 연산자\n",
    "- 이항 연산자\n",
    "- 단항 연산자\n",
    "- 관계 연산자\n",
    "- 불리언 연산자"
   ]
  },
  {
   "cell_type": "markdown",
   "metadata": {},
   "source": [
    "is, is not 연산자: 변수에 저장된 값(참조 객체의 주소)을 비교하기 위한 것이다. 객체의 내용 비교를 위해서는 == 연산자를 이용한다"
   ]
  },
  {
   "cell_type": "code",
   "execution_count": 1,
   "metadata": {},
   "outputs": [
    {
     "name": "stdout",
     "output_type": "stream",
     "text": [
      "True\n",
      "False\n",
      "True\n",
      "True\n",
      "2209328566664 2209328207880 2209328566664\n"
     ]
    }
   ],
   "source": [
    "list1 = [1,2,3]\n",
    "list2 = [1,2,3]\n",
    "list3 = list1\n",
    "\n",
    "print(list1 == list2)\n",
    "print(list1 is list2)\n",
    "print(list1 == list3)\n",
    "print(list1 is list3)\n",
    "\n",
    "print(id(list1), id(list2), id(list3))"
   ]
  },
  {
   "cell_type": "markdown",
   "metadata": {},
   "source": [
    "위의 결과에서 is 연산자는 변수의 id(참조 객체의 주소)를 비교하는 것을 확인할 수 있다."
   ]
  },
  {
   "cell_type": "markdown",
   "metadata": {},
   "source": [
    "## 2.4 함수 호출과 입출력 함수"
   ]
  },
  {
   "cell_type": "markdown",
   "metadata": {},
   "source": [
    "함수 호출: 함수의 호출은 이름과 함수로 전달하는 인수(argument)로 이루어진다.  \n",
    "키보드 입력함수: input()  \n",
    "화면 출력함수: print()"
   ]
  },
  {
   "cell_type": "markdown",
   "metadata": {},
   "source": [
    "## 2.5 제어 구조와 반복"
   ]
  },
  {
   "cell_type": "markdown",
   "metadata": {},
   "source": [
    "분기: 다른 언어와 같이 if/else를 지원하고, else if를 줄인 elif 키워드도 제공한다.  \n",
    "반복: 다른 언어와 같이 for/while을 지원한다."
   ]
  },
  {
   "cell_type": "markdown",
   "metadata": {},
   "source": [
    "## 2.6 컬렉션 자료형\n",
    "\n",
    "- 시퀀스형: str, list, tuple\n",
    "- 매핑형: dict\n",
    "- 집합형: set, frozenset\n",
    "\n",
    "자세한 내용은 이후 chapter에서 다룬다."
   ]
  },
  {
   "cell_type": "markdown",
   "metadata": {},
   "source": [
    "## 2.7 사용자 정의 함수"
   ]
  },
  {
   "cell_type": "markdown",
   "metadata": {},
   "source": [
    "![](./function.jpg)"
   ]
  },
  {
   "cell_type": "markdown",
   "metadata": {},
   "source": [
    "함수의 정의: 헤더와 몸체로 구성되며, 헤더부에는 함수 이름,매개변수목록이 정의된다. 몸체에는 실행하는 코드 블록이 정의된다.  \n",
    "함수의 호출: 함수를 호출할때 매개변수에 맞는 인수를 함수 헤더의 매개변수로 전달하면 코드 블록에 따라 결과를 반환하고, 반환된 결과를 함수를 호출한 위치로 되돌려준다."
   ]
  },
  {
   "cell_type": "markdown",
   "metadata": {},
   "source": [
    "파이썬의 함수는 여러 값을 반환할 수 있다. 이는 반환된 값들을 하나의 튜플로 만들어 반환한다.  \n",
    "<br>\n",
    "디폴트 인수(default argument): 함수의 매개변수에 기본 값을 부여하는 기능  \n",
    "키워드 인수(keyword argument): 함수의 매개변수 이름에 직접 값을 지정하여 함수를 호출"
   ]
  },
  {
   "cell_type": "markdown",
   "metadata": {},
   "source": [
    "## 2.8 변수의 범위"
   ]
  },
  {
   "cell_type": "markdown",
   "metadata": {},
   "source": [
    "- 내장 범위: 언어의 일부로 정의된 변수와 리터럴들을 말하는데 프로그램의 어디서나 사용할 수 있다.\n",
    "- 전역 범위: 소스 파일의 맨 꼭대기(함수나 클래스 밖)에서 생성된 변수들에 해당되며 프로그램의 어디에서나 사용할 수 있다.\n",
    "- 지역 범위: 함수나 클래스의 멤버함수(메소드) 안에서 생성된 변수들로 그 안에서만 사용할 수 있다. 함수의 매개변수들도 지역범위이다.\n",
    "- 인스턴스 범위: 클래스의 데이터 멤버로 생성된 변수들로 그 클래스 내의 다른 함수들에서 사용할 수 있다."
   ]
  },
  {
   "cell_type": "markdown",
   "metadata": {},
   "source": [
    "## 2.9 모듈과 이름 공간"
   ]
  },
  {
   "cell_type": "markdown",
   "metadata": {},
   "source": [
    "파이썬에서는 프로그래머가 손쉽게 자신만의 모듈을 만들어 사용할 수 있다. 이것은 큰 프로그램을 작성할 때 모든 코드를 하나의 파일에 작성하지 않고 여러 개의 파일에 나누어 작성하고 실행할 수 있도록 지원한다."
   ]
  },
  {
   "cell_type": "markdown",
   "metadata": {},
   "source": [
    "이름 공간(name space): 파이썬에서는 모든 모듈들은 자신의 이름공간을 이루고 있는데, 같은 이름공간 안에서는 모든 식별자를 자유롭게 사용할 수 있다.  \n",
    "<br>\n",
    "다른 모듈에서 import 해서 모듈을 사용할때는 import 하는 법에 따라 식별자가 달라진다 ex)math.pow, pow"
   ]
  },
  {
   "cell_type": "code",
   "execution_count": 9,
   "metadata": {},
   "outputs": [
    {
     "name": "stdout",
     "output_type": "stream",
     "text": [
      "1024.0\n"
     ]
    }
   ],
   "source": [
    "import math\n",
    "result = math.pow(2,10)\n",
    "print(result)"
   ]
  },
  {
   "cell_type": "code",
   "execution_count": 10,
   "metadata": {},
   "outputs": [
    {
     "name": "stdout",
     "output_type": "stream",
     "text": [
      "1024.0\n"
     ]
    }
   ],
   "source": [
    "from math import pow\n",
    "result = pow(2,10)\n",
    "print(result)"
   ]
  },
  {
   "cell_type": "markdown",
   "metadata": {},
   "source": [
    "## 2.10 클래스"
   ]
  },
  {
   "cell_type": "markdown",
   "metadata": {},
   "source": [
    "클래스: 객체를 찍어내는 틀  \n",
    "클래스는 속성을 나타내는 멤버 변수와 동작을 나타내는 메소드로 이루어진다."
   ]
  },
  {
   "cell_type": "code",
   "execution_count": 11,
   "metadata": {},
   "outputs": [],
   "source": [
    "class Car:\n",
    "    def __init__(self, color, speed = 0): #생성자\n",
    "        self.color = color\n",
    "        self.speed = speed\n",
    "    \n",
    "    def speedUp(self):\n",
    "        self.speed += 10\n",
    "        \n",
    "    def speedDown(self):\n",
    "        self.speed -= 10"
   ]
  },
  {
   "cell_type": "markdown",
   "metadata": {},
   "source": [
    "## 2.11 연산자 중복"
   ]
  },
  {
   "cell_type": "code",
   "execution_count": 12,
   "metadata": {},
   "outputs": [],
   "source": [
    "class Car:\n",
    "    def __init__(self, color, speed = 0): #생성자\n",
    "        self.color = color\n",
    "        self.speed = speed\n",
    "    \n",
    "    def speedUp(self):\n",
    "        self.speed += 10\n",
    "        \n",
    "    def speedDown(self):\n",
    "        self.speed -= 10\n",
    "    \n",
    "    def __eq__(self, carB): #연산자 중복\n",
    "        return self.color == carB.color"
   ]
  },
  {
   "cell_type": "markdown",
   "metadata": {},
   "source": [
    "위와 같이 매직메소드를 사용해서 연산자 중복을 통해 표준 연산자들을 클래스 객체들에 적용할 수 있다."
   ]
  },
  {
   "cell_type": "markdown",
   "metadata": {},
   "source": [
    "## 2.12 상속"
   ]
  },
  {
   "cell_type": "markdown",
   "metadata": {},
   "source": [
    "상속은 기존에 정의된 클래스로부터 멤버르 추가해 새로운 클래스를 간편하게 만드는 방법이다.  \n",
    "상속해주는 클래스: 부모 클래스  \n",
    "상속받는 클래스: 자식 클래스"
   ]
  },
  {
   "cell_type": "code",
   "execution_count": 14,
   "metadata": {},
   "outputs": [],
   "source": [
    "class SuperCar(Car):\n",
    "    def __init__(self, color, speed = 0, bTurbo = True):\n",
    "        super().__init__(color, speed) #부모 클래스의 생성자 호출\n",
    "        self.bTurbo = bTurbo\n",
    "    \n",
    "    def setTurbo(self, bTurbo = True):\n",
    "        self.bTurbo = bTurbo\n",
    "    \n",
    "    def speedUp(self):          #SuperCar의 SpeedUp 메소드 재정의\n",
    "        if self.bTurbo:         #터보모드이면\n",
    "            self.speed += 50    #속도가 급속히 증가\n",
    "        else:                   #터보모드 아니면\n",
    "            super().speedUp()   #일반 자동차의 가속 메소드 호출"
   ]
  },
  {
   "cell_type": "markdown",
   "metadata": {},
   "source": [
    "speedUp()은 부모 클래스에 이미 정의되어 있지만 자식에서 내용이 변경되어 다시 정의한 함수로 재정의(overriding)라 한다."
   ]
  },
  {
   "cell_type": "code",
   "execution_count": null,
   "metadata": {},
   "outputs": [],
   "source": []
  }
 ],
 "metadata": {
  "kernelspec": {
   "display_name": "Python 3",
   "language": "python",
   "name": "python3"
  },
  "language_info": {
   "codemirror_mode": {
    "name": "ipython",
    "version": 3
   },
   "file_extension": ".py",
   "mimetype": "text/x-python",
   "name": "python",
   "nbconvert_exporter": "python",
   "pygments_lexer": "ipython3",
   "version": "3.7.3"
  }
 },
 "nbformat": 4,
 "nbformat_minor": 2
}
