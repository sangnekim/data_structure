{
 "cells": [
  {
   "cell_type": "markdown",
   "metadata": {},
   "source": [
    "# 리스트와 집합"
   ]
  },
  {
   "cell_type": "markdown",
   "metadata": {},
   "source": [
    "## 3.1 리스트란?\n",
    "\n",
    "리스트: 항목들이 차례대로 나열되어 있는 선형 자료구조\n",
    "- 항목들 사이에 순서가 있다.\n",
    "- 임의의 위치에 항목을 삽입하거나 삭제하는 것이 허용된다."
   ]
  },
  {
   "cell_type": "markdown",
   "metadata": {},
   "source": [
    "리스트는 배열 구조와 연결된 구조로 구현할 수 있다.\n",
    "- 배열(array) 구조: 같은 자료형의 데이터를 한꺼번에 만들 때 사용, 항목들이 반드시 메모리에서 연속적인 공간에 위치한다. 항목 접근의 시간 복잡도가 O(1)이다.\n",
    "- 연결된 구조(linked structure): 링크를 이용해 다음 항목의 위치만 알고 있다. 항목 접근의 시간 복잡도가 O(k)이다.\n",
    "\n",
    "![](array_and_linked.jpg)"
   ]
  },
  {
   "cell_type": "markdown",
   "metadata": {},
   "source": [
    "리스트와 관련된 용어 정리\n",
    "- 파이썬 리스트: 배열 또는 배열 구조의 의미로 사용, 어떤 자료구조를 구현하기 위한 하나의 방법으로 사용한다.\n",
    "- 연결 리스트: 자료들이 일렬로 나열할 수 있는 연결된 구조를 말한다. 배열 구조(파이썬 리스트)에 대응되는 의미로 사용한다.\n",
    "- 자료구조 리스트: 추상적인 의미의 자료구조 리스트를 의미한다. 이를 구현하기 위해 배열 구조나 연결된 구조를 사용한다."
   ]
  },
  {
   "cell_type": "markdown",
   "metadata": {},
   "source": [
    "## 파이썬의 리스트"
   ]
  },
  {
   "cell_type": "markdown",
   "metadata": {},
   "source": [
    "파이썬 리스트는 동적 배열로 구현되었다\n",
    "- 기본 아이디어: 필요한 양보다 넉넉한 크기의 메모리를 사용한다.\n",
    "<br>\n",
    "\n",
    "![](dynamic.jpg)  \n",
    "<br>\n",
    "- 크기 < 용량인 경우 여분의 공간이 있으므로 추가를 수행하면 된다.\n",
    "- 크기 == 용량인 경우 동적 배열의 개념을 이용한다\n",
    "    - step1: 용량을 확장한 새로운 메모리를 할당\n",
    "    - step2: 이전 메모리에 저장된 모든 항목들을 새로운 메모리로 복사한다.\n",
    "    - step3: 새로운 항목을 추가한다.\n",
    "    - step4: 이제 리스트는 새로운 메모리를 가리키고, 이전 메모리는 해제한다.\n",
    "- 파이썬의 리스트는 용량을 늘리수 있어 편리하지만, 메모리의 낭비를 감수해야한다. 따라서 메모리 측면에서는 튜플이 더 효율적이라 볼 수 있다."
   ]
  },
  {
   "cell_type": "markdown",
   "metadata": {},
   "source": [
    "파이썬 리스트의 시간 복잡도\n",
    "- append(): O(1)\n",
    "- insert(): 맨 앞에 새로운 항목을 삽입하려면 먼저 모든 항목을 한 칸씩 뒤로 이동해야 한다. 따라서 O(n)\n",
    "- pop(): 맨 앞에서 항목을 삭제하면 이후의 모든 항목들을 한 칸씩 앞으로 이동해야 한다. 따라서 O(n)\n",
    "- 파이썬 리스트는 후단 삽입이나 삭제는 효율적이지만 중간이나 전단에 항목을 삽입하거나 삭제하는 것은 비효율적이다."
   ]
  },
  {
   "cell_type": "markdown",
   "metadata": {},
   "source": [
    "## 3.3 배열로 구현한 리스트"
   ]
  },
  {
   "cell_type": "code",
   "execution_count": 1,
   "metadata": {},
   "outputs": [],
   "source": [
    "class ArrayList:\n",
    "    def __init__(self):\n",
    "        self.items = []\n",
    "        \n",
    "    def insert(self, pos, elem):\n",
    "        self.items.insert(pos, elem)\n",
    "        \n",
    "    def delete(self, pos):\n",
    "        return self.items.pop(pos)\n",
    "    \n",
    "    def isEmpty(self):\n",
    "        return self.size() == 0\n",
    "    \n",
    "    def getEntry(self, pos):\n",
    "        return self.items[pos]\n",
    "    \n",
    "    def size(self):\n",
    "        return len(self.items)\n",
    "    \n",
    "    def clear(self):\n",
    "        self.items = []\n",
    "    \n",
    "    def find(self, item):\n",
    "        return self.items.index(item)\n",
    "    \n",
    "    def replace(self, pos, elem):\n",
    "        self.items[pos] = elem\n",
    "    \n",
    "    def sort(self):\n",
    "        self.items.sort()\n",
    "    \n",
    "    def merge(self, lst):\n",
    "        self.items.extend(lst)\n",
    "    \n",
    "    def display(self, msg = 'ArrayList:'):\n",
    "        print(msg, self.size(), self.items)"
   ]
  },
  {
   "cell_type": "code",
   "execution_count": 2,
   "metadata": {},
   "outputs": [
    {
     "name": "stdout",
     "output_type": "stream",
     "text": [
      "파이썬 리스트로 구현한 리스트 테스트 0 []\n",
      "파이썬 리스트로 구현한 List(삽입x5):  5 [20, 30, 50, 10, 40]\n",
      "파이썬 리스트로 구현한 List(정렬후):  5 [10, 20, 30, 40, 50]\n",
      "파이썬 리스트로 구현한 List(교체x1):  5 [10, 20, 90, 40, 50]\n",
      "파이썬 리스트로 구현한 List(삭제x3):  2 [20, 40]\n",
      "파이썬 리스트로 구현한 List(병합+3):  5 [20, 40, 1, 2, 3]\n",
      "파이썬 리스트로 구현한 List(정리후):  0 []\n"
     ]
    }
   ],
   "source": [
    "s = ArrayList()\n",
    "s.display('파이썬 리스트로 구현한 리스트 테스트')\n",
    "s.insert(0,10); s.insert(0,20); s.insert(1,30)\n",
    "s.insert(s.size(),40); s.insert(2, 50)\n",
    "s.display('파이썬 리스트로 구현한 List(삽입x5): ')\n",
    "s.sort()\n",
    "s.display('파이썬 리스트로 구현한 List(정렬후): ')\n",
    "s.replace(2, 90)\n",
    "s.display('파이썬 리스트로 구현한 List(교체x1): ')\n",
    "s.delete(2); s.delete(s.size()-1); s.delete(0)\n",
    "s.display('파이썬 리스트로 구현한 List(삭제x3): ')\n",
    "lst = [1,2,3]\n",
    "s.merge(lst)\n",
    "s.display('파이썬 리스트로 구현한 List(병합+3): ')\n",
    "s.clear()\n",
    "s.display('파이썬 리스트로 구현한 List(정리후): ')"
   ]
  },
  {
   "cell_type": "markdown",
   "metadata": {},
   "source": [
    "## 리스트의 응용: 라인 편집기"
   ]
  },
  {
   "cell_type": "code",
   "execution_count": 4,
   "metadata": {},
   "outputs": [],
   "source": [
    "def myLineEditor():\n",
    "    list = ArrayList()\n",
    "    while True:\n",
    "        command = input('[매뉴선택]i-입력, d-삭제, r-변경, p-출력, l-파일읽기, s-저장, q-종료=> ')\n",
    "        if command == 'i':\n",
    "            pos = int(input('  입력행 번호: '))\n",
    "            str = input('  입력행 내용: ')\n",
    "            list.insert(pos, str)\n",
    "        elif command == 'd':\n",
    "            pos = int(input('  삭제행 번호: '))\n",
    "            list.delete(pos)\n",
    "        elif command == 'r':\n",
    "            pos = int(input('  변경행 번호: '))\n",
    "            str = input('  변경행 내용: ')\n",
    "            list.replace(pos, str)\n",
    "        elif command == 'q':\n",
    "            return\n",
    "        elif command == 'p':\n",
    "            print('Line Editor')\n",
    "            for line in range(list.size()):\n",
    "                print('[%2d]'%line, end = '')\n",
    "                print(list.getEntry(line))\n",
    "            print()\n",
    "        elif command == 'l':\n",
    "            filename = 'test.txt'\n",
    "            infile = open(filename, 'r')\n",
    "            lines = infile.readlines()\n",
    "            for line in lines:\n",
    "                list.insert(list.size(), line.rstrip('\\n'))\n",
    "            infile.close()\n",
    "        elif command == 's':\n",
    "            filename = 'test.txt'\n",
    "            outfile = open(filename, 'w')\n",
    "            for i in range(list.size()):\n",
    "                outfile.write(list.getEntry(i) + '\\n')\n",
    "            outfile.close()"
   ]
  },
  {
   "cell_type": "code",
   "execution_count": 5,
   "metadata": {},
   "outputs": [
    {
     "name": "stdin",
     "output_type": "stream",
     "text": [
      "[매뉴선택]i-입력, d-삭제, r-변경, p-출력, l-파일읽기, s-저장, q-종료=>  i\n",
      "  입력행 번호:  0\n",
      "  입력행 내용:  Contents\n",
      "[매뉴선택]i-입력, d-삭제, r-변경, p-출력, l-파일읽기, s-저장, q-종료=>  i\n",
      "  입력행 번호:  1\n",
      "  입력행 내용:  자료구조와 알고리즘\n",
      "[매뉴선택]i-입력, d-삭제, r-변경, p-출력, l-파일읽기, s-저장, q-종료=>  i\n",
      "  입력행 번호:  2\n",
      "  입력행 내용:  리스트\n",
      "[매뉴선택]i-입력, d-삭제, r-변경, p-출력, l-파일읽기, s-저장, q-종료=>  i\n",
      "  입력행 번호:  3\n",
      "  입력행 내용:  스택, 큐, 덱\n",
      "[매뉴선택]i-입력, d-삭제, r-변경, p-출력, l-파일읽기, s-저장, q-종료=>  p\n"
     ]
    },
    {
     "name": "stdout",
     "output_type": "stream",
     "text": [
      "Line Editor\n",
      "[ 0]Contents\n",
      "[ 1]자료구조와 알고리즘\n",
      "[ 2]리스트\n",
      "[ 3]스택, 큐, 덱\n",
      "\n"
     ]
    },
    {
     "name": "stdin",
     "output_type": "stream",
     "text": [
      "[매뉴선택]i-입력, d-삭제, r-변경, p-출력, l-파일읽기, s-저장, q-종료=>  d\n",
      "  삭제행 번호:  1\n",
      "[매뉴선택]i-입력, d-삭제, r-변경, p-출력, l-파일읽기, s-저장, q-종료=>  p\n"
     ]
    },
    {
     "name": "stdout",
     "output_type": "stream",
     "text": [
      "Line Editor\n",
      "[ 0]Contents\n",
      "[ 1]리스트\n",
      "[ 2]스택, 큐, 덱\n",
      "\n"
     ]
    },
    {
     "name": "stdin",
     "output_type": "stream",
     "text": [
      "[매뉴선택]i-입력, d-삭제, r-변경, p-출력, l-파일읽기, s-저장, q-종료=>  q\n"
     ]
    }
   ],
   "source": [
    "myLineEditor()"
   ]
  },
  {
   "cell_type": "markdown",
   "metadata": {},
   "source": [
    "## 3.5 집합이란?"
   ]
  },
  {
   "cell_type": "markdown",
   "metadata": {},
   "source": [
    "- 원소의 중복을 허요하지 않으며 원소들 사이에 순서가 없다는 면에서 리스트와는 다르다.\n",
    "- 워소들이 어떤 위치를 가지지도 않고, 원소들을 일렬로 나열하는 의미도 적용되기 어렵기 때문에 선형 자료구조로 볼 수 없다."
   ]
  },
  {
   "cell_type": "markdown",
   "metadata": {},
   "source": [
    "## 3.6 집합의 구현"
   ]
  },
  {
   "cell_type": "code",
   "execution_count": 6,
   "metadata": {},
   "outputs": [],
   "source": [
    "class Set:\n",
    "    def __init__(self):\n",
    "        self.items = []\n",
    "    \n",
    "    def size(self):\n",
    "        return len(self.items)\n",
    "    \n",
    "    def display(self, msg):\n",
    "        print(msg, self.items)\n",
    "    \n",
    "    def contains(self, item):\n",
    "        return item in self.items\n",
    "    \n",
    "    def insert(self, elem):\n",
    "        if elem not in self.items:\n",
    "            self.items.append(elem)\n",
    "    \n",
    "    def delete(self, elem):\n",
    "        if elem in self.items:\n",
    "            self.items.remove(elem)\n",
    "    \n",
    "    def union(self, setB):\n",
    "        setC = Set()\n",
    "        setC.items = list(self.items)\n",
    "        for elem in setB.items:\n",
    "            setC.items.append(elem)\n",
    "        return setC\n",
    "    \n",
    "    def intersect(self, setB):\n",
    "        setC = Set()\n",
    "        for elem in setB.items:\n",
    "            if elem in self.items:\n",
    "                setC.items.append(elem)\n",
    "        return setC\n",
    "    \n",
    "    def difference(self, setB):\n",
    "        setC = Set()\n",
    "        for elem in self.items:\n",
    "            if elem not in setB.items:\n",
    "                setC.items.append(elem)\n",
    "        return setC"
   ]
  },
  {
   "cell_type": "code",
   "execution_count": 7,
   "metadata": {},
   "outputs": [
    {
     "name": "stdout",
     "output_type": "stream",
     "text": [
      "Set A: ['휴대폰', '지갑', '손수건']\n",
      "Set B: ['빗', '파이썬 자료구조', '야구공', '지갑']\n",
      "Set A: ['휴대폰', '지갑']\n",
      "Set B: ['빗', '파이썬 자료구조', '야구공', '지갑']\n",
      "A U B: ['휴대폰', '지갑', '빗', '파이썬 자료구조', '야구공', '지갑']\n",
      "A ^ B: ['지갑']\n",
      "A - B: ['휴대폰']\n"
     ]
    }
   ],
   "source": [
    "setA = Set()\n",
    "setA.insert('휴대폰')\n",
    "setA.insert('지갑')\n",
    "setA.insert('손수건')\n",
    "setA.display('Set A:')\n",
    "\n",
    "setB = Set()\n",
    "setB.insert('빗')\n",
    "setB.insert('파이썬 자료구조')\n",
    "setB.insert('야구공')\n",
    "setB.insert('지갑')\n",
    "setB.display('Set B:')\n",
    "\n",
    "setB.insert('빗')\n",
    "setA.delete('손수건')\n",
    "setA.delete('발수건')\n",
    "setA.display('Set A:')\n",
    "setB.display('Set B:')\n",
    "\n",
    "setA.union(setB).display('A U B:')\n",
    "setA.intersect(setB).display('A ^ B:')\n",
    "setA.difference(setB).display('A - B:')"
   ]
  },
  {
   "cell_type": "code",
   "execution_count": null,
   "metadata": {},
   "outputs": [],
   "source": []
  }
 ],
 "metadata": {
  "kernelspec": {
   "display_name": "Python 3",
   "language": "python",
   "name": "python3"
  },
  "language_info": {
   "codemirror_mode": {
    "name": "ipython",
    "version": 3
   },
   "file_extension": ".py",
   "mimetype": "text/x-python",
   "name": "python",
   "nbconvert_exporter": "python",
   "pygments_lexer": "ipython3",
   "version": "3.7.3"
  }
 },
 "nbformat": 4,
 "nbformat_minor": 2
}
