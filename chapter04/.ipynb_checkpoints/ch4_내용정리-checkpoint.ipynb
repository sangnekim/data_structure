{
 "cells": [
  {
   "cell_type": "markdown",
   "metadata": {},
   "source": [
    "# 스택"
   ]
  },
  {
   "cell_type": "markdown",
   "metadata": {},
   "source": [
    "## 4.1 스택이란?"
   ]
  },
  {
   "cell_type": "markdown",
   "metadata": {},
   "source": [
    "스택: 후입선출(LIFO)의 자료구조\n",
    "- 삽입과 삭제는 상단으로만 할 수 있다.\n",
    "- 스택의 중간에는 항목을 삽입하거나 삭제 할 수 없다.\n",
    "- 따라서 연산이 매운 간단해진다."
   ]
  },
  {
   "cell_type": "markdown",
   "metadata": {},
   "source": [
    "![](stack.jpg)"
   ]
  },
  {
   "cell_type": "markdown",
   "metadata": {},
   "source": [
    "스택의 추상자료형\n",
    "- Stack(): 비어 있는 새로운 스택을 만든다.\n",
    "- isEmpty(): 스택이 비어있으면 True 아니면 False를 반환한다.\n",
    "- push(e): 항목 e를 스택의 맨 위에 추가한다.\n",
    "- pop(): 스택의 맨 위에 있는 항목을 꺼내 반환한다.\n",
    "- peek(): 스택의 맨 위에 있는 항목을 삭제하지 않고 반환한다.\n",
    "- size(): 스택내의 모든 항목들의 개수를 반환한다.\n",
    "- clear(): 스택을 공백상태로 만든다."
   ]
  },
  {
   "cell_type": "markdown",
   "metadata": {},
   "source": [
    "스택은 어디에 사용할까?\n",
    "- 문서나 그림, 수식 등의 편집기에서 되돌리기(undo) 기능을 구현할 때\n",
    "- 함수 호출에서 복귀주소를 기억하는데\n",
    "- 등등..."
   ]
  },
  {
   "cell_type": "markdown",
   "metadata": {},
   "source": [
    "## 4.2 스택의 구현"
   ]
  },
  {
   "cell_type": "code",
   "execution_count": 49,
   "metadata": {},
   "outputs": [],
   "source": [
    "class Stack:\n",
    "    def __init__(self):\n",
    "        self.top = []\n",
    "    \n",
    "    def __str__(self):\n",
    "        return str(self.top)\n",
    "\n",
    "    def isEmpty(self):\n",
    "        return len(self.top) == 0\n",
    "\n",
    "    def size(self):\n",
    "        return len(self.top)\n",
    "\n",
    "    def clear(self):\n",
    "        self.top = []\n",
    "\n",
    "    def push(self, item):\n",
    "        self.top.append(item)\n",
    "\n",
    "    def pop(self):\n",
    "        if not self.isEmpty():\n",
    "            return self.top.pop(-1)\n",
    "\n",
    "    def peek(self):\n",
    "        if not self.isEmpty():\n",
    "            return self.top[-1]"
   ]
  },
  {
   "cell_type": "code",
   "execution_count": 50,
   "metadata": {},
   "outputs": [
    {
     "name": "stdout",
     "output_type": "stream",
     "text": [
      " 스택 even push 5회:  [0, 2, 4, 6, 8]\n",
      " 스택 odd push 5회:  [1, 3, 5, 7, 9]\n",
      " 스택 even    peek:  8\n",
      " 스택 odd     peek:  9\n",
      " 스택 even pop 2회:  [0, 2, 4]\n",
      " 스택 odd pop 2회:  [1, 3, 5]\n"
     ]
    }
   ],
   "source": [
    "odd = Stack()\n",
    "even = Stack()\n",
    "\n",
    "for i in range(10):\n",
    "    if i%2 == 0:\n",
    "        even.push(i)\n",
    "    else:\n",
    "        odd.push(i)\n",
    "\n",
    "\n",
    "print(' 스택 even push 5회: ', even.top)\n",
    "print(' 스택 odd push 5회: ', odd.top)\n",
    "print(' 스택 even    peek: ', even.peek())\n",
    "print(' 스택 odd     peek: ', odd.peek())\n",
    "for _ in range(2):\n",
    "    even.pop()\n",
    "for _ in range(2):\n",
    "    odd.pop()\n",
    "    \n",
    "print(' 스택 even pop 2회: ', even.top)\n",
    "print(' 스택 odd pop 2회: ', odd.top)"
   ]
  },
  {
   "cell_type": "markdown",
   "metadata": {},
   "source": [
    "## 4.3 스택의 응용: 괄호 검사\n",
    "- 조건1: 왼쪽 괄호의 개수와 오른쪽 괄호의 개수가 같아야 한다.\n",
    "- 조건2: 같은 타입의 괄호에서 왼쪽 괄호가 오른쪽 괄호보다 먼저 나와야 한다.\n",
    "- 조건3: 서로 다른 타입의 괄호 쌍이 서로를 교차하면 안된다."
   ]
  },
  {
   "cell_type": "code",
   "execution_count": 51,
   "metadata": {},
   "outputs": [],
   "source": [
    "def checkBrackets(statement):\n",
    "    stack = Stack()\n",
    "    for ch in statement:\n",
    "        if ch in ('{','[','('):\n",
    "            stack.push(ch)\n",
    "        elif ch in ('}', ']',')'):\n",
    "            if stack.isEmpty():\n",
    "                return False     #조건 2 위반\n",
    "            else:\n",
    "                left = stack.pop()\n",
    "                if (ch == '}' and left != '{') or\\\n",
    "                    (ch == ']' and left != '[') or\\\n",
    "                    (ch == ')' and left != '('):\n",
    "                    return False   #조건 3 위반\n",
    "\n",
    "    return stack.isEmpty() #False 이면 조건 1위반"
   ]
  },
  {
   "cell_type": "code",
   "execution_count": 52,
   "metadata": {},
   "outputs": [
    {
     "name": "stdout",
     "output_type": "stream",
     "text": [
      "{A[(i+1)] == 0} -----> True\n",
      "if((i==0) && (j==0) -----> False\n",
      "A[(i+1]) = 0 -----> False\n"
     ]
    }
   ],
   "source": [
    "strings = (\"{A[(i+1)] == 0}\", \"if((i==0) && (j==0)\", \"A[(i+1]) = 0\")\n",
    "for s in strings:\n",
    "    m = checkBrackets(s)\n",
    "    print(s, \"----->\", m)"
   ]
  },
  {
   "cell_type": "markdown",
   "metadata": {},
   "source": [
    "## 4.4 스택의 응용: 수식의 계산\n",
    "\n",
    "### 스택을 이용한 후위표기 수식의 계산\n",
    "- 피연산자가 나오면 무조건 스택에 저장\n",
    "- 연산자가 나오면 스택에서 피연산자 두 개를 꺼내 연산을 실행\n",
    "- 그 결과를 다시 스택에 저장"
   ]
  },
  {
   "cell_type": "markdown",
   "metadata": {},
   "source": [
    "![](postcal.jpg)"
   ]
  },
  {
   "cell_type": "code",
   "execution_count": 53,
   "metadata": {},
   "outputs": [],
   "source": [
    "def evalPostfifx(expr):\n",
    "    s = Stack()\n",
    "    for token in expr:\n",
    "        if token in \"+-*/\": #항목이 연산자이면 연산 수행 -> 결과 저장\n",
    "            val2 = s.pop()\n",
    "            val1 = s.pop()\n",
    "            if (token == '+'):\n",
    "                s.push(val1 + val2)\n",
    "            elif (token == '-'):\n",
    "                s.push(val1 - val2)\n",
    "            elif (token == '*'):\n",
    "                s.push(val1 * val2)\n",
    "            elif (token == '/'):\n",
    "                s.push(val1 / val2)\n",
    "        else:               #항목이 피연산자이면 실수로 변경해서 스택에 저장\n",
    "            s.push(float(token))\n",
    "        \n",
    "    return s.pop()"
   ]
  },
  {
   "cell_type": "code",
   "execution_count": 54,
   "metadata": {},
   "outputs": [
    {
     "name": "stdout",
     "output_type": "stream",
     "text": [
      "['8', '2', '/', '3', '-', '3', '2', '*', '+'] ---> 7.0\n",
      "['1', '2', '/', '4', '*', '1', '4', '/', '*'] ---> 0.5\n"
     ]
    }
   ],
   "source": [
    "expr1 = ['8','2','/','3','-','3','2','*','+']\n",
    "expr2 = ['1','2','/','4','*','1','4','/','*']\n",
    "print(expr1, '--->', evalPostfifx(expr1))\n",
    "print(expr2, '--->', evalPostfifx(expr2))"
   ]
  },
  {
   "cell_type": "markdown",
   "metadata": {},
   "source": [
    "## 스택을 이용한 중위표기 수식의 후위표기 변환"
   ]
  },
  {
   "cell_type": "markdown",
   "metadata": {},
   "source": [
    "- 입력된 중위표기 수식을 순서대로 하나씩 스캔한다.\n",
    "- 피연산자를 만나면 바로 (후위표기 수식으로) 출력한다.\n",
    "- 연산자를 만나면 어디간에 잠시 저장해야 한다. 후위표기에서는 연산자가 피연산자들 뒤에 나오기 때문이다. 따라서 적절한 위치를 찾을 때 까지 출력을 보류하여야 한다. 연산자의 저장에는 스택이 사용된다."
   ]
  },
  {
   "cell_type": "markdown",
   "metadata": {},
   "source": [
    "![](mid2post.jpg)"
   ]
  },
  {
   "cell_type": "code",
   "execution_count": 55,
   "metadata": {},
   "outputs": [],
   "source": [
    "def precedence(op): #연산자의 우선순위 반환\n",
    "    if op == '(' or op ==')':\n",
    "        return 0\n",
    "    elif op == '+' or op =='-':\n",
    "        return 1\n",
    "    elif op == '*' or op == '/':\n",
    "        return 2\n",
    "    else:\n",
    "        return -1"
   ]
  },
  {
   "cell_type": "code",
   "execution_count": 56,
   "metadata": {},
   "outputs": [],
   "source": [
    "def Infix2Postfix(expr):\n",
    "    s = Stack()\n",
    "    output = []\n",
    "    for term in expr:\n",
    "        if term in '(':\n",
    "            s.push('(')\n",
    "        elif term in ')':          #왼쪽 괄호가 나올 때 까지 스택에서 연산자를 꺼내 출력\n",
    "            while not s.isEmpty():\n",
    "                op = s.pop()\n",
    "                if op == '(':\n",
    "                    break\n",
    "                else:\n",
    "                    output.append(op)\n",
    "        elif term in '+-*/':       #연산자이면 우선순위가 높거나 같은 연산자를 스택에서 모두 꺼내 출력\n",
    "            while not s.isEmpty():\n",
    "                op = s.peek()\n",
    "                if (precedence(term) <= precedence(op)):\n",
    "                    output.append(op)\n",
    "                    s.pop()\n",
    "                else:\n",
    "                    break\n",
    "            s.push(term)         #마지막으로 현재 연산자 스택에 삽입\n",
    "        else:                    #피연산이면 바로 출력\n",
    "            output.append(term)\n",
    "    \n",
    "    while not s.isEmpty():      #처리가 끝났으면 스택에 남은 항목을 모두 출력\n",
    "        output.append(s.pop())\n",
    "    \n",
    "    return output"
   ]
  },
  {
   "cell_type": "code",
   "execution_count": 57,
   "metadata": {},
   "outputs": [
    {
     "name": "stdout",
     "output_type": "stream",
     "text": [
      " 중위표기:  ['8', '/', '2', '-', '3', '+', '(', '3', '*', '2', ')']\n",
      " 후위표기:  ['8', '2', '/', '3', '-', '3', '2', '*', '+']\n",
      " 계산결과:  7.0\n",
      "\n",
      " 중위표기:  ['1', '/', '2', '*', '4', '*', '(', '1', '/', '4', ')']\n",
      " 후위표기:  ['1', '2', '/', '4', '*', '1', '4', '/', '*']\n",
      " 계산결과:  0.5\n"
     ]
    }
   ],
   "source": [
    "infix1 = ['8','/','2','-','3','+','(','3','*','2',')']\n",
    "infix2 = ['1','/','2','*','4','*','(','1','/','4',')']\n",
    "postfix1 = Infix2Postfix(infix1)\n",
    "postfix2 = Infix2Postfix(infix2)\n",
    "result1 = evalPostfifx(postfix1)\n",
    "result2 = evalPostfifx(postfix2)\n",
    "print(' 중위표기: ', infix1)\n",
    "print(' 후위표기: ', postfix1)\n",
    "print(' 계산결과: ', result1, end = '\\n\\n')\n",
    "print(' 중위표기: ', infix2)\n",
    "print(' 후위표기: ', postfix2)\n",
    "print(' 계산결과: ', result2)"
   ]
  },
  {
   "cell_type": "markdown",
   "metadata": {},
   "source": [
    "## 4.5 스택의 응용: 미로 탐색"
   ]
  },
  {
   "cell_type": "markdown",
   "metadata": {},
   "source": [
    "깊이 우선 탐색(DFS): 스택에 지나온 경로를 저장하고 가던 길이 막히면 가장 최근에 있었던 갈림길로 되돌아가서 다른 곳을 찾아 본다."
   ]
  },
  {
   "cell_type": "code",
   "execution_count": 65,
   "metadata": {},
   "outputs": [],
   "source": [
    "map = [['1','1','1','1','1','1'],\n",
    "      ['e','0','0','0','0','1'],\n",
    "      ['1','0','1','0','1','1'],\n",
    "      ['1','1','1','0','0','x'],\n",
    "      ['1','1','1','0','1','1'],\n",
    "      ['1','1','1','1','1','1']]\n",
    "MAZE_SIZE = 6"
   ]
  },
  {
   "cell_type": "markdown",
   "metadata": {},
   "source": [
    "- step1: 시작위치를 스택에 넣는다. 현재 스택에는 시작위치만 들어 있다.\n",
    "- step2: 스택이 공백이 아니면 하나의 위치를 꺼낸다. 이것이 현재위치이다. 현재 위치에 '방문했음' 표시를 한다. 만약 스택이 공백이라면 이 미로에는 출구가 없는 것이므로 종료한다.\n",
    "- step3: 만약 현재위치가 출구이면 탐색은 성공으로 끝난다.\n",
    "- step4: 그렇지 않으면 이웃(상하좌우)방들을 살펴본다. 만약 이웃 방들이 아직 방문되지 않았고 갈 수 있는 방이라면 그 방의 위치를 모두 스택에 삽입한다. 다시 step2로 돌아간다."
   ]
  },
  {
   "cell_type": "code",
   "execution_count": 66,
   "metadata": {},
   "outputs": [],
   "source": [
    "def isValidPos(x,y):\n",
    "    if x < 0 or y < 0 or x >= MAZE_SIZE or y >= MAZE_SIZE:\n",
    "        return False\n",
    "    else:\n",
    "        return map[y][x] == '0' or map[y][x] == 'x'\n",
    "\n",
    "def DFS():\n",
    "    stack = Stack()\n",
    "    stack.push((0,1)) #시작위치 삽입\n",
    "    print('DFS: ')\n",
    "    \n",
    "    while not stack.isEmpty():\n",
    "        here = stack.pop()\n",
    "        print(here, end= '->')\n",
    "        (x,y) = here\n",
    "        if (map[y][x] == 'x'):\n",
    "            return True\n",
    "        else:\n",
    "            map[y][x] = '.' #현재위치를 지나왔다고 '.'표시\n",
    "            if isValidPos(x, y-1):\n",
    "                stack.push((x,y-1)) #상\n",
    "            if isValidPos(x, y+1):\n",
    "                stack.push((x, y+1)) #하\n",
    "            if isValidPos(x-1, y):\n",
    "                stack.push((x-1, y)) #좌\n",
    "            if isValidPos(x+1, y):\n",
    "                stack.push((x+1, y)) #우\n",
    "        print(' 현재 스택: ', stack)\n",
    "    return False"
   ]
  },
  {
   "cell_type": "code",
   "execution_count": 67,
   "metadata": {},
   "outputs": [
    {
     "name": "stdout",
     "output_type": "stream",
     "text": [
      "DFS: \n",
      "(0, 1)-> 현재 스택:  [(1, 1)]\n",
      "(1, 1)-> 현재 스택:  [(1, 2), (2, 1)]\n",
      "(2, 1)-> 현재 스택:  [(1, 2), (3, 1)]\n",
      "(3, 1)-> 현재 스택:  [(1, 2), (3, 2), (4, 1)]\n",
      "(4, 1)-> 현재 스택:  [(1, 2), (3, 2)]\n",
      "(3, 2)-> 현재 스택:  [(1, 2), (3, 3)]\n",
      "(3, 3)-> 현재 스택:  [(1, 2), (3, 4), (4, 3)]\n",
      "(4, 3)-> 현재 스택:  [(1, 2), (3, 4), (5, 3)]\n",
      "(5, 3)->--> 미로탐색 성공\n"
     ]
    }
   ],
   "source": [
    "result = DFS()\n",
    "if result:\n",
    "    print('--> 미로탐색 성공')\n",
    "else:\n",
    "    print('--> 미로탐색 실패')"
   ]
  },
  {
   "cell_type": "code",
   "execution_count": null,
   "metadata": {},
   "outputs": [],
   "source": []
  }
 ],
 "metadata": {
  "kernelspec": {
   "display_name": "Python 3",
   "language": "python",
   "name": "python3"
  },
  "language_info": {
   "codemirror_mode": {
    "name": "ipython",
    "version": 3
   },
   "file_extension": ".py",
   "mimetype": "text/x-python",
   "name": "python",
   "nbconvert_exporter": "python",
   "pygments_lexer": "ipython3",
   "version": "3.7.3"
  }
 },
 "nbformat": 4,
 "nbformat_minor": 2
}
