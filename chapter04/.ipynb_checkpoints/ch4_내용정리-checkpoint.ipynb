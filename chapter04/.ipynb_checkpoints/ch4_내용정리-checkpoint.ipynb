{
 "cells": [
  {
   "cell_type": "markdown",
   "metadata": {},
   "source": [
    "# 스택"
   ]
  },
  {
   "cell_type": "markdown",
   "metadata": {},
   "source": [
    "## 스택이란?"
   ]
  },
  {
   "cell_type": "markdown",
   "metadata": {},
   "source": [
    "스택: 후입선출(LIFO)의 자료구조  \n",
    "- 삽입과 삭제는 상단으로만 할 수 있다\n",
    "- 스택의 중간에는 항목을 삽입하거나 삭제 할 수 없다.\n",
    "- 따라서 연산이 매우 간단해진다."
   ]
  },
  {
   "cell_type": "markdown",
   "metadata": {},
   "source": [
    "![](stack.jpg)"
   ]
  },
  {
   "cell_type": "markdown",
   "metadata": {},
   "source": [
    "스택의 추상자료형\n",
    "- Stack(): 비어 있는 새로운 스택을 만든다.\n",
    "- isEmpty(): 스택이 비어있으면 True 아니면 False를 반환한다.\n",
    "- push(e): 항목 e를 스택의 맨 위에 추가한다.\n",
    "- pop(): 스택의 맨 위에 있는 항목을 꺼내 반환한다.\n",
    "- peek(): 스택의 맨 위에 있는 항목을 삭제하지 않고 반환한다.\n",
    "- size(): 스택내의 모든 항목들의 개수를 반환한다.\n",
    "- clear(): 스택을 공백상태로 만든다."
   ]
  },
  {
   "cell_type": "markdown",
   "metadata": {},
   "source": [
    "스택은 어디에 사용할까?\n",
    "- 문서나 그림, 수식 등의 편집기에서 되돌리기(undo) 기능을 구현할 때\n",
    "- 함수 호출에서 복귀주소를 기억하는데 \n",
    "- 등등.."
   ]
  },
  {
   "cell_type": "markdown",
   "metadata": {},
   "source": [
    "## 4.2 스택의 구현"
   ]
  },
  {
   "cell_type": "code",
   "execution_count": 20,
   "metadata": {},
   "outputs": [],
   "source": [
    "class Stack:\n",
    "    def __init__(self):\n",
    "        self.top = []\n",
    "        \n",
    "    def isEmpty(self):\n",
    "        return len(self.top) == 0\n",
    "    \n",
    "    def size(self):\n",
    "        return len(self.top)\n",
    "    \n",
    "    def clear(self):\n",
    "        self.top = []\n",
    "        \n",
    "    def push(self, item):\n",
    "        self.top.append(item)\n",
    "    \n",
    "    def pop(self):\n",
    "        if not self.isEmpty():\n",
    "            return self.top.pop(-1)\n",
    "    \n",
    "    def peek(self):\n",
    "        if not self.isEmpty():\n",
    "            return self.top[-1]"
   ]
  },
  {
   "cell_type": "code",
   "execution_count": 3,
   "metadata": {},
   "outputs": [
    {
     "name": "stdout",
     "output_type": "stream",
     "text": [
      " 스택 even push 5회:  [0, 2, 4, 6, 8]\n",
      " 스택 odd push 5회:  [1, 3, 5, 7, 9]\n",
      " 스택 even     peek:  8\n",
      " 스택 odd     peek:  9\n",
      " 스택 even  pop 2회:  [0, 2, 4]\n",
      " 스택 odd  pop 2회:  [1, 3, 5]\n"
     ]
    }
   ],
   "source": [
    "odd = Stack()\n",
    "even = Stack()\n",
    "for i in range(10):\n",
    "    if i%2 == 0:\n",
    "        even.push(i)\n",
    "    else:\n",
    "        odd.push(i)\n",
    "\n",
    "print(' 스택 even push 5회: ', even.top)\n",
    "print(' 스택 odd push 5회: ', odd.top)\n",
    "print(' 스택 even     peek: ', even.peek())\n",
    "print(' 스택 odd     peek: ', odd.peek())\n",
    "for _ in range(2): even.pop()\n",
    "for _ in range(2): odd.pop()\n",
    "print(' 스택 even  pop 2회: ', even.top)\n",
    "print(' 스택 odd  pop 2회: ', odd.top)"
   ]
  },
  {
   "cell_type": "markdown",
   "metadata": {},
   "source": [
    "## 4.3 스택의 응용: 괄호 검사\n",
    "- 조건1: 왼쪽 괄호의 개수와 오른쪽 괄호의 개수가 같아야 한다.\n",
    "- 조건2: 같은 타입의 괄호에서 왼쪽 괄호가 오른쪽 괄호보다 먼저 나와야 한다.\n",
    "- 조건3: 서로 다른 타입의 괄호 쌍이 서로를 교차하면 안된다."
   ]
  },
  {
   "cell_type": "code",
   "execution_count": 27,
   "metadata": {},
   "outputs": [],
   "source": [
    "def checkBrackets(statement):\n",
    "    stack = Stack()\n",
    "    for ch in statement:\n",
    "        if ch in ('{','[','('):\n",
    "            stack.push(ch)\n",
    "        elif ch in ('}', ']',')'):\n",
    "            if stack.isEmpty():\n",
    "                return False     #조건 2 위반\n",
    "            else:\n",
    "                left = stack.pop()\n",
    "                if (ch == '}' and left != '{') or\\\n",
    "                    (ch == ']' and left != '[') or\\\n",
    "                    (ch == ')' and left != '('):\n",
    "                    return False   #조건 3 위반\n",
    "            \n",
    "    return stack.isEmpty() #False 이면 조건 1위반"
   ]
  },
  {
   "cell_type": "code",
   "execution_count": 28,
   "metadata": {},
   "outputs": [
    {
     "name": "stdout",
     "output_type": "stream",
     "text": [
      "{A[(i+1)]=0;} -----> True\n",
      "if((i==0)&&(j==0); -----> False\n",
      "A[ (i+1])=0; -----> False\n"
     ]
    }
   ],
   "source": [
    "str = (\"{A[(i+1)]=0;}\", \"if((i==0)&&(j==0);\", \"A[ (i+1])=0;\")\n",
    "for s in str:\n",
    "    m = checkBrackets(s)\n",
    "    print(s, \"----->\", m)"
   ]
  },
  {
   "cell_type": "code",
   "execution_count": null,
   "metadata": {},
   "outputs": [],
   "source": []
  }
 ],
 "metadata": {
  "kernelspec": {
   "display_name": "Python 3",
   "language": "python",
   "name": "python3"
  },
  "language_info": {
   "codemirror_mode": {
    "name": "ipython",
    "version": 3
   },
   "file_extension": ".py",
   "mimetype": "text/x-python",
   "name": "python",
   "nbconvert_exporter": "python",
   "pygments_lexer": "ipython3",
   "version": "3.7.3"
  }
 },
 "nbformat": 4,
 "nbformat_minor": 2
}
