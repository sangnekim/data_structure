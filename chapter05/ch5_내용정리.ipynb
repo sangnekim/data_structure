{
 "cells": [
  {
   "cell_type": "markdown",
   "metadata": {},
   "source": [
    "# 큐와 덱"
   ]
  },
  {
   "cell_type": "markdown",
   "metadata": {},
   "source": [
    "## 5.1 큐란?\n",
    "\n",
    "큐는 선입선출(FIFO)의 자료구조이다.  \n",
    "큐에서 삽입이 일어나느 곳을 후단(rear)라고 하고 삭제가 일어나느 곳을 전단(front)라고 한다.  \n",
    "<br>\n",
    "![](queue.jpg)"
   ]
  },
  {
   "cell_type": "markdown",
   "metadata": {},
   "source": [
    "큐의 추상 자료형\n",
    "- Queue(): 비어 있는 새로운 큐를 만든다.\n",
    "- isEmpty(): 큐가 비어있으면 True 아니면 False를 반환한다.\n",
    "- enqueue(x): 항목 x를 큐의 맨 뒤에 추가한다.\n",
    "- dequeue(): 큐의 맨 앞에 있는 항목을 꺼내 반환한다.\n",
    "- peek(): 큐의 맨 앞에 있는 항목을 삭제하지 않고 반환한다.\n",
    "- size(): 큐의 모든 항목들의 개수를 반환한다.\n",
    "- claer(): 큐를 공백상태로 만든다."
   ]
  },
  {
   "cell_type": "markdown",
   "metadata": {},
   "source": [
    "### 큐는 어디에 사용할까?\n",
    "컴퓨터에서 데이터를 주고받을 때 각 주변장치들 사이에 존재하는 속도의 차이나 시간차이를 극복하기 위한 임시 기억 장치로 큐가 사용되는데, 이것을 버퍼(buffer)라고 한다."
   ]
  },
  {
   "cell_type": "markdown",
   "metadata": {},
   "source": [
    "## 5.2 큐의 구현\n",
    "\n",
    "선형 큐의 경우 삭제연산의 복잡도는 O(n)으로 선형 큐에서는 삽입과 삭제 연산의 시간 복잡도를 모두 O(1)으로 만들 수 없다. 따라서 배열을 원형으로 생각하여 원형 큐를 구현하면 선형 큐의 문제를 해결할 수 있다.  \n",
    "<br>\n",
    "원형 큐에서는 front와 rear를 위한 변수가 필요하다.\n",
    "- rear: 큐에 가장 최근에 삽입된 항목의 위치\n",
    "- front: 가장 최근에 삭제된 항목의 위치  "
   ]
  },
  {
   "cell_type": "markdown",
   "metadata": {},
   "source": [
    "front와 rear를 원형으로 회전시키는 방법\n",
    "- front <- (front+1) % MAX_QSIZE\n",
    "- rear <- (rear+1) % MAX_QSIZE\n",
    "![](circle.jpg)"
   ]
  },
  {
   "cell_type": "markdown",
   "metadata": {},
   "source": [
    "원형큐는 크기를 MAX_QSIZE로 고정하였으므로 리스트가 꽉 차서 더 이상 항목을 추가할 수 없는 포화상태가 발생할 수 있다.\n",
    "\n",
    "![](status.jpg)\n",
    "\n",
    "<br>\n",
    "(c)와 같은 오류 상태는 front == rear로 공백 상태(a)와 구분이 안된다. 따라서 (b)와 같을 때 즉 front가 rear보다 하나 앞에 있으면 포화상태라고 정의한다."
   ]
  },
  {
   "cell_type": "markdown",
   "metadata": {},
   "source": [
    "### 원형 큐의 구현"
   ]
  },
  {
   "cell_type": "code",
   "execution_count": 1,
   "metadata": {},
   "outputs": [],
   "source": [
    "MAX_QSIZE = 10\n",
    "class CircularQueue:\n",
    "    def __init__(self):\n",
    "        self.front = 0\n",
    "        self.rear = 0\n",
    "        self.items = [None]*MAX_QSIZE\n",
    "    \n",
    "    def isEmpty(self):\n",
    "        return self.front == self.rear\n",
    "    \n",
    "    def isFull(self):\n",
    "        return self.front == (self.rear+1)%MAX_QSIZE\n",
    "    \n",
    "    def clear(self):\n",
    "        self.front = self.rear\n",
    "    \n",
    "    def enqueue(self, item):\n",
    "        if not self.isFull():\n",
    "            self.rear = (self.rear+1)%MAX_QSIZE\n",
    "            self.items[self.rear] = item\n",
    "    \n",
    "    def dequeue(self):\n",
    "        if not self.isEmpty():\n",
    "            self.front = (self.front+1)%MAX_QSIZE\n",
    "            return self.items[self.front]\n",
    "\n",
    "    def peek(self):\n",
    "        if not self.isEmpty():\n",
    "            return self.items[(self.front + 1) %MAX_QSIZE]\n",
    "        \n",
    "    def size(self):\n",
    "        return (self.rear - self.front + MAX_QSIZE) % MAX_QSIZE\n",
    "    \n",
    "    def display(self):\n",
    "        out = []\n",
    "        if self.front < self.rear:\n",
    "            out = self.items[self.front+1:self.rear+1]\n",
    "        else:\n",
    "            out = self.items[self.front+1:MAX_QSIZE] + self.items[0:self.rear+1]\n",
    "        print(\"[f=%s,r=%d] ==> \"%(self.front, self.rear), out)"
   ]
  },
  {
   "cell_type": "code",
   "execution_count": 2,
   "metadata": {},
   "outputs": [
    {
     "name": "stdout",
     "output_type": "stream",
     "text": [
      "[f=0,r=8] ==>  [0, 1, 2, 3, 4, 5, 6, 7]\n",
      "[f=5,r=8] ==>  [5, 6, 7]\n",
      "[f=5,r=4] ==>  [5, 6, 7, 8, 9, 10, 11, 12, 13]\n"
     ]
    }
   ],
   "source": [
    "q = CircularQueue()\n",
    "for i in range(8):\n",
    "    q.enqueue(i)\n",
    "q.display()\n",
    "for i in range(5):\n",
    "    q.dequeue()\n",
    "q.display()\n",
    "for i in range(8,14):\n",
    "    q.enqueue(i)\n",
    "q.display()"
   ]
  },
  {
   "cell_type": "markdown",
   "metadata": {},
   "source": [
    "## 5.3 큐의 응용: 너비우선탐색\n",
    "너비우선탐색(BFS)는 가까운 위치부터 차근차근 찾아가는 전략을 사용한다. 너비우선탐색을 위해서는 큐를 사용해야 한다.\n",
    "![](bfs.jpg)"
   ]
  },
  {
   "cell_type": "code",
   "execution_count": 3,
   "metadata": {},
   "outputs": [],
   "source": [
    "def isValidPos(x,y):\n",
    "    if x < 0 or y < 0 or x >= MAZE_SIZE or y >= MAZE_SIZE:\n",
    "        return False\n",
    "    else:\n",
    "        return map[y][x] == '0' or map[y][x] == 'x'\n",
    "\n",
    "def BFS():\n",
    "    que = CircularQueue()\n",
    "    que.enqueue((0,1))\n",
    "    print('BFS: ')\n",
    "    \n",
    "    while not que.isEmpty():\n",
    "        here = que.dequeue()\n",
    "        print(here, end = '->')\n",
    "        x,y = here\n",
    "        if (map[y][x] == 'x'):\n",
    "            return True\n",
    "        else:\n",
    "            map[y][x] ='.'\n",
    "            if isValidPos(x, y-1): \n",
    "                que.enqueue((x, y-1)) #상\n",
    "            if isValidPos(x, y+1):\n",
    "                que.enqueue((x, y+1)) #하\n",
    "            if isValidPos(x-1, y):\n",
    "                que.enqueue((x-1, y)) #좌\n",
    "            if isValidPos(x+1, y):\n",
    "                que.enqueue((x+1, y)) #우\n",
    "    return False"
   ]
  },
  {
   "cell_type": "code",
   "execution_count": 4,
   "metadata": {},
   "outputs": [
    {
     "name": "stdout",
     "output_type": "stream",
     "text": [
      "BFS: \n",
      "(0, 1)->(1, 1)->(1, 2)->(1, 3)->(2, 2)->(1, 4)->(3, 2)->(3, 1)->(3, 3)->(4, 1)->(3, 4)->(4, 4)->(5, 4)->--> 미로탐색 성공\n"
     ]
    }
   ],
   "source": [
    "map = [['1','1','1','1','1','1'],\n",
    "      ['e','0','1','0','0','1'],\n",
    "      ['1','0','0','0','1','1'],\n",
    "      ['1','0','1','0','1','1'],\n",
    "      ['1','0','1','0','0','x'],\n",
    "      ['1','1','1','1','1','1']]\n",
    "MAZE_SIZE = 6\n",
    "result = BFS()\n",
    "if result:\n",
    "    print('--> 미로탐색 성공')\n",
    "else:\n",
    "    print('--> 미로탐색 실패')"
   ]
  },
  {
   "cell_type": "markdown",
   "metadata": {},
   "source": [
    "### 파이선의 queue 모듈은 큐와 스택 클래스를 제공한다."
   ]
  },
  {
   "cell_type": "code",
   "execution_count": 6,
   "metadata": {},
   "outputs": [
    {
     "name": "stdout",
     "output_type": "stream",
     "text": [
      "큐의 내용: 1 2 3 4 5 6 7 8 9 \n"
     ]
    }
   ],
   "source": [
    "import queue\n",
    "\n",
    "Q = queue.Queue(maxsize=20) #큐 객체 생성(최대크기 20)\n",
    "\n",
    "for v in range(1,10):\n",
    "    Q.put(v)\n",
    "print('큐의 내용: ',end = '')\n",
    "\n",
    "for _ in range(1,10):\n",
    "    print(Q.get(), end = ' ')\n",
    "print()"
   ]
  },
  {
   "cell_type": "code",
   "execution_count": 7,
   "metadata": {},
   "outputs": [],
   "source": [
    "S = queue.LifoQueue(maxsize=20) # 스택 객체 생성(최대크기 20)"
   ]
  },
  {
   "cell_type": "markdown",
   "metadata": {},
   "source": [
    "## 5.4 덱이란?\n",
    "덱은 double-ended queue의 줄임마로서 큐의 전단(front)과 후단(rear)에서 모두 삽입과 삭제가 가능한 큐를 의미한다.\n",
    "![](deque.jpg)"
   ]
  },
  {
   "cell_type": "markdown",
   "metadata": {},
   "source": [
    "덱의 추상자료형\n",
    "- Deque(): 비어 있는 새로운 덱을 만든다.\n",
    "- isEmpty(): 덱이 비어있으면 True 아니면 False를 반환한다.\n",
    "- addFront(x): 항목 x를 덱의 맨 앞에 추가한다.\n",
    "- deleteFront(): 맨 앞의 항목을 꺼내서 반환한다.\n",
    "- getFront(): 맨 앞의 항목을 꺼내지 않고 반환한다.\n",
    "- addRear(x): 항목 x를 덱의 맨 뒤에 추가한다.\n",
    "- deleteRear(): 맨 뒤의 항목을 꺼내서 반환한다.\n",
    "- getRear(): 맨 뒤의 항목을 꺼내지 않고 반환한다.\n",
    "- isFull(): 덱이 가득 차 있으면 True를 아니면 False를 반환한다.\n",
    "- size(): 덱의 모든 항목들의 개수를 반환한다.\n",
    "- claer(): 덱을 공백상태로 만든다."
   ]
  },
  {
   "cell_type": "markdown",
   "metadata": {},
   "source": [
    "## 5.5 덱의 구현\n",
    "### 원형 큐를 상속하여 원형 덱 클래스를 구현하자"
   ]
  },
  {
   "cell_type": "code",
   "execution_count": 8,
   "metadata": {},
   "outputs": [],
   "source": [
    "class CircularDeque(CircularQueue):\n",
    "    def __init__(self):\n",
    "        super().__init__()\n",
    "    \n",
    "    def addRear(self, item):\n",
    "        self.enqueue(item)\n",
    "    \n",
    "    def deleteFront(self):\n",
    "        return self.dequeue()\n",
    "    \n",
    "    def getFront(self):\n",
    "        return self.peek()\n",
    "    \n",
    "    def addFront(self, item):\n",
    "        if not self.isFull():\n",
    "            self.items[self.front] = item\n",
    "            self.front = self.front - 1 #반시계 방향으로 회전\n",
    "            if self.front < 0:\n",
    "                self.front = MAX_QSIZE -1 \n",
    "    \n",
    "    def deleteRear(self):\n",
    "        if not self.isEmpty():\n",
    "            item = self.items[self.rear]\n",
    "            self.rear = self.rear-1 #반시계 방향으로 회전\n",
    "            if self.rear < 0:\n",
    "                self.rear = MAX_QSIZE - 1\n",
    "            return item\n",
    "    \n",
    "    def getRear(self):\n",
    "        return self.items[self.rear]"
   ]
  },
  {
   "cell_type": "code",
   "execution_count": 9,
   "metadata": {},
   "outputs": [
    {
     "name": "stdout",
     "output_type": "stream",
     "text": [
      "[f=6,r=5] ==>  [7, 5, 3, 1, 0, 2, 4, 6, 8]\n",
      "[f=8,r=2] ==>  [3, 1, 0, 2]\n",
      "[f=3,r=2] ==>  [13, 12, 11, 10, 9, 3, 1, 0, 2]\n"
     ]
    }
   ],
   "source": [
    "dq = CircularDeque()\n",
    "for i in range(9):\n",
    "    if i%2 == 0:\n",
    "        dq.addRear(i)\n",
    "    else:\n",
    "        dq.addFront(i)\n",
    "dq.display()\n",
    "for i in range(2):\n",
    "    dq.deleteFront()\n",
    "for i in range(3):\n",
    "    dq.deleteRear()\n",
    "dq.display()\n",
    "for i in range(9,14):\n",
    "    dq.addFront(i)\n",
    "dq.display()"
   ]
  },
  {
   "cell_type": "markdown",
   "metadata": {},
   "source": [
    "## 5.6 우선순위 큐\n",
    "우선수위 큐(priority queue)는 모든 데이터가 우선순위를 가지고 있고, 들어온 순서와 상관없이 우선순위가 높은 데이터가 먼저 출력된는 구조이다.  \n",
    "우선순위 큐는 가장 일반적인 큐로 볼 수 있는데, '우선순위'를 어떻게 정하느냐에 따라 스택이나 큐로도 얼마든지 사용할 수 있기 때문이다.  \n",
    "우선순위 큐는 시뮬레이션이나 네트워크 트래픽 제어, 운영 체제에서의 작업 스케줄링, 수치 해석적인 계산 등 다양한 분양에서 활용되고 있다."
   ]
  },
  {
   "cell_type": "markdown",
   "metadata": {},
   "source": [
    "우선수위 큐의 추상 자료형\n",
    "- PriorityQueue(): 비어 있는 우선순위 큐를 만든다.\n",
    "- isEmpty(): 우선순위 큐가 공백상태인지를 검사한다.\n",
    "- enqueue(e): 우선순위를 가진 항목 e를 추가한다.\n",
    "- dequeue(): 가장 우선순위가 높은 항목을 꺼내서 반환한다.\n",
    "- peek(): 가장 우선순위가 높은 오소를 삭제하지 않고 반환한다.\n",
    "- size(): 우선순위 큐의 모든 항목들의 개수를 반환한다.\n",
    "- clear(): 우선순위 큐를 공백상태로 만든다."
   ]
  },
  {
   "cell_type": "markdown",
   "metadata": {},
   "source": [
    "![](priority.jpg)"
   ]
  },
  {
   "cell_type": "markdown",
   "metadata": {},
   "source": [
    "### 정렬되지 않은 배열을 이용한 우선순위 큐의 구현"
   ]
  },
  {
   "cell_type": "code",
   "execution_count": 28,
   "metadata": {},
   "outputs": [],
   "source": [
    "class PriorityQueue:\n",
    "    def __init__(self):\n",
    "        self.items = []\n",
    "    \n",
    "    def isEmpty(self):\n",
    "        return len(self.items) == 0\n",
    "    \n",
    "    def size(self):\n",
    "        return len(self.items)\n",
    "    \n",
    "    def clear(self):\n",
    "        self.items = []\n",
    "        \n",
    "    def enqueue(self, item):\n",
    "        self.items.append(item)\n",
    "    \n",
    "    def findMaxIndex(self): #최대 우선순위 항목의 인덱스 반환\n",
    "        if self.isEmpty():\n",
    "            return None\n",
    "        else:\n",
    "            highest = 0\n",
    "            for i in range(1, self.size()):\n",
    "                if self.items[i] > self.items[highest]:\n",
    "                    highest = i\n",
    "            return highest\n",
    "    \n",
    "    def dequeue(self):\n",
    "        highest = self.findMaxIndex()\n",
    "        if highest is not None:\n",
    "            return self.items.pop(highest)\n",
    "    \n",
    "    def peek(self):\n",
    "        highest = findMaxIndex()\n",
    "        if highest is not None:\n",
    "            return self.items[highest]"
   ]
  },
  {
   "cell_type": "code",
   "execution_count": 25,
   "metadata": {},
   "outputs": [
    {
     "name": "stdout",
     "output_type": "stream",
     "text": [
      "PQueue: [34, 18, 27, 45, 15]\n",
      "Max priority =  45\n",
      "Max priority =  34\n",
      "Max priority =  27\n",
      "Max priority =  18\n",
      "Max priority =  15\n"
     ]
    }
   ],
   "source": [
    "q = PriorityQueue()\n",
    "q.enqueue(34)\n",
    "q.enqueue(18)\n",
    "q.enqueue(27)\n",
    "q.enqueue(45)\n",
    "q.enqueue(15)\n",
    "print(\"PQueue:\", q.items)\n",
    "while not q.isEmpty():\n",
    "    print(\"Max priority = \", q.dequeue())"
   ]
  },
  {
   "cell_type": "markdown",
   "metadata": {},
   "source": [
    "일반적으로 우선순위 큐는 힙이라는 트리 구조를 이용해 구현한다. 삽입과 삭제 연산이 모두 $O(log_{2}n)$로 매우 뛰어나기 때문이다. 이 구조는 8장에서 공부한다."
   ]
  },
  {
   "cell_type": "markdown",
   "metadata": {},
   "source": [
    "## 5.7 우선순위 큐의 응용: 전략적인 미로 탐색\n",
    "- 우선순위 큐에는 (x,y,-d)형태의 튜플을 저장하도록 한다.\n",
    "- (x,y)는 현재 좌표이고, -d는 우선순위 값이다. 거리를 음수로 저장한 것은 거리가 가까울수록 더 우선순위가 높아야하기(더 큰 값이 되어야 하기)때문이다."
   ]
  },
  {
   "cell_type": "code",
   "execution_count": 29,
   "metadata": {},
   "outputs": [],
   "source": [
    "import math\n",
    "(ox,oy) = (5,4) #출구의 위치\n",
    "\n",
    "#거리(d)를 계산하기 위한 함수\n",
    "def dist(x,y):\n",
    "    (dx, dy) = (ox-x, oy-y)\n",
    "    return math.sqrt(dx*dx + dy*dy)\n",
    "\n",
    "#거리에 따라 우선순위를 정하므로 상속받아서 오버라이딩\n",
    "class PriorityQueue(PriorityQueue):\n",
    "    def __init__(self):\n",
    "        super().__init__()\n",
    "    \n",
    "    def findMaxIndex(self): #오버라이딩\n",
    "        if self.isEmpty():\n",
    "            return None\n",
    "        else:\n",
    "            highest = 0\n",
    "            for i in range(1, self.size()):\n",
    "                if self.items[i][2] > self.items[highest][2]:\n",
    "                    highest = i\n",
    "            return highest\n",
    "\n",
    "def MySmartSearch():\n",
    "    q = PriorityQueue()\n",
    "    q.enqueue((0,1, -dist(0,1)))\n",
    "    print('PQueue: ')\n",
    "    \n",
    "    while not q.isEmpty():\n",
    "        here = q.dequeue()\n",
    "        print(here[0:2], end = '->')\n",
    "        x,y,_ = here\n",
    "        if (map[y][x] == 'x'):\n",
    "            return True\n",
    "        else:\n",
    "            map[y][x] = '.'\n",
    "            if isValidPos(x, y-1):\n",
    "                q.enqueue((x,y-1, -dist(x,y-1)))\n",
    "            if isValidPos(x, y+1):\n",
    "                q.enqueue((x,y+1, -dist(x,y+1)))\n",
    "            if isValidPos(x-1, y):\n",
    "                q.enqueue((x-1,y, -dist(x-1,y)))\n",
    "            if isValidPos(x+1, y):\n",
    "                q.enqueue((x+1,y, -dist(x+1,y)))\n",
    "        print('우선순위큐: ', q.items)\n",
    "    return False"
   ]
  },
  {
   "cell_type": "code",
   "execution_count": 30,
   "metadata": {},
   "outputs": [
    {
     "name": "stdout",
     "output_type": "stream",
     "text": [
      "PQueue: \n",
      "(0, 1)->우선순위큐:  [(1, 1, -5.0)]\n",
      "(1, 1)->우선순위큐:  [(1, 2, -4.47213595499958)]\n",
      "(1, 2)->우선순위큐:  [(1, 3, -4.123105625617661), (2, 2, -3.605551275463989)]\n",
      "(2, 2)->우선순위큐:  [(1, 3, -4.123105625617661), (3, 2, -2.8284271247461903)]\n",
      "(3, 2)->우선순위큐:  [(1, 3, -4.123105625617661), (3, 1, -3.605551275463989), (3, 3, -2.23606797749979)]\n",
      "(3, 3)->우선순위큐:  [(1, 3, -4.123105625617661), (3, 1, -3.605551275463989), (3, 4, -2.0)]\n",
      "(3, 4)->우선순위큐:  [(1, 3, -4.123105625617661), (3, 1, -3.605551275463989), (4, 4, -1.0)]\n",
      "(4, 4)->우선순위큐:  [(1, 3, -4.123105625617661), (3, 1, -3.605551275463989), (5, 4, -0.0)]\n",
      "(5, 4)->--> 미로탐색 성공\n"
     ]
    }
   ],
   "source": [
    "map = [['1','1','1','1','1','1'],\n",
    "      ['e','0','1','0','0','1'],\n",
    "      ['1','0','0','0','1','1'],\n",
    "      ['1','0','1','0','1','1'],\n",
    "      ['1','0','1','0','0','x'],\n",
    "      ['1','1','1','1','1','1']]\n",
    "MAZE_SIZE = 6\n",
    "result = MySmartSearch()\n",
    "if result:\n",
    "    print('--> 미로탐색 성공')\n",
    "else:\n",
    "    print('--> 미로탐색 실패')"
   ]
  },
  {
   "cell_type": "markdown",
   "metadata": {},
   "source": [
    "### 우선순위 큐의 주요 응용\n",
    "- 압축을 위한 허프만 코딩 트리를 만드는 과정에 우선순위 큐를 사용한다. 빈도가 가장 작은 두 노드를 선택하기 위해서이다.\n",
    "- Kruskal의 최소비용 신장트리 알고리즘에서 우선순위 큐를 사용할 수 있다. 최소비용 신장트리에 포함되지 않은 간선들 중에서 가중치가 가장 작은 간선을 반복적으로 선택하기 위해서이다.\n",
    "- Dijkstra의 최단 거리 알고리즘에서 우선순위 큐를 사용할 수 있다. 최단거리가 찾아지지 않은 정점들 중에서 가장 거리가 가까운 정점을 선택하기 위해서이다.\n",
    "- 인공지능의 $A^*$ 알고리즘에서 우선순위 큐를 사용할 수 있다. $A^*$ 알고리즘은 상태공간트리(state space tree)를 이용해서 해를 찾는 과정에서 가장 가능성이 높은 (promising)경로를 먼저 선택하여 시도해 보기 위해서이다."
   ]
  },
  {
   "cell_type": "code",
   "execution_count": null,
   "metadata": {},
   "outputs": [],
   "source": []
  }
 ],
 "metadata": {
  "kernelspec": {
   "display_name": "Python 3",
   "language": "python",
   "name": "python3"
  },
  "language_info": {
   "codemirror_mode": {
    "name": "ipython",
    "version": 3
   },
   "file_extension": ".py",
   "mimetype": "text/x-python",
   "name": "python",
   "nbconvert_exporter": "python",
   "pygments_lexer": "ipython3",
   "version": "3.7.3"
  }
 },
 "nbformat": 4,
 "nbformat_minor": 2
}
