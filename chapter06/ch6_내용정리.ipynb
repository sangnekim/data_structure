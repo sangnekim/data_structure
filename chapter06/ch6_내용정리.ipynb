{
 "cells": [
  {
   "cell_type": "markdown",
   "metadata": {},
   "source": [
    "# 연결된 구조"
   ]
  },
  {
   "cell_type": "markdown",
   "metadata": {},
   "source": [
    "## 6.1 연결된 구조란?"
   ]
  },
  {
   "cell_type": "markdown",
   "metadata": {},
   "source": [
    "연결된 구조: 항목들을 링크로 연결하여 표현하는 방법  \n",
    "연결 리스트: 항목들을 링크를 통해 일렬로 나열할 수 있는 연결된 구조"
   ]
  },
  {
   "cell_type": "markdown",
   "metadata": {},
   "source": [
    "![image](https://user-images.githubusercontent.com/68596881/106570905-e0173e80-6579-11eb-8a06-7062b65fda88.png)"
   ]
  },
  {
   "cell_type": "markdown",
   "metadata": {},
   "source": [
    "배열 구조와 연결된 구조의 장단점\n",
    "- 연결된 구조는 용량이 고정되지 않는다.\n",
    "- 연결된 구조는 중간에 자료를 삽입하거나 삭제하는 것이 용이하다\n",
    "- n번째 항목에 접근하는데 O(n)의 시간이 걸린다. 반면에 배열구조는 O(1)의 시간이 걸린다."
   ]
  },
  {
   "cell_type": "markdown",
   "metadata": {},
   "source": [
    "### 연결 리스트의 구조\n",
    "노드: 연결된 구조에서 하나의 상자로 데이터 필드(data field)와 하나 이상의 링크 필드(link field)를 갖는다.\n",
    "- 데이터 필드: 저장하고 싶은 데이터가 들어간다.\n",
    "- 링크 필드: 다른 노드를 가리키는, 즉 다른 노드의 주소를 저장하는 변수"
   ]
  },
  {
   "cell_type": "markdown",
   "metadata": {},
   "source": [
    "![image](https://user-images.githubusercontent.com/68596881/106570949-ee655a80-6579-11eb-9aed-c9bf93202ed0.png)"
   ]
  },
  {
   "cell_type": "markdown",
   "metadata": {},
   "source": [
    "헤드 포인터: 연결 리스트에서 첫 번째 노드의 주소를 저장하는 변수"
   ]
  },
  {
   "cell_type": "markdown",
   "metadata": {},
   "source": [
    "### 연결 리스트의 종류\n",
    "단순연결리스트(singly linked list)\n",
    "- 하나의 방향으로만 연결되어 있는 구조\n",
    "- 마지막 노드의 링크는 아무것도 연결되어 있지 않다는 것을 나타내기 위해 반드시 None 값을 가져야 한다"
   ]
  },
  {
   "cell_type": "markdown",
   "metadata": {},
   "source": [
    "![image](https://user-images.githubusercontent.com/68596881/106570975-fb824980-6579-11eb-9adc-cb75b6f9eba0.png)"
   ]
  },
  {
   "cell_type": "markdown",
   "metadata": {},
   "source": [
    "원형연결리스트(circular linked list)\n",
    "- 단순연결리스트와 동일한 노드 구조를 사용하지만 맨 마지막 노드의 링크 값이 None이 아니라 다시 첫 번째 노드를 가리킨다\n",
    "- 노드들을 순서대로 방문할 때 종료조건에 유의해야 한다"
   ]
  },
  {
   "cell_type": "markdown",
   "metadata": {},
   "source": [
    "![image](https://user-images.githubusercontent.com/68596881/106571026-0937cf00-657a-11eb-813a-109832933775.png)"
   ]
  },
  {
   "cell_type": "markdown",
   "metadata": {},
   "source": [
    "이중연결리스트(doubly linked list)\n",
    "- 하나의 노드가 이전 노드와 다음 노드를 모두 알고 있도로 설계\n",
    "- 두 개의 링크를 갖는데, 하나는 선행 노드를 다른 하나는 후속 노드를 가리킨다"
   ]
  },
  {
   "cell_type": "markdown",
   "metadata": {},
   "source": [
    "![image](https://user-images.githubusercontent.com/68596881/106571072-13f26400-657a-11eb-8e8f-38faed359a60.png)\n",
    "![image](https://user-images.githubusercontent.com/68596881/106571093-16ed5480-657a-11eb-934d-fe2bf8fcdc0f.png)"
   ]
  },
  {
   "cell_type": "markdown",
   "metadata": {},
   "source": [
    "## 6.2 단순연결리스트 응용: 연결된 스택"
   ]
  },
  {
   "cell_type": "code",
   "execution_count": 1,
   "metadata": {},
   "outputs": [],
   "source": [
    "class Node:\n",
    "    def __init__(self, elem, link = None):\n",
    "        self.data = elem\n",
    "        self.link = link"
   ]
  },
  {
   "cell_type": "code",
   "execution_count": 2,
   "metadata": {},
   "outputs": [],
   "source": [
    "class LinkedStack:\n",
    "    def __init__(self):\n",
    "        self.top = None\n",
    "    \n",
    "    def isEmpty(self):\n",
    "        return self.top == None #공백상태 검사\n",
    "    \n",
    "    def clear(self):\n",
    "        self.top = None #스택 초기화\n",
    "        \n",
    "    def push(self, item):\n",
    "        n = Node(item, self.top) #새로운 노드 n을 생성한 후 n의 링크가 시작노드(top)을 가리키게 함\n",
    "        self.top = n #시작노드(top)이 n을 가리키게 함\n",
    "    \n",
    "    def pop(self):\n",
    "        if not self.isEmpty():\n",
    "            n = self.top #변수 n이 시작노드를 가키리도록 함\n",
    "            self.top = n.link #top이 다음노드를 가리키도록 함\n",
    "            return n.data #n이 가리키는 노드의 데이터를 반환\n",
    "    \n",
    "    def peek(self):\n",
    "        if not self.isEmpty():\n",
    "            return self.top.data\n",
    "    \n",
    "    def size(self):\n",
    "        node = self.top #시작 노드\n",
    "        count = 0\n",
    "        while not node == None: \n",
    "            node = node.link #다음 노드로 이동\n",
    "            count += 1 #count 증가\n",
    "        return count\n",
    "    \n",
    "    def display(self, msg = 'LinkedStack: '):\n",
    "        print(msg, end = '')\n",
    "        node = self.top\n",
    "        while not node == None:\n",
    "            print(node.data, end=' ')\n",
    "            node = node.link\n",
    "        print()"
   ]
  },
  {
   "cell_type": "markdown",
   "metadata": {},
   "source": [
    "## 6.3 단순연결리스트응용: 연결된 리스트"
   ]
  },
  {
   "cell_type": "code",
   "execution_count": 3,
   "metadata": {},
   "outputs": [],
   "source": [
    "class LinkedList:\n",
    "    def __init__(self):\n",
    "        self.head = None\n",
    "    \n",
    "    def isEmpty(self):\n",
    "        return self.head == None\n",
    "    \n",
    "    def clear(self):\n",
    "        self.head = None\n",
    "    \n",
    "    def size(self):\n",
    "        node = self.head\n",
    "        count = 0\n",
    "        while not node == None:\n",
    "            node = node.link\n",
    "            count += 1\n",
    "        return count\n",
    "    \n",
    "    def display(self, msg = 'LinkedList: '):\n",
    "        print(msg, end = '')\n",
    "        node = self.head\n",
    "        while not node == None:\n",
    "            print(node.data, end = ' ')\n",
    "            node = node.link\n",
    "        print()\n",
    "    \n",
    "    def getNode(self, pos): # pos번째 노드 반환\n",
    "        if pos < 0:\n",
    "            return None\n",
    "        node = self.head #node는 head부터 시작\n",
    "        while pos > 0 and node != None: # pos번 반복\n",
    "            node = node.link # node를 다음 노드로 이동\n",
    "            pos -=1 #남은 반복 횟수 줄임\n",
    "        return node #최종 노드 반환\n",
    "    \n",
    "    def getEntry(self, pos): # pos번째 노드의 데이터 반환\n",
    "        node = self.getNode(pos)\n",
    "        if node == None:\n",
    "            return None\n",
    "        else:\n",
    "            return node.data\n",
    "    \n",
    "    def replace(self, pos, elem): # pos번째 노드의 데이터를 변경\n",
    "        node = self.getNode(pos)\n",
    "        if node != None:\n",
    "            node.data = elem\n",
    "    \n",
    "    def find(self, data): # 데이터로 data를 갖는 노드 반환\n",
    "        node = self.head\n",
    "        while node is not None: #모든 노드에서 찾음\n",
    "            if node.data == data: #찾아지면 바로 반환\n",
    "                return node\n",
    "            node = node.link\n",
    "        return node #찾아지지 않으면 None 반환\n",
    "    \n",
    "    def insert(self, pos, elem):\n",
    "        before = self.getNode(pos - 1) # before 노드를 찾음\n",
    "        if before == None:\n",
    "            self.head = Node(elem, self.head) #맨 앞에 삽입함\n",
    "        else:\n",
    "            node = Node(elem, before.link) # 노드 생성 + 새로운 노드가 before 다음 노드를 가리키게 함\n",
    "            before.link = node #before노드가 새로운 노드를 가리키게 함\n",
    "    \n",
    "    def delete(self, pos):\n",
    "        before = self.getNode(pos - 1) # before 노드를 찾음\n",
    "        if before == None:\n",
    "            if self.head is not None: #공백이 아니면\n",
    "                self.head = self.head.link # head를 다음으로 이동\n",
    "        elif before.link != None: #중간에 있는 노드 삭제\n",
    "            before.link = before.link.link # before이 다음 다음 노드를 가리키게 함"
   ]
  },
  {
   "cell_type": "code",
   "execution_count": 4,
   "metadata": {},
   "outputs": [
    {
     "name": "stdout",
     "output_type": "stream",
     "text": [
      "단순연결리스트로 구현한 리스트(초기상태):\n",
      "단순연결리스트로 구현한 리스트(삽입x5):20 30 50 10 40 \n",
      "단순연결리스트로 구현한 리스트(교체x1):20 30 90 10 40 \n",
      "단순연결리스트로 구현한 리스트(삭제x3):30 10 \n",
      "단순연결리스트로 구현한 리스트(정리후):\n"
     ]
    }
   ],
   "source": [
    "s = LinkedList()\n",
    "s.display('단순연결리스트로 구현한 리스트(초기상태):')\n",
    "s.insert(0,10); s.insert(0,20); s.insert(1,30)\n",
    "s.insert(s.size(), 40); s.insert(2, 50)\n",
    "s.display('단순연결리스트로 구현한 리스트(삽입x5):')\n",
    "s.replace(2, 90)\n",
    "s.display('단순연결리스트로 구현한 리스트(교체x1):')\n",
    "s.delete(2); s.delete(s.size()-1); s.delete(0)\n",
    "s.display('단순연결리스트로 구현한 리스트(삭제x3):')\n",
    "s.clear()\n",
    "s.display('단순연결리스트로 구현한 리스트(정리후):')"
   ]
  },
  {
   "cell_type": "code",
   "execution_count": null,
   "metadata": {},
   "outputs": [],
   "source": []
  }
 ],
 "metadata": {
  "kernelspec": {
   "display_name": "Python 3",
   "language": "python",
   "name": "python3"
  },
  "language_info": {
   "codemirror_mode": {
    "name": "ipython",
    "version": 3
   },
   "file_extension": ".py",
   "mimetype": "text/x-python",
   "name": "python",
   "nbconvert_exporter": "python",
   "pygments_lexer": "ipython3",
   "version": "3.7.3"
  }
 },
 "nbformat": 4,
 "nbformat_minor": 2
}
