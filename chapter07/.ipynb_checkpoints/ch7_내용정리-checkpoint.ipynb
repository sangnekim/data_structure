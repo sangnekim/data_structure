{
 "cells": [
  {
   "cell_type": "markdown",
   "metadata": {},
   "source": [
    "# 정렬과 탐색"
   ]
  },
  {
   "cell_type": "markdown",
   "metadata": {},
   "source": [
    "## 7.1 정렬이란?\n",
    "탐색(seraching): 많은 자료 중에서 무언가를 찾는 작업  \n",
    "정렬(sorting): 데이터를 순서대로 재배열 하는 것  \n",
    "<br>\n",
    "정렬 장소에 따른 분류\n",
    "- 내부 정렬: 모든 데이터가 메인 메모리에 올라와 있는 정렬을 의미\n",
    "- 외부 정렬: 외부 기억 장치에 대부분의 데이터가 있고 일부만 메모리에 올려 정렬하는 방법"
   ]
  },
  {
   "cell_type": "markdown",
   "metadata": {},
   "source": [
    "구현 복잡도와 알고리즘 효율성에 따른 분류\n",
    "- 단순하지만 비효율적인 방법: 삽입정렬, 선택정렬, 버블 정렬 등\n",
    "- 복잡하지만 효율적인 방법: 퀵 정렬, 힙 정렬, 병합정렬, 기수 정렬 등"
   ]
  },
  {
   "cell_type": "markdown",
   "metadata": {},
   "source": [
    "안정성에 따른 분류\n",
    "- 안정성이란 입력 데이터에 동일한 킷값을 갖는 레코드가 여러 개 존재할 경우, 정렬 후에도 이들의 상대적인 위치가 바뀌지 않는 것을 말한다.\n",
    "- 삽입정렬, 버블정렬, 병합정렬"
   ]
  },
  {
   "cell_type": "markdown",
   "metadata": {},
   "source": [
    "## 7.2 간단한 정렬 알고리즘"
   ]
  },
  {
   "cell_type": "markdown",
   "metadata": {},
   "source": [
    "### 선택 정렬(selection sort)\n",
    "선택 정렬: 리스트에서 가장 작은 숫자를 선택해서 앞쪽으로 옮기는 방법을 사용  \n",
    "<br>\n",
    "![image](https://user-images.githubusercontent.com/68596881/106868351-040d8800-6712-11eb-8c07-f6bd6cb54300.png)"
   ]
  },
  {
   "cell_type": "code",
   "execution_count": 1,
   "metadata": {},
   "outputs": [],
   "source": [
    "def printStep(arr, val):\n",
    "    print(\"  Step %2d = \"%val, end = '')\n",
    "    print(arr)"
   ]
  },
  {
   "cell_type": "code",
   "execution_count": 4,
   "metadata": {},
   "outputs": [],
   "source": [
    "def selection_sort(A):\n",
    "    n = len(A)\n",
    "    for i in range(n-1):\n",
    "        least = i\n",
    "        for j in range(i+1, n):\n",
    "            if A[j] < A[least]:\n",
    "                least = j #최소항목 갱신\n",
    "        A[i], A[least] = A[least], A[i] #배열 항목 교환\n",
    "        printStep(A, i+1) #중간 과정 출력용"
   ]
  },
  {
   "cell_type": "code",
   "execution_count": 5,
   "metadata": {},
   "outputs": [
    {
     "name": "stdout",
     "output_type": "stream",
     "text": [
      "Original : [5, 3, 8, 4, 9, 1, 6, 2, 7]\n",
      "  Step  1 = [1, 3, 8, 4, 9, 5, 6, 2, 7]\n",
      "  Step  2 = [1, 2, 8, 4, 9, 5, 6, 3, 7]\n",
      "  Step  3 = [1, 2, 3, 4, 9, 5, 6, 8, 7]\n",
      "  Step  4 = [1, 2, 3, 4, 9, 5, 6, 8, 7]\n",
      "  Step  5 = [1, 2, 3, 4, 5, 9, 6, 8, 7]\n",
      "  Step  6 = [1, 2, 3, 4, 5, 6, 9, 8, 7]\n",
      "  Step  7 = [1, 2, 3, 4, 5, 6, 7, 8, 9]\n",
      "  Step  8 = [1, 2, 3, 4, 5, 6, 7, 8, 9]\n",
      "Selection : [1, 2, 3, 4, 5, 6, 7, 8, 9]\n"
     ]
    }
   ],
   "source": [
    "data = [5,3,8,4,9,1,6,2,7]\n",
    "print('Original :', data)\n",
    "selection_sort(data)\n",
    "print('Selection :', data)"
   ]
  },
  {
   "cell_type": "markdown",
   "metadata": {},
   "source": [
    "시간 복잡도\n",
    "- 외부 루프는 n-1번 반복, 내부루프는 0에서 n-2까지 변하는 i에 대해여 (n-1)-i번 반복\n",
    "- 따라서 (n-1) + (n-2) + ... + 1 = $O(n^2)$"
   ]
  },
  {
   "cell_type": "markdown",
   "metadata": {},
   "source": [
    "### 삽입 정렬(insertion sort)"
   ]
  },
  {
   "cell_type": "markdown",
   "metadata": {},
   "source": [
    "삽입 정렬: 정렬이 안 된 부분의 숫자를 하나씩 정렬된 부분의 적절한 위치를 찾아 끼워 넣는 과정을 반복한다.  \n",
    "<br>\n",
    "![image](https://user-images.githubusercontent.com/68596881/106868393-12f43a80-6712-11eb-83ce-1ffdd820d476.png)"
   ]
  },
  {
   "cell_type": "code",
   "execution_count": 6,
   "metadata": {},
   "outputs": [],
   "source": [
    "def insertion_sort(A):\n",
    "    n = len(A)\n",
    "    for i in range(1,n):\n",
    "        key = A[i] # key는 정렬된 부분에 삽입할 원소\n",
    "        j = i-1\n",
    "        while j>= 0 and A[j] > key: # key보다 큰 원소들을 뒤로 한 칸씩 이동\n",
    "            A[j+1] = A[j]\n",
    "            j -=1\n",
    "        A[j+1] = key # key 보다 큰 정렬된 원소들 앞으로 삽입 \n",
    "        printStep(A, i)"
   ]
  },
  {
   "cell_type": "code",
   "execution_count": 7,
   "metadata": {},
   "outputs": [
    {
     "name": "stdout",
     "output_type": "stream",
     "text": [
      "Original : [5, 3, 8, 4, 9, 1, 6, 2, 7]\n",
      "  Step  1 = [3, 5, 8, 4, 9, 1, 6, 2, 7]\n",
      "  Step  2 = [3, 5, 8, 4, 9, 1, 6, 2, 7]\n",
      "  Step  3 = [3, 4, 5, 8, 9, 1, 6, 2, 7]\n",
      "  Step  4 = [3, 4, 5, 8, 9, 1, 6, 2, 7]\n",
      "  Step  5 = [1, 3, 4, 5, 8, 9, 6, 2, 7]\n",
      "  Step  6 = [1, 3, 4, 5, 6, 8, 9, 2, 7]\n",
      "  Step  7 = [1, 2, 3, 4, 5, 6, 8, 9, 7]\n",
      "  Step  8 = [1, 2, 3, 4, 5, 6, 7, 8, 9]\n",
      "Insertion : [1, 2, 3, 4, 5, 6, 7, 8, 9]\n"
     ]
    }
   ],
   "source": [
    "data = [5,3,8,4,9,1,6,2,7]\n",
    "print('Original :', data)\n",
    "insertion_sort(data)\n",
    "print('Insertion :', data)"
   ]
  },
  {
   "cell_type": "markdown",
   "metadata": {},
   "source": [
    "시간 복잡도\n",
    "- 복잡도는 입력 자료의 구성에 따라서 달라진다.\n",
    "- 입력 자료가 이미 정렬되어 있는 경우 $O(n)$\n",
    "- 입력 자료가 역으로 정렬된 경우 $O(n^2)$\n",
    "- 대부분의 레코다가 이미 정려되어 있는 경우 효율적"
   ]
  },
  {
   "cell_type": "markdown",
   "metadata": {},
   "source": [
    "### 버블 정렬(bubble sort)"
   ]
  },
  {
   "cell_type": "markdown",
   "metadata": {},
   "source": [
    "버블 정렬: 인접한 2개의 레코드를 비교하여 크기가 순서대로가 아니면 서로 교환하는 방법을 사용. 이러한 비교-교환 과정은 리스트의 왼쪽 끝에서 시작하여 오른쪽 끝까지 진행  \n",
    "<br>\n",
    "![image](https://user-images.githubusercontent.com/68596881/106868444-20a9c000-6712-11eb-9a11-6f8c385424a4.png)"
   ]
  },
  {
   "cell_type": "code",
   "execution_count": 8,
   "metadata": {},
   "outputs": [],
   "source": [
    "def bubble_sort(A):\n",
    "    n = len(A)\n",
    "    for i in range(n-1, 0, -1):\n",
    "        bChanged = False\n",
    "        for j in range(i):\n",
    "            if (A[j] > A[j+1]):\n",
    "                A[j], A[j+1] = A[j+1], A[j] # 교환\n",
    "                bChanged = True\n",
    "        \n",
    "        if not bChanged: # 교환이 없으면 종료\n",
    "            break\n",
    "        printStep(A, n-i)"
   ]
  },
  {
   "cell_type": "code",
   "execution_count": 9,
   "metadata": {},
   "outputs": [
    {
     "name": "stdout",
     "output_type": "stream",
     "text": [
      "Original : [5, 3, 8, 4, 9, 1, 6, 2, 7]\n",
      "  Step  1 = [3, 5, 4, 8, 1, 6, 2, 7, 9]\n",
      "  Step  2 = [3, 4, 5, 1, 6, 2, 7, 8, 9]\n",
      "  Step  3 = [3, 4, 1, 5, 2, 6, 7, 8, 9]\n",
      "  Step  4 = [3, 1, 4, 2, 5, 6, 7, 8, 9]\n",
      "  Step  5 = [1, 3, 2, 4, 5, 6, 7, 8, 9]\n",
      "  Step  6 = [1, 2, 3, 4, 5, 6, 7, 8, 9]\n",
      "Bubble : [1, 2, 3, 4, 5, 6, 7, 8, 9]\n"
     ]
    }
   ],
   "source": [
    "data = [5,3,8,4,9,1,6,2,7]\n",
    "print('Original :', data)\n",
    "bubble_sort(data)\n",
    "print('Bubble :', data)"
   ]
  },
  {
   "cell_type": "markdown",
   "metadata": {},
   "source": [
    "시간 복잡도\n",
    "- 최악의 경우: 입력 자료가 역순으로 정렬되어 있는 경우\n",
    "- 최선의 경우: 입력 자료가 이미 정렬이 되어 있는 경우\n",
    "- $O(n^2)$"
   ]
  },
  {
   "cell_type": "markdown",
   "metadata": {},
   "source": [
    "## 7.3 정렬 응용: 집합 다시보기"
   ]
  },
  {
   "cell_type": "markdown",
   "metadata": {},
   "source": [
    "집합의 원소들을 항상 정렬된 순으로 지정하면 집합의 비교, 합집합, 차집합, 교집합 등을 훨씬 효율적으로 구현할 수 있다."
   ]
  },
  {
   "cell_type": "markdown",
   "metadata": {},
   "source": [
    "## 7.4 탐색과 맵 구조"
   ]
  },
  {
   "cell_type": "markdown",
   "metadata": {},
   "source": [
    "탐색: 테이블에서 원하는 탐색키를 가진 레코드를 찾는 작업  \n",
    "맵(map) 또는 딕셔너리(dictionary): 자료를 저장하고 탐색키를 이용해 원하는 자료를 빠르게 찾을 수 있도록 하는 탐색을 위한 자료구조"
   ]
  },
  {
   "cell_type": "markdown",
   "metadata": {},
   "source": [
    "맵의 추상자료형\n",
    "- 데이터: 키를 가진 레코드(엔트리)의 집합\n",
    "- 연산\n",
    "    - search(key): 탐색키 key를 가진 레코드를 찾아 반환한다.\n",
    "    - insert(entry): 주어진 entry를 맵에 삽입한다.\n",
    "    - delete(key): 탐색키 key를 가진 레코드를 찾아 삭제한다."
   ]
  },
  {
   "cell_type": "markdown",
   "metadata": {},
   "source": [
    "## 7.5 간단한 탐색 알고리즘\n",
    "### 순차 탐색(sequential search)\n",
    "순차 탐색: 테이블의 각 레코드를 처음부터 하나씩 순서대로 검사하여 원하는 레코드를 찾는다."
   ]
  },
  {
   "cell_type": "markdown",
   "metadata": {},
   "source": [
    "![image](https://user-images.githubusercontent.com/68596881/106868485-2d2e1880-6712-11eb-833b-64498ea57bda.png)"
   ]
  },
  {
   "cell_type": "code",
   "execution_count": 10,
   "metadata": {},
   "outputs": [],
   "source": [
    "def sequential_search(A, key, low, high): # key:탐색키, low~high: 탐색 범위\n",
    "    for i in range(low, high+1):\n",
    "        if A[i].key == key:\n",
    "            return i\n",
    "    return None"
   ]
  },
  {
   "cell_type": "markdown",
   "metadata": {},
   "source": [
    "시간 복잡도\n",
    " - 찾는 항목이 맨 뒤에 있거나, 리스트에 없는 키를 찾는 경우 n번 비교 -> $O(n)$"
   ]
  },
  {
   "cell_type": "markdown",
   "metadata": {},
   "source": [
    "이 방법은 간단하고 구현하기 쉽지만 효율적이지는 않다. 하지만 테이블이 정렬되어 있지 않다면 순차 탐색 이외에 다른 대안이 없다."
   ]
  },
  {
   "cell_type": "markdown",
   "metadata": {},
   "source": [
    "### 이진 탐색(binary search)\n",
    "테이블이 킷값을 기준으로 정려되어 있다면 보다 개선된 탐색이 가능한다.  \n",
    "이진 탐색: 테이블의 중앙에 있는 값을 조사하여 찾은 항목이 왼쪽에 있는지 오른쪽에 있는지를 판단한다.  \n",
    "<br>\n",
    "![image](https://user-images.githubusercontent.com/68596881/106868531-37e8ad80-6712-11eb-9263-4623ec4ac848.png)"
   ]
  },
  {
   "cell_type": "code",
   "execution_count": 11,
   "metadata": {},
   "outputs": [],
   "source": [
    "#순환 구조\n",
    "def binary_search(A, key, low, high):\n",
    "    if (low <= high):\n",
    "        middle = (low+high) // 2\n",
    "        if key == A[middle].key: #탐색 성공\n",
    "            return middle\n",
    "        elif key<A[middle].key:\n",
    "            return binary_search(A, key, low, middle-1)\n",
    "        else:\n",
    "            return binary_search(A, key, low+1, high)\n",
    "    return None #탐색 실패\n",
    "\n",
    "#반복 구조\n",
    "def binary_search_iter(A, key, low, high):\n",
    "    while low <= high:\n",
    "        middle = (low+high) // 2\n",
    "        if key == A[middle].key:\n",
    "            return middle\n",
    "        elif key < A[middle].key:\n",
    "            high = middle - 1\n",
    "        else:\n",
    "            low = middle + 1\n",
    "    return None"
   ]
  },
  {
   "cell_type": "markdown",
   "metadata": {},
   "source": [
    "효율성을 위해서는 반복 구조가 더 유리하다."
   ]
  },
  {
   "cell_type": "markdown",
   "metadata": {},
   "source": [
    "시간 복잡도\n",
    "- 이진 탐색은 각 단계에서 탐색 범위가 반으로 줄어든다.\n",
    "- 탐색 범위가 1이 될 때의 탐색 횟수를 k라 하면, $\\frac{n}{2^k} = 1$\n",
    "- $k = log_{2}n$이므로 이진 탐색의 시간 복잡도는 $O(log_{2}n)$"
   ]
  },
  {
   "cell_type": "markdown",
   "metadata": {},
   "source": [
    "이진 탐색은 매우 효율적인 탐색 방법이지만 탐색하기 전에 반드시 배열이 정렬되어 있어야 한다는 전제조건이 있다. 따라서 이진 탐색은 데이터의 삽입이나 삭제가 빈번한 응용에는 적합하지 않다."
   ]
  },
  {
   "cell_type": "markdown",
   "metadata": {},
   "source": [
    "### 보간 탐색(interpolation search)\n",
    "보간 탐색: 탐색 값과 위치는 비례한다는 가정에서 탐색 위치를 결정할 때 찾고자 하는 킷값이 있는 곳에 근접하도록 가중치를 주는 방법  \n",
    "이진 탐색 함수에서 middle = int(low + (high-low)*(key - A[low].key) / (A[high].key - A[low].key))로 수정하면 된다."
   ]
  },
  {
   "cell_type": "markdown",
   "metadata": {},
   "source": [
    "![image](https://user-images.githubusercontent.com/68596881/106868554-40d97f00-6712-11eb-8b7d-144b6d28d372.png)"
   ]
  },
  {
   "cell_type": "code",
   "execution_count": null,
   "metadata": {},
   "outputs": [],
   "source": []
  }
 ],
 "metadata": {
  "kernelspec": {
   "display_name": "Python 3",
   "language": "python",
   "name": "python3"
  },
  "language_info": {
   "codemirror_mode": {
    "name": "ipython",
    "version": 3
   },
   "file_extension": ".py",
   "mimetype": "text/x-python",
   "name": "python",
   "nbconvert_exporter": "python",
   "pygments_lexer": "ipython3",
   "version": "3.7.3"
  }
 },
 "nbformat": 4,
 "nbformat_minor": 2
}
