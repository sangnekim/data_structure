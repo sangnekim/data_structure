{
 "cells": [
  {
   "cell_type": "markdown",
   "metadata": {},
   "source": [
    "# 정렬과 탐색"
   ]
  },
  {
   "cell_type": "markdown",
   "metadata": {},
   "source": [
    "## 7.1 정렬이란?\n",
    "탐색(seraching): 많은 자료 중에서 무언가를 찾는 작업  \n",
    "정렬(sorting): 데이터를 순서대로 재배열 하는 것  \n",
    "<br>\n",
    "정렬 장소에 따른 분류\n",
    "- 내부 정렬: 모든 데이터가 메인 메모리에 올라와 있는 정렬을 의미\n",
    "- 외부 정렬: 외부 기억 장치에 대부분의 데이터가 있고 일부만 메모리에 올려 정렬하는 방법"
   ]
  },
  {
   "cell_type": "markdown",
   "metadata": {},
   "source": [
    "구현 복잡도와 알고리즘 효율성에 따른 분류\n",
    "- 단순하지만 비효율적인 방법: 삽입정렬, 선택정렬, 버블 정렬 등\n",
    "- 복잡하지만 효율적인 방법: 퀵 정렬, 힙 정렬, 병합정렬, 기수 정렬 등"
   ]
  },
  {
   "cell_type": "markdown",
   "metadata": {},
   "source": [
    "안정성에 따른 분류\n",
    "- 안정성이란 입력 데이터에 동일한 킷값을 갖는 레코드가 여러 개 존재할 경우, 정렬 후에도 이들의 상대적인 위치가 바뀌지 않는 것을 말한다.\n",
    "- 삽입정렬, 버블정렬, 병합정렬"
   ]
  },
  {
   "cell_type": "markdown",
   "metadata": {},
   "source": [
    "## 7.2 간단한 정렬 알고리즘"
   ]
  },
  {
   "cell_type": "markdown",
   "metadata": {},
   "source": [
    "### 선택 정렬(selection sort)\n",
    "선택 정렬: 리스트에서 가장 작은 숫자를 선택해서 앞쪽으로 옮기는 방법을 사용  \n",
    "<br>\n",
    "![image](https://user-images.githubusercontent.com/68596881/106868351-040d8800-6712-11eb-8c07-f6bd6cb54300.png)"
   ]
  },
  {
   "cell_type": "code",
   "execution_count": 2,
   "metadata": {},
   "outputs": [],
   "source": [
    "def printStep(arr, val):\n",
    "    print(\"  Step %2d = \"%val, end = '')\n",
    "    print(arr)"
   ]
  },
  {
   "cell_type": "code",
   "execution_count": 3,
   "metadata": {},
   "outputs": [],
   "source": [
    "def selection_sort(A):\n",
    "    n = len(A)\n",
    "    for i in range(n-1):\n",
    "        least = i\n",
    "        for j in range(i+1, n):\n",
    "            if A[j] < A[least]:\n",
    "                least = j #최소항목 갱신\n",
    "        A[i], A[least] = A[least], A[i] #배열 항목 교환\n",
    "        printStep(A, i+1) #중간 과정 출력용"
   ]
  },
  {
   "cell_type": "code",
   "execution_count": 4,
   "metadata": {},
   "outputs": [
    {
     "name": "stdout",
     "output_type": "stream",
     "text": [
      "Original : [5, 3, 8, 4, 9, 1, 6, 2, 7]\n",
      "  Step  1 = [1, 3, 8, 4, 9, 5, 6, 2, 7]\n",
      "  Step  2 = [1, 2, 8, 4, 9, 5, 6, 3, 7]\n",
      "  Step  3 = [1, 2, 3, 4, 9, 5, 6, 8, 7]\n",
      "  Step  4 = [1, 2, 3, 4, 9, 5, 6, 8, 7]\n",
      "  Step  5 = [1, 2, 3, 4, 5, 9, 6, 8, 7]\n",
      "  Step  6 = [1, 2, 3, 4, 5, 6, 9, 8, 7]\n",
      "  Step  7 = [1, 2, 3, 4, 5, 6, 7, 8, 9]\n",
      "  Step  8 = [1, 2, 3, 4, 5, 6, 7, 8, 9]\n",
      "Selection : [1, 2, 3, 4, 5, 6, 7, 8, 9]\n"
     ]
    }
   ],
   "source": [
    "data = [5,3,8,4,9,1,6,2,7]\n",
    "print('Original :', data)\n",
    "selection_sort(data)\n",
    "print('Selection :', data)"
   ]
  },
  {
   "cell_type": "markdown",
   "metadata": {},
   "source": [
    "시간 복잡도\n",
    "- 외부 루프는 n-1번 반복, 내부루프는 0에서 n-2까지 변하는 i에 대해여 (n-1)-i번 반복\n",
    "- 따라서 (n-1) + (n-2) + ... + 1 = $O(n^2)$"
   ]
  },
  {
   "cell_type": "markdown",
   "metadata": {},
   "source": [
    "### 삽입 정렬(insertion sort)"
   ]
  },
  {
   "cell_type": "markdown",
   "metadata": {},
   "source": [
    "삽입 정렬: 정렬이 안 된 부분의 숫자를 하나씩 정렬된 부분의 적절한 위치를 찾아 끼워 넣는 과정을 반복한다.  \n",
    "<br>\n",
    "![image](https://user-images.githubusercontent.com/68596881/106868393-12f43a80-6712-11eb-83ce-1ffdd820d476.png)"
   ]
  },
  {
   "cell_type": "code",
   "execution_count": 5,
   "metadata": {},
   "outputs": [],
   "source": [
    "def insertion_sort(A):\n",
    "    n = len(A)\n",
    "    for i in range(1,n):\n",
    "        key = A[i] # key는 정렬된 부분에 삽입할 원소\n",
    "        j = i-1\n",
    "        while j>= 0 and A[j] > key: # key보다 큰 원소들을 뒤로 한 칸씩 이동\n",
    "            A[j+1] = A[j]\n",
    "            j -=1\n",
    "        A[j+1] = key # key 보다 큰 정렬된 원소들 앞으로 삽입 \n",
    "        printStep(A, i)"
   ]
  },
  {
   "cell_type": "code",
   "execution_count": 6,
   "metadata": {},
   "outputs": [
    {
     "name": "stdout",
     "output_type": "stream",
     "text": [
      "Original : [5, 3, 8, 4, 9, 1, 6, 2, 7]\n",
      "  Step  1 = [3, 5, 8, 4, 9, 1, 6, 2, 7]\n",
      "  Step  2 = [3, 5, 8, 4, 9, 1, 6, 2, 7]\n",
      "  Step  3 = [3, 4, 5, 8, 9, 1, 6, 2, 7]\n",
      "  Step  4 = [3, 4, 5, 8, 9, 1, 6, 2, 7]\n",
      "  Step  5 = [1, 3, 4, 5, 8, 9, 6, 2, 7]\n",
      "  Step  6 = [1, 3, 4, 5, 6, 8, 9, 2, 7]\n",
      "  Step  7 = [1, 2, 3, 4, 5, 6, 8, 9, 7]\n",
      "  Step  8 = [1, 2, 3, 4, 5, 6, 7, 8, 9]\n",
      "Insertion : [1, 2, 3, 4, 5, 6, 7, 8, 9]\n"
     ]
    }
   ],
   "source": [
    "data = [5,3,8,4,9,1,6,2,7]\n",
    "print('Original :', data)\n",
    "insertion_sort(data)\n",
    "print('Insertion :', data)"
   ]
  },
  {
   "cell_type": "markdown",
   "metadata": {},
   "source": [
    "시간 복잡도\n",
    "- 복잡도는 입력 자료의 구성에 따라서 달라진다.\n",
    "- 입력 자료가 이미 정렬되어 있는 경우 $O(n)$\n",
    "- 입력 자료가 역으로 정렬된 경우 $O(n^2)$\n",
    "- 대부분의 레코다가 이미 정려되어 있는 경우 효율적"
   ]
  },
  {
   "cell_type": "markdown",
   "metadata": {},
   "source": [
    "### 버블 정렬(bubble sort)"
   ]
  },
  {
   "cell_type": "markdown",
   "metadata": {},
   "source": [
    "버블 정렬: 인접한 2개의 레코드를 비교하여 크기가 순서대로가 아니면 서로 교환하는 방법을 사용. 이러한 비교-교환 과정은 리스트의 왼쪽 끝에서 시작하여 오른쪽 끝까지 진행  \n",
    "<br>\n",
    "![image](https://user-images.githubusercontent.com/68596881/106868444-20a9c000-6712-11eb-9a11-6f8c385424a4.png)"
   ]
  },
  {
   "cell_type": "code",
   "execution_count": 7,
   "metadata": {},
   "outputs": [],
   "source": [
    "def bubble_sort(A):\n",
    "    n = len(A)\n",
    "    for i in range(n-1, 0, -1):\n",
    "        bChanged = False\n",
    "        for j in range(i):\n",
    "            if (A[j] > A[j+1]):\n",
    "                A[j], A[j+1] = A[j+1], A[j] # 교환\n",
    "                bChanged = True\n",
    "        \n",
    "        if not bChanged: # 교환이 없으면 종료\n",
    "            break\n",
    "        printStep(A, n-i)"
   ]
  },
  {
   "cell_type": "code",
   "execution_count": 8,
   "metadata": {},
   "outputs": [
    {
     "name": "stdout",
     "output_type": "stream",
     "text": [
      "Original : [5, 3, 8, 4, 9, 1, 6, 2, 7]\n",
      "  Step  1 = [3, 5, 4, 8, 1, 6, 2, 7, 9]\n",
      "  Step  2 = [3, 4, 5, 1, 6, 2, 7, 8, 9]\n",
      "  Step  3 = [3, 4, 1, 5, 2, 6, 7, 8, 9]\n",
      "  Step  4 = [3, 1, 4, 2, 5, 6, 7, 8, 9]\n",
      "  Step  5 = [1, 3, 2, 4, 5, 6, 7, 8, 9]\n",
      "  Step  6 = [1, 2, 3, 4, 5, 6, 7, 8, 9]\n",
      "Bubble : [1, 2, 3, 4, 5, 6, 7, 8, 9]\n"
     ]
    }
   ],
   "source": [
    "data = [5,3,8,4,9,1,6,2,7]\n",
    "print('Original :', data)\n",
    "bubble_sort(data)\n",
    "print('Bubble :', data)"
   ]
  },
  {
   "cell_type": "markdown",
   "metadata": {},
   "source": [
    "시간 복잡도\n",
    "- 최악의 경우: 입력 자료가 역순으로 정렬되어 있는 경우\n",
    "- 최선의 경우: 입력 자료가 이미 정렬이 되어 있는 경우\n",
    "- $O(n^2)$"
   ]
  },
  {
   "cell_type": "markdown",
   "metadata": {},
   "source": [
    "## 7.3 정렬 응용: 집합 다시보기"
   ]
  },
  {
   "cell_type": "markdown",
   "metadata": {},
   "source": [
    "집합의 원소들을 항상 정렬된 순으로 지정하면 집합의 비교, 합집합, 차집합, 교집합 등을 훨씬 효율적으로 구현할 수 있다."
   ]
  },
  {
   "cell_type": "markdown",
   "metadata": {},
   "source": [
    "## 7.4 탐색과 맵 구조"
   ]
  },
  {
   "cell_type": "markdown",
   "metadata": {},
   "source": [
    "탐색: 테이블에서 원하는 탐색키를 가진 레코드를 찾는 작업  \n",
    "맵(map) 또는 딕셔너리(dictionary): 자료를 저장하고 탐색키를 이용해 원하는 자료를 빠르게 찾을 수 있도록 하는 탐색을 위한 자료구조"
   ]
  },
  {
   "cell_type": "markdown",
   "metadata": {},
   "source": [
    "맵의 추상자료형\n",
    "- 데이터: 키를 가진 레코드(엔트리)의 집합\n",
    "- 연산\n",
    "    - search(key): 탐색키 key를 가진 레코드를 찾아 반환한다.\n",
    "    - insert(entry): 주어진 entry를 맵에 삽입한다.\n",
    "    - delete(key): 탐색키 key를 가진 레코드를 찾아 삭제한다."
   ]
  },
  {
   "cell_type": "markdown",
   "metadata": {},
   "source": [
    "## 7.5 간단한 탐색 알고리즘\n",
    "### 순차 탐색(sequential search)\n",
    "순차 탐색: 테이블의 각 레코드를 처음부터 하나씩 순서대로 검사하여 원하는 레코드를 찾는다."
   ]
  },
  {
   "cell_type": "markdown",
   "metadata": {},
   "source": [
    "![image](https://user-images.githubusercontent.com/68596881/106868485-2d2e1880-6712-11eb-833b-64498ea57bda.png)"
   ]
  },
  {
   "cell_type": "code",
   "execution_count": 9,
   "metadata": {},
   "outputs": [],
   "source": [
    "def sequential_search(A, key, low, high): # key:탐색키, low~high: 탐색 범위\n",
    "    for i in range(low, high+1):\n",
    "        if A[i].key == key:\n",
    "            return i\n",
    "    return None"
   ]
  },
  {
   "cell_type": "markdown",
   "metadata": {},
   "source": [
    "시간 복잡도\n",
    " - 찾는 항목이 맨 뒤에 있거나, 리스트에 없는 키를 찾는 경우 n번 비교 -> $O(n)$"
   ]
  },
  {
   "cell_type": "markdown",
   "metadata": {},
   "source": [
    "이 방법은 간단하고 구현하기 쉽지만 효율적이지는 않다. 하지만 테이블이 정렬되어 있지 않다면 순차 탐색 이외에 다른 대안이 없다."
   ]
  },
  {
   "cell_type": "markdown",
   "metadata": {},
   "source": [
    "### 이진 탐색(binary search)\n",
    "테이블이 킷값을 기준으로 정려되어 있다면 보다 개선된 탐색이 가능한다.  \n",
    "이진 탐색: 테이블의 중앙에 있는 값을 조사하여 찾은 항목이 왼쪽에 있는지 오른쪽에 있는지를 판단한다.  \n",
    "<br>\n",
    "![image](https://user-images.githubusercontent.com/68596881/106868531-37e8ad80-6712-11eb-9263-4623ec4ac848.png)"
   ]
  },
  {
   "cell_type": "code",
   "execution_count": 10,
   "metadata": {},
   "outputs": [],
   "source": [
    "#순환 구조\n",
    "def binary_search(A, key, low, high):\n",
    "    if (low <= high):\n",
    "        middle = (low+high) // 2\n",
    "        if key == A[middle].key: #탐색 성공\n",
    "            return middle\n",
    "        elif key<A[middle].key:\n",
    "            return binary_search(A, key, low, middle-1)\n",
    "        else:\n",
    "            return binary_search(A, key, low+1, high)\n",
    "    return None #탐색 실패\n",
    "\n",
    "#반복 구조\n",
    "def binary_search_iter(A, key, low, high):\n",
    "    while low <= high:\n",
    "        middle = (low+high) // 2\n",
    "        if key == A[middle].key:\n",
    "            return middle\n",
    "        elif key < A[middle].key:\n",
    "            high = middle - 1\n",
    "        else:\n",
    "            low = middle + 1\n",
    "    return None"
   ]
  },
  {
   "cell_type": "markdown",
   "metadata": {},
   "source": [
    "효율성을 위해서는 반복 구조가 더 유리하다."
   ]
  },
  {
   "cell_type": "markdown",
   "metadata": {},
   "source": [
    "시간 복잡도\n",
    "- 이진 탐색은 각 단계에서 탐색 범위가 반으로 줄어든다.\n",
    "- 탐색 범위가 1이 될 때의 탐색 횟수를 k라 하면, $\\frac{n}{2^k} = 1$\n",
    "- $k = log_{2}n$이므로 이진 탐색의 시간 복잡도는 $O(log_{2}n)$"
   ]
  },
  {
   "cell_type": "markdown",
   "metadata": {},
   "source": [
    "이진 탐색은 매우 효율적인 탐색 방법이지만 탐색하기 전에 반드시 배열이 정렬되어 있어야 한다는 전제조건이 있다. 따라서 이진 탐색은 데이터의 삽입이나 삭제가 빈번한 응용에는 적합하지 않다."
   ]
  },
  {
   "cell_type": "markdown",
   "metadata": {},
   "source": [
    "### 보간 탐색(interpolation search)\n",
    "보간 탐색: 탐색 값과 위치는 비례한다는 가정에서 탐색 위치를 결정할 때 찾고자 하는 킷값이 있는 곳에 근접하도록 가중치를 주는 방법  \n",
    "이진 탐색 함수에서 middle = int(low + (high-low)*(key - A[low].key) / (A[high].key - A[low].key))로 수정하면 된다."
   ]
  },
  {
   "cell_type": "markdown",
   "metadata": {},
   "source": [
    "![image](https://user-images.githubusercontent.com/68596881/106868554-40d97f00-6712-11eb-8b7d-144b6d28d372.png)"
   ]
  },
  {
   "cell_type": "markdown",
   "metadata": {},
   "source": [
    "## 7.6 고급 탐색 구조: 해싱"
   ]
  },
  {
   "cell_type": "markdown",
   "metadata": {},
   "source": [
    "해싱이란?\n",
    "- 킷값에 산술적인 연산을 적용하여 레코드가 저장되어야 할 위치를 직접 계산하는 것\n",
    "- 따라서 탐색은 테이블에 있는 레코드를 하나씩 비교하는 것이 아니라 탐색키로부터 레코드가 있어야 할 위치를 계산하고, 그 위치에 레코드가 있는지를 확인만 하면 된다."
   ]
  },
  {
   "cell_type": "markdown",
   "metadata": {},
   "source": [
    "해시 함수(hash function): 해싱에서 킷값으로부터 레코드가 저장될 위치를 계산하는 함수  \n",
    "해시 테이블(hash table): 해시 함수에 의해 계산된 위치에 레코드를 저장한 테이블"
   ]
  },
  {
   "cell_type": "markdown",
   "metadata": {},
   "source": [
    "### 해싱과 오버플로"
   ]
  },
  {
   "cell_type": "markdown",
   "metadata": {},
   "source": [
    "해시 테이블은 M개의 버킷(bucket)으로 이루어지는 테이블이고, 하나의 버킷은 여러 개의 슬롯(slot)을 가지는데, 하나의 슬롯에는 하나의 레코드가 저장된다.  \n",
    "충돌(collision): 버킷이 충분하지 않으면 경우에 따라 서로 다른 키가 해시함수에 의해 같은 주소로 계산되는 상황  \n",
    "동의어(synonym): 충돌을 일으키는 키들"
   ]
  },
  {
   "cell_type": "markdown",
   "metadata": {},
   "source": [
    "![image](https://user-images.githubusercontent.com/68596881/106988944-57d0ad80-67b4-11eb-9b7e-c6d2cba3a59d.png)"
   ]
  },
  {
   "cell_type": "markdown",
   "metadata": {},
   "source": [
    "충돌이 발생할때 버킷에 여러 개의 슬롯이 있다면 서로 다른 슬롯에 저장하면 된다.  \n",
    "충돌이 슬롯 수보다 많이 발생하는 상황을 오버플로(overflow)라 하는데, 해당 버킷에 더 이상 항목을 저장할 수 없게 된다."
   ]
  },
  {
   "cell_type": "markdown",
   "metadata": {},
   "source": [
    "### 선형 조사에 의한 오버플로 처리"
   ]
  },
  {
   "cell_type": "markdown",
   "metadata": {},
   "source": [
    "선형 조사법: 해싱 함수로 계산된 버킷에 빈 슬로이 없으면 그 다음 버킷에서 빈 슬롯이 있는지를 찾는 방법  \n",
    "<br>\n",
    "삽입 연산\n",
    "- 해시 테이블의 k번째 위치인 ht[k]에서 충돌이 발생했다면 다음 위치인 ht[k+1]부터 순서대로 비어 있는지를 살피고, 빈 공간이 있으면 저장한다.\n",
    "- 이 과정은 비어있는 공간이 나올 때까지 계속된다.\n",
    "- 만약 테이블의 끝에 도달하면 다시 테이블의 처음으로 간다.\n",
    "- 조사 과정에서 처음 충돌이 발생한 곳으로 다시 돌아왔다면 테이블이 가득 찬 상태이다."
   ]
  },
  {
   "cell_type": "markdown",
   "metadata": {},
   "source": [
    "선형 조사법은 간단하지만 오버플로가 자주 발생하면 군집화 현상에 따라 탐색의 효율이 크게 저하될 수 있다."
   ]
  },
  {
   "cell_type": "markdown",
   "metadata": {},
   "source": [
    "탐색 연산\n",
    "- 해당 주소에 같은 키의 레코드가 있으면 탐색은 성공\n",
    "- 해당 주소에 같은 키의 레코드가 없으면 삽입과 같은 방법으로 계속 다음 버킷을 검사\n",
    "- 이 과정은 해당 키의 레코드를 찾거나, 레코드가 없는 버킷을 만나거나 모든 버킷을 다 검사할 때 까지 진행된다."
   ]
  },
  {
   "cell_type": "markdown",
   "metadata": {},
   "source": [
    "![image](https://user-images.githubusercontent.com/68596881/106988966-67e88d00-67b4-11eb-845d-60c600665592.png)"
   ]
  },
  {
   "cell_type": "markdown",
   "metadata": {},
   "source": [
    "삭제 연산\n",
    "- 선형 조사법에서 항목이 삭제되면 탐색이 불가능해질 수 있다.\n",
    "- 빈 버킷을 두 가지로 분류해야 한다.\n",
    "- 한 번도 사용하지 않은 것과, 사용되었다가 삭제되어 현재 비어있는 버킷으로 나누어야 한다."
   ]
  },
  {
   "cell_type": "markdown",
   "metadata": {},
   "source": [
    "![image](https://user-images.githubusercontent.com/68596881/106988979-733bb880-67b4-11eb-9bb9-f9c5bb0bba0a.png)"
   ]
  },
  {
   "cell_type": "markdown",
   "metadata": {},
   "source": [
    "이차 조사법(quadratic probing): 군집화 문제를 완화시키기 위한 방법으로 충돌이 발생하면 다음에 조사할 위치를 다음 식에 의해 결정하는 방법\n",
    "$$(h(k)+i*i)\\%M \\;for \\, i = 0,1,...,M-1$$"
   ]
  },
  {
   "cell_type": "markdown",
   "metadata": {},
   "source": [
    "이중 해싱법(double hashing): 재해싱이라고도 불리는 이 방법은 충돌이 발생해 저장할 다음 위치를 결정할 때, 원래 해시 함수와 다른 별개의 해시 함수를 이용하는 방법이다."
   ]
  },
  {
   "cell_type": "markdown",
   "metadata": {},
   "source": [
    "### 체이닝에 의한 오버플로 처리\n",
    "체이닝(chaining)은 하나의 버킷에 여러 개의 레코드를 저장할 수 있도록 하는 방법으로, 버킷은 보통 연결 리스트로 구현한다.  \n",
    "<br>\n",
    "\n",
    "예시| 체이닝을 이용해 크기가 7인 해시 테이블에 h(k) = k%7의 해시 함수를 이용하여 8,1,9,6,13 을 삽입하는 과정\n",
    "1. 8 저장: h(8) = 8%7 = 1 -> 저장\n",
    "2. 1 저장: h(1) = 1%7 = 1 -> 충돌 -> 새로운 노드 생성 및 저장\n",
    "3. 9 저장: h(9) = 9%7 = 2 -> 저장\n",
    "4. 6 저장: h(6) = 6%7 = 6 -> 저장\n",
    "5. 13 저장: h(13) = 13%7 = 6 -> 충돌 -> 새로운 노드 생성 및 저장"
   ]
  },
  {
   "cell_type": "markdown",
   "metadata": {},
   "source": [
    "![image](https://user-images.githubusercontent.com/68596881/106989003-8058a780-67b4-11eb-92dd-c16f5dbddbda.png)"
   ]
  },
  {
   "cell_type": "markdown",
   "metadata": {},
   "source": [
    "체이닝에서 항목을 탐색하거나 삽입하고자 하면 킷값의 버킷에 해당하는 연결 리스트에서 독립적으로 탐색이나 삽입이 이루어진다.  \n",
    "해시 테이블을 연결 리스트로 구성하므로 필요한 만큼의 메모리만 사용하게 되어 공간적 사용 효율이 매우 우수  \n",
    "오버플로가 발생할 경우에도 해당 버킷에 할당된 연결 리스트만 처리하게 되므로 수행 시간면에서도 효율적이다."
   ]
  },
  {
   "cell_type": "markdown",
   "metadata": {},
   "source": [
    "### 해시 함수\n",
    "좋은 해시 함수는 충돌이 적어야 하고, 주소가 테이블에서 고르게 분포되어야 하며, 계산이 빨라야 한다.\n",
    "- 제산 함수: 나머지 연산을 이용하는 것\n",
    "- 폴딩 함수: 탐색키가 해시 테이블의 크기보다 더 큰 정수일 경우 사용한다. 탐색키를 몇 개의 부분으로 나누어 이를 더하거나 비트별 XOR와 같은 부울 연산을 이용하는 것\n",
    "- 중간 제곱 함수: 탐색키를 제곱한 다음, 중간의 몇 비트를 취해서 해시 주소를 생성\n",
    "- 비트 추출 방법: 해시 테이블의 크기가 2의 제곱수일 때 탐색키를 이진수로 간주하여 임의의 위치의 k개의 비트를 해시 주소로 사용하는 것\n",
    "- 숫자 분석 방법: 키의 각 위치에 있는 숫자 중에서 편중되지 않는 수들을 해시 테이블의 크기에 적합한 만큼 조합하여 해시 주소로 사용하는 것\n",
    "- 탐색키가 문자열인 경우: 각 문자에 정수를 대응시켜 바꾼다."
   ]
  },
  {
   "cell_type": "markdown",
   "metadata": {},
   "source": [
    "### 탐색 방법들의 성능 비교\n",
    "![image](https://user-images.githubusercontent.com/68596881/106989029-8f3f5a00-67b4-11eb-8278-fc2f9f804a93.png)"
   ]
  },
  {
   "cell_type": "markdown",
   "metadata": {},
   "source": [
    "이상적인 경우 해싱이 가장 효율적인 방법이다.  \n",
    "하지만 해싱은 순서가 없다. 따라서 정렬된 배열이나 이진탐색트리와 가팅 어떤 항목의 이전 항목이나 다음 항목을 쉽게 찾을 수 없다.  \n",
    "또한 해시 테이블의 크기를 결정하는 것이 불명확하다."
   ]
  },
  {
   "cell_type": "markdown",
   "metadata": {},
   "source": [
    "## 7.7 맵의 응용: 나의 단어장"
   ]
  },
  {
   "cell_type": "markdown",
   "metadata": {},
   "source": [
    "맵은 에트리의 집합이므로 엔트리 클래스가 필요하다."
   ]
  },
  {
   "cell_type": "code",
   "execution_count": 11,
   "metadata": {},
   "outputs": [],
   "source": [
    "class Entry:\n",
    "    def __init__(self, key, value):\n",
    "        self.key = key\n",
    "        self.value = value\n",
    "    \n",
    "    def __str__(self):\n",
    "        return str(\"%s:%s\"%(self.key, self.value))"
   ]
  },
  {
   "cell_type": "markdown",
   "metadata": {},
   "source": [
    "### 리스트를 이용한 순차탐색 맵"
   ]
  },
  {
   "cell_type": "code",
   "execution_count": 12,
   "metadata": {},
   "outputs": [],
   "source": [
    "class SequentialMap:\n",
    "    def __init__(self):\n",
    "        self.table = []\n",
    "    \n",
    "    def size(self):\n",
    "        return len(self.table)\n",
    "    \n",
    "    def display(self, msg):\n",
    "        print(msg)\n",
    "        for entry in self.table:\n",
    "            print(\" \", entry)\n",
    "    \n",
    "    def insert(self, key, value):\n",
    "        self.table.append(Entry(key, value))\n",
    "    \n",
    "    def search(self, key):\n",
    "        pos = sequential_search(self.table, key, 0, self.size()-1)\n",
    "        if pos is not None:\n",
    "            return self.table[pos]\n",
    "        else:\n",
    "            return None\n",
    "    \n",
    "    def delete(self, key):\n",
    "        for i in range(self.size()):\n",
    "            if self.table[i].key == key:\n",
    "                self.table.pop(i)\n",
    "                return"
   ]
  },
  {
   "cell_type": "code",
   "execution_count": 14,
   "metadata": {},
   "outputs": [
    {
     "name": "stdout",
     "output_type": "stream",
     "text": [
      "나의 단어장: \n",
      "  data:자료\n",
      "  structure:구조\n",
      "  sequential search:선형 탐색\n",
      "  game:게임\n",
      "  binary search:이진 탐색\n",
      "탐색:game -->  game:게임\n",
      "탐색:over -->  None\n",
      "탐색:data -->  data:자료\n",
      "나의 단어장: \n",
      "  data:자료\n",
      "  structure:구조\n",
      "  sequential search:선형 탐색\n",
      "  binary search:이진 탐색\n"
     ]
    }
   ],
   "source": [
    "map = SequentialMap()\n",
    "map.insert('data', '자료')\n",
    "map.insert('structure', '구조')\n",
    "map.insert('sequential search', '선형 탐색')\n",
    "map.insert('game', '게임')\n",
    "map.insert('binary search', '이진 탐색')\n",
    "map.display('나의 단어장: ')\n",
    "\n",
    "print('탐색:game --> ', map.search('game'))\n",
    "print('탐색:over --> ', map.search('over'))\n",
    "print('탐색:data --> ', map.search('data'))\n",
    "\n",
    "map.delete('game')\n",
    "map.display('나의 단어장: ')"
   ]
  },
  {
   "cell_type": "markdown",
   "metadata": {},
   "source": [
    "### 체이닝을 이용한 해시 맵"
   ]
  },
  {
   "cell_type": "code",
   "execution_count": 15,
   "metadata": {},
   "outputs": [],
   "source": [
    "class HashChainMap:\n",
    "    def __init__(self, M):\n",
    "        self.table = [None]*M\n",
    "        self.M = M\n",
    "    \n",
    "    def hashFn(self, key):\n",
    "        sum = 0\n",
    "        for c in key:\n",
    "            sum = sum + ord(c)\n",
    "        return sum%self.M\n",
    "    \n",
    "    def insert(self, key, value):\n",
    "        idx = self.hashFn(key)\n",
    "        self.table[idx] = Node(Entry(key, value), self.table[idx])\n",
    "        \n",
    "    def search(self, key):\n",
    "        idx = self.hashFn(key)\n",
    "        node = self.table[idx]\n",
    "        while node is not None:\n",
    "            if node.data.key == key:\n",
    "                return node.data\n",
    "            node = node.link\n",
    "        return None\n",
    "    \n",
    "    def delete(self, key):\n",
    "        idx = self.hashFn(key)\n",
    "        node = self.table[idx]\n",
    "        before = None\n",
    "        while node is not None:\n",
    "            if node.data.key == key:\n",
    "                if before == None:\n",
    "                    self.table[idx] = node.link\n",
    "                else:\n",
    "                    before.link = node.link\n",
    "                return\n",
    "            before = node\n",
    "            node = node.link\n",
    "    \n",
    "    def display(self, msg):\n",
    "        print(msg)\n",
    "        for idx in range(len(self.table)):\n",
    "            node = self.table[idx]\n",
    "            if node is not None:\n",
    "                print('[%2d] -> '%idx, end = '')\n",
    "                while node is not None:\n",
    "                    print(node.data, end = ' -> ')\n",
    "                    node = node.link\n",
    "                print()"
   ]
  },
  {
   "cell_type": "markdown",
   "metadata": {},
   "source": [
    "### 파이썬 딕셔너리를 이용한 구현"
   ]
  },
  {
   "cell_type": "code",
   "execution_count": 16,
   "metadata": {},
   "outputs": [
    {
     "name": "stdout",
     "output_type": "stream",
     "text": [
      "나의 단어장:\n",
      "{'data': '자료', 'structure': '구조', 'sequential search': '선형 탐색', 'game': '게임', 'binary search': '이진 탐색'}\n",
      "탐색:game -->  게임\n",
      "탐색:data -->  자료\n",
      "나의 단어장:\n",
      "{'data': '자료', 'structure': '구조', 'sequential search': '선형 탐색', 'binary search': '이진 탐색'}\n"
     ]
    }
   ],
   "source": [
    "d = {}\n",
    "d['data'] = '자료'\n",
    "d['structure'] = '구조'\n",
    "d['sequential search'] = '선형 탐색'\n",
    "d['game'] = '게임'\n",
    "d['binary search'] = '이진 탐색'\n",
    "print('나의 단어장:')\n",
    "print(d)\n",
    "\n",
    "if d.get('game'): print('탐색:game --> ',d['game'])\n",
    "if d.get('over'): print('탐색:over --> ',d['over'])\n",
    "if d.get('data'): print('탐색:data --> ',d['data'])\n",
    "\n",
    "d.pop('game')\n",
    "print('나의 단어장:')\n",
    "print(d)"
   ]
  },
  {
   "cell_type": "code",
   "execution_count": null,
   "metadata": {},
   "outputs": [],
   "source": []
  }
 ],
 "metadata": {
  "kernelspec": {
   "display_name": "Python 3",
   "language": "python",
   "name": "python3"
  },
  "language_info": {
   "codemirror_mode": {
    "name": "ipython",
    "version": 3
   },
   "file_extension": ".py",
   "mimetype": "text/x-python",
   "name": "python",
   "nbconvert_exporter": "python",
   "pygments_lexer": "ipython3",
   "version": "3.7.3"
  }
 },
 "nbformat": 4,
 "nbformat_minor": 2
}
