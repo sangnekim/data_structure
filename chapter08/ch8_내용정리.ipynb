{
 "cells": [
  {
   "cell_type": "markdown",
   "metadata": {},
   "source": [
    "# 트리"
   ]
  },
  {
   "cell_type": "markdown",
   "metadata": {},
   "source": [
    "## 8.1 트리란?\n",
    "트리: 계층적인 관계를 가진 자료의 표현에 유용한 자료구조"
   ]
  },
  {
   "cell_type": "markdown",
   "metadata": {},
   "source": [
    "트리의 용어\n",
    "- 루트(root) 노드: 계층적인 구조에서 가장 높은 곳에 있는 노드. 트리에서 모든 노드는 자신의 서브트리의 루트 노드이다.\n",
    "- 간선 또는 에지(edge): 노드와 노드를 연결하는 선\n",
    "- 부모(parent) 노드와 자식(child)노드: 간선으로 직접 연결된 노드 중에 상위노드와 하위노드\n",
    "- 형제(sibling)노드: 동일한 부모노드를 가진 노드\n",
    "- 조상(ancestor)노드와 자손(descendent)노드: 어떤 노드에서 루트 노드까지의 경로상에 있는 모든 노드들과, 어떤 노드 하위에 연결된 모든 노드\n",
    "- 단말(terminal, leaf)노드: 자식 노드가 없는 노드, 자식이 있으면 비단말 노드\n",
    "- 노드의 차수(degree): 어떤 노드가 가지고 있는 자식의 수\n",
    "- 트리의 차수: 트리가 가지고 있는 노드의 차수 중에서 가장 큰 차수\n",
    "- 레벨(level): 트리의 각층에 번호를 매기는 것. 루트의 레벨은 1이 되고 한 층씩 내려갈수록 1씩 증가\n",
    "- 트리의 높이(height): 트리가 가지고 있는 최대 레벨\n",
    "- 포리스트(forest): 트리들의 집합"
   ]
  },
  {
   "cell_type": "markdown",
   "metadata": {},
   "source": [
    "![image](https://user-images.githubusercontent.com/68596881/107140377-d79d7a00-6964-11eb-9cd2-20b27af67d5a.png)"
   ]
  },
  {
   "cell_type": "markdown",
   "metadata": {},
   "source": [
    "일반트리: 노드들이 임의의 개수의 자식을 가질 수 있는 트리를 일반 트리라 하는데, 일반 트리에서는 노드마다 링크의 수가 다르고, 따라서 이들 링크를 리스트와 같이 복잡한 형태로 관리해야 한다."
   ]
  },
  {
   "cell_type": "markdown",
   "metadata": {},
   "source": [
    "## 8.2 이진트리"
   ]
  },
  {
   "cell_type": "markdown",
   "metadata": {},
   "source": [
    "이진트리: 모든 노드가 2개의 서브 트리를 갖는 트리  \n",
    "<br>\n",
    "이진 트리의 정의\n",
    "- 공집합이거나\n",
    "- 루트와 왼쪽 서브 트리, 오른쪽 서브 트리로 구성된 노드들의 집합. 이진트리의 서브 트리들은 모두 이진트리이어야 함"
   ]
  },
  {
   "cell_type": "markdown",
   "metadata": {},
   "source": [
    "![image](https://user-images.githubusercontent.com/68596881/107140388-e5eb9600-6964-11eb-8b50-7265263dedbb.png)"
   ]
  },
  {
   "cell_type": "markdown",
   "metadata": {},
   "source": [
    "### 이진트리의 종류와 성질"
   ]
  },
  {
   "cell_type": "markdown",
   "metadata": {},
   "source": [
    "이진트리의 종류\n",
    "- 포화이진트리: 트리의 각 레벨에 노드가 꽉 차있는 이진트리\n",
    "- 완전이진트리: 높이가 k인 트리에서 레벨 1부터 k-1까지는 노드가 모두 채워져 있고, 마지막 레벨 k에서는 왼쪽부터 오른쪽으로 노드가 순서대로 채워져 있는 이진트리. 힙(heap)은 대표적인 완전이진트리"
   ]
  },
  {
   "cell_type": "markdown",
   "metadata": {},
   "source": [
    "이진트리의 성질\n",
    "- n개의 노드를 가진 트리는 n-1개의 간선을 가진다.\n",
    "- 높이가 h인 이진트리는 h개 이상, $2^k -1$개 이하의 노드를 가진다.\n",
    "- n개의 노드를 가지는 이진트리의 높이는 $log_{2}(n+1)$이상이고, n 이하이다."
   ]
  },
  {
   "cell_type": "markdown",
   "metadata": {},
   "source": [
    "### 이진트리의 표현 방법"
   ]
  },
  {
   "cell_type": "markdown",
   "metadata": {},
   "source": [
    "배열 표현법  \n",
    "- 트리의 높이를 구해 배열을 할당한다. 예를 들어, 높이가 k이면 길이가 $2^k - 1$인 배열이 필요\n",
    "- 포화이진트리의 번호를 인덱스로 사용하여 배열에 노드들을 저장한다."
   ]
  },
  {
   "cell_type": "markdown",
   "metadata": {},
   "source": [
    "![image](https://user-images.githubusercontent.com/68596881/107140393-f13ec180-6964-11eb-8df0-ed2974522632.png)"
   ]
  },
  {
   "cell_type": "markdown",
   "metadata": {},
   "source": [
    "배열 표현법은 간단하지만 기억공간의 낭비와 함께 표현할 수 있는 트리의 높이가 배열의 크기에 따라 제한되는 단점이 있다."
   ]
  },
  {
   "cell_type": "markdown",
   "metadata": {},
   "source": [
    "링크 표현법\n",
    "- 링크가 두 개 있는 노드를 이용해 연결된 구조로 이진트리를 표현할 수 있다."
   ]
  },
  {
   "cell_type": "markdown",
   "metadata": {},
   "source": [
    "![image](https://user-images.githubusercontent.com/68596881/107140402-fdc31a00-6964-11eb-8890-016c3cfa68aa.png)"
   ]
  },
  {
   "cell_type": "code",
   "execution_count": 1,
   "metadata": {},
   "outputs": [],
   "source": [
    "class TNode:\n",
    "    def __init__(self, data, left, right):\n",
    "        self.data = data # 노드의 데이터\n",
    "        self.left = left # 왼쪽 자식을 위한 링크\n",
    "        self.right = right # 오른쪽 자식을 위한 링크"
   ]
  },
  {
   "cell_type": "markdown",
   "metadata": {},
   "source": [
    "## 8.3 이진트리의 연산"
   ]
  },
  {
   "cell_type": "markdown",
   "metadata": {},
   "source": [
    "순회(traversal): 트리에 속하는 모든 노드를 한 번씩 방문하여 노드의 데이터를 목적에 맞게 처리하는 것"
   ]
  },
  {
   "cell_type": "markdown",
   "metadata": {},
   "source": [
    "- 전위 순회(preorder traversal): VLR\n",
    "- 중위 순회(inorder traversal): LVR\n",
    "- 후위 순환(postorder traversal): LRV\n",
    "- L: 왼쪽 서브트리를 방문하는 작업, R: 오른쪽 서브트리를 방문하는 작업, V: 루트를 방문하는 작업"
   ]
  },
  {
   "cell_type": "markdown",
   "metadata": {},
   "source": [
    "### 전위 순회"
   ]
  },
  {
   "cell_type": "code",
   "execution_count": 2,
   "metadata": {},
   "outputs": [],
   "source": [
    "def preorder(n):\n",
    "    if n is not None:\n",
    "        print(n.data, end = ' ') #먼저 루트노드 처리\n",
    "        preorder(n.left) #왼쪽\n",
    "        preorder(n.right) #오른쪽"
   ]
  },
  {
   "cell_type": "markdown",
   "metadata": {},
   "source": [
    "### 중위 순회"
   ]
  },
  {
   "cell_type": "code",
   "execution_count": 3,
   "metadata": {},
   "outputs": [],
   "source": [
    "def inorder(n):\n",
    "    if n is not None:\n",
    "        inorder(n.left) #먼저 왼쪽\n",
    "        print(n.data, end = ' ') #루트노드 처리\n",
    "        inorder(n.right)"
   ]
  },
  {
   "cell_type": "markdown",
   "metadata": {},
   "source": [
    "### 후위 순회"
   ]
  },
  {
   "cell_type": "code",
   "execution_count": 4,
   "metadata": {},
   "outputs": [],
   "source": [
    "def postorder(n):\n",
    "    if n is not None:\n",
    "        postorder(n.left)\n",
    "        postorder(n.right)\n",
    "        print(n.data, end = ' ') #마지막에 루트노드 처리"
   ]
  },
  {
   "cell_type": "markdown",
   "metadata": {},
   "source": [
    "### 순회 방법의 선택\n",
    "- 순서는 중요하지 않고 노드를 전부 방문하기만 하면 된다면 3가지의 방법 중에 어떤 것이든지 관계없다.\n",
    "- 자식 노드를 처리한 다음에 부모 노드를 처리해야 하는 문제라면 후위순회\n",
    "- 부모 노드를 처리한 다음에 자식 노드를 처리해야 하는 문제라면 전위순회"
   ]
  },
  {
   "cell_type": "markdown",
   "metadata": {},
   "source": [
    "### 레벨 순회"
   ]
  },
  {
   "cell_type": "markdown",
   "metadata": {},
   "source": [
    "- 각 노드를 레벨 순으로 검사하는 방법\n",
    "- 루트 노드의 레벨이 1 이고 아래로 내려갈수록 레벨이 증가한다.\n",
    "- 동일한 레벨에서는 좌에서 우로 방문한다.\n",
    "- 레벨 순회에는 큐가 사용된다."
   ]
  },
  {
   "cell_type": "code",
   "execution_count": 5,
   "metadata": {},
   "outputs": [],
   "source": [
    "MAX_QSIZE = 10\n",
    "class CircularQueue:\n",
    "    def __init__(self):\n",
    "        self.front = 0\n",
    "        self.rear = 0\n",
    "        self.items = [None]*MAX_QSIZE\n",
    "\n",
    "    def isEmpty(self):\n",
    "        return self.front == self.rear\n",
    "\n",
    "    def isFull(self):\n",
    "        return self.front == (self.rear+1)%MAX_QSIZE\n",
    "\n",
    "    def clear(self):\n",
    "        self.front = self.rear\n",
    "\n",
    "    def enqueue(self, item):\n",
    "        if not self.isFull():\n",
    "            self.rear = (self.rear+1)%MAX_QSIZE\n",
    "            self.items[self.rear] = item\n",
    "\n",
    "    def dequeue(self):\n",
    "        if not self.isEmpty():\n",
    "            self.front = (self.front+1)%MAX_QSIZE\n",
    "            return self.items[self.front]\n",
    "\n",
    "    def peek(self):\n",
    "        if not self.isEmpty():\n",
    "            return self.items[(self.front + 1) %MAX_QSIZE]\n",
    "\n",
    "    def size(self):\n",
    "        return (self.rear - self.front + MAX_QSIZE) % MAX_QSIZE\n",
    "\n",
    "    def display(self):\n",
    "        out = []\n",
    "        if self.front < self.rear:\n",
    "            out = self.items[self.front+1:self.rear+1]\n",
    "        else:\n",
    "            out = self.items[self.front+1:MAX_QSIZE] + self.items[0:self.rear+1]\n",
    "        print(\"[f=%s,r=%d] ==> \"%(self.front, self.rear), out)"
   ]
  },
  {
   "cell_type": "code",
   "execution_count": 6,
   "metadata": {},
   "outputs": [],
   "source": [
    "def levelorder(root):\n",
    "    queue = CircularQueue()\n",
    "    queue.enqueue(root) # 최초에 큐에는 루트 노드만 들어있음\n",
    "    while not queue.isEmpty(): # 큐가 공백상태가 아닌 동안\n",
    "        n = queue.dequeue() #큐에서 맨 앞의 노드 n을 꺼냄\n",
    "        if n is not None:\n",
    "            print(n.data, end = ' ') #먼저 노드의 정보를 출력\n",
    "            queue.enqueue(n.left) #왼쪽 자식 노드를 큐에 삽입\n",
    "            queue.enqueue(n.right) #오른쪽 자식 노드를 큐에 삽입"
   ]
  },
  {
   "cell_type": "markdown",
   "metadata": {},
   "source": [
    "### 노드 개수 구하기"
   ]
  },
  {
   "cell_type": "code",
   "execution_count": 7,
   "metadata": {},
   "outputs": [],
   "source": [
    "def count_node(n):\n",
    "    if n is None:\n",
    "        return 0\n",
    "    else:\n",
    "        return 1+count_node(n.left) + count_node(n.right)"
   ]
  },
  {
   "cell_type": "markdown",
   "metadata": {},
   "source": [
    "### 단말 노드 개수 구하기"
   ]
  },
  {
   "cell_type": "code",
   "execution_count": 8,
   "metadata": {},
   "outputs": [],
   "source": [
    "def count_leaf(n):\n",
    "    if n is None: #공백 트리 --> 0 반환\n",
    "        return 0\n",
    "    elif n.left is None and n.right is None: #단말노드 --> 1 반환\n",
    "        return 1\n",
    "    else: #비단말 노드: 좌우 서브트리의 결과 합을 반환\n",
    "        return count_leaf(n.left) + count_leaf(n.right)"
   ]
  },
  {
   "cell_type": "markdown",
   "metadata": {},
   "source": [
    "### 트리의 높이 구하기"
   ]
  },
  {
   "cell_type": "code",
   "execution_count": 9,
   "metadata": {},
   "outputs": [],
   "source": [
    "def calc_height(n):\n",
    "    if n is None: # 공백트리 --> 0 반환\n",
    "        return 0\n",
    "    hLeft = calc_height(n.left) # 왼쪽 트리의 높이\n",
    "    hRight = calc_height(n.right) #오른쪽 트리의 높이\n",
    "    if (hLeft > hRight): #더 높은 높이에 1을 더해 반환\n",
    "        return hLeft + 1\n",
    "    else:\n",
    "        return hRight + 1"
   ]
  },
  {
   "cell_type": "markdown",
   "metadata": {},
   "source": [
    "### 테스트 프로그램"
   ]
  },
  {
   "cell_type": "code",
   "execution_count": 10,
   "metadata": {},
   "outputs": [
    {
     "name": "stdout",
     "output_type": "stream",
     "text": [
      "\n",
      " In-Order: D B E A F C \n",
      " Pre-Order: A B D E C F \n",
      " Post-Order: D E B F C A \n",
      " Level-Order: A B C D E F \n",
      "노드의 개수 = 6개\n",
      "단말의 개수 = 3개\n",
      "트리의 높이 = 3\n"
     ]
    }
   ],
   "source": [
    "d = TNode('D', None, None)\n",
    "e = TNode('E', None, None)\n",
    "b = TNode('B', d, e)\n",
    "f = TNode('F', None, None)\n",
    "c = TNode('C', f, None)\n",
    "root = TNode('A',b,c)\n",
    "\n",
    "print('\\n In-Order: ',end = '')\n",
    "inorder(root)\n",
    "print('\\n Pre-Order: ', end = '')\n",
    "preorder(root)\n",
    "print('\\n Post-Order: ', end = '')\n",
    "postorder(root)\n",
    "print('\\n Level-Order: ', end = '')\n",
    "levelorder(root)\n",
    "print()\n",
    "\n",
    "print(\"노드의 개수 = %d개\"%count_node(root))\n",
    "print('단말의 개수 = %d개'%count_leaf(root))\n",
    "print('트리의 높이 = %d'%calc_height(root))"
   ]
  },
  {
   "cell_type": "markdown",
   "metadata": {},
   "source": [
    "## 8.4 이진트리의 응용: 모르스 코드 결정트리"
   ]
  },
  {
   "cell_type": "code",
   "execution_count": 17,
   "metadata": {},
   "outputs": [],
   "source": [
    "table = [('A', '.-'), ('B','-...'), ('C', '-.-.'), ('D', '-..'),\n",
    "        ('E','.'),('F','..-.'), ('G', '--.'), ('H', '....'),\n",
    "        ('I', '..'), ('J', '---'), ('K', '-.-'), ('L', '-..'),\n",
    "        ('M', '--'), ('N', '-.'), ('O', '---'), ('P', '.--.'),\n",
    "        ('Q', '--.-'), ('R', '.-.'), ('S', '...'), ('T','-'),\n",
    "        ('U', '..-'), ('V', '...-'), ('W', '.--'), ('X', '-..-'),\n",
    "        ('Y', '-.--'), ('Z', '--..')]"
   ]
  },
  {
   "cell_type": "code",
   "execution_count": 18,
   "metadata": {},
   "outputs": [],
   "source": [
    "def make_morse_tree():\n",
    "    root = TNode(None, None, None)\n",
    "    for tp in table:\n",
    "        code = tp[1]\n",
    "        node = root\n",
    "        for c in code:\n",
    "            if c == '.':\n",
    "                if node.left == None:\n",
    "                    node.left = TNode(None, None, None)\n",
    "                node = node.left\n",
    "            elif c == '-':\n",
    "                if node.right == None:\n",
    "                    node.right = TNode(None, None, None)\n",
    "                node = node.right\n",
    "        \n",
    "        node.data = tp[0]\n",
    "    return root"
   ]
  },
  {
   "cell_type": "code",
   "execution_count": 19,
   "metadata": {},
   "outputs": [],
   "source": [
    "def decode(root, code):\n",
    "    node = root\n",
    "    for c in code:\n",
    "        if c == '.':\n",
    "            node = node.left\n",
    "        elif c == '-':\n",
    "            node = node.right\n",
    "    return node.data"
   ]
  },
  {
   "cell_type": "code",
   "execution_count": 20,
   "metadata": {},
   "outputs": [],
   "source": [
    "def encode(ch):\n",
    "    idx = ord(ch) - ord('A')\n",
    "    return table[idx][1]"
   ]
  },
  {
   "cell_type": "code",
   "execution_count": 21,
   "metadata": {},
   "outputs": [
    {
     "name": "stdin",
     "output_type": "stream",
     "text": [
      "입력 문장:  GAMEOVER\n"
     ]
    },
    {
     "name": "stdout",
     "output_type": "stream",
     "text": [
      "Morse Code:  ['--.', '.-', '--', '.', '---', '...-', '.', '.-.']\n",
      "Decoding : GAMEOVER\n"
     ]
    }
   ],
   "source": [
    "morseCodeTree = make_morse_tree()\n",
    "str = input('입력 문장: ')\n",
    "mlist = []\n",
    "for ch in str:\n",
    "    code = encode(ch)\n",
    "    mlist.append(code)\n",
    "print('Morse Code: ', mlist)\n",
    "print(\"Decoding : \", end = '')\n",
    "for code in mlist:\n",
    "    ch = decode(morseCodeTree, code)\n",
    "    print(ch, end = '')\n",
    "print()"
   ]
  },
  {
   "cell_type": "code",
   "execution_count": null,
   "metadata": {},
   "outputs": [],
   "source": []
  }
 ],
 "metadata": {
  "kernelspec": {
   "display_name": "Python 3",
   "language": "python",
   "name": "python3"
  },
  "language_info": {
   "codemirror_mode": {
    "name": "ipython",
    "version": 3
   },
   "file_extension": ".py",
   "mimetype": "text/x-python",
   "name": "python",
   "nbconvert_exporter": "python",
   "pygments_lexer": "ipython3",
   "version": "3.7.3"
  }
 },
 "nbformat": 4,
 "nbformat_minor": 2
}
