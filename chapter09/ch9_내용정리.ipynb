{
 "cells": [
  {
   "cell_type": "markdown",
   "metadata": {},
   "source": [
    "# 탐색트리"
   ]
  },
  {
   "cell_type": "markdown",
   "metadata": {},
   "source": [
    "## 9.1 탐색트리란?"
   ]
  },
  {
   "cell_type": "markdown",
   "metadata": {},
   "source": [
    "이진탐색트리(BST, Binary Search Tree): 효율적인 탐색을 위한 이진트리 기반의 자료구조이다.\n",
    "- 모든 노드는 유일한 키 값을 갖는다.\n",
    "- 왼쪽 서브트리의 키들은 루트의 키보다 작다.\n",
    "- 오른쪽 서브트리의 키들은 루트의 키보다 크다.\n",
    "- 왼쪽과 오른쪽 서브트리도 이진탐색트리이다."
   ]
  },
  {
   "cell_type": "markdown",
   "metadata": {},
   "source": [
    "![image](https://user-images.githubusercontent.com/68596881/107362600-4e30a800-6b1c-11eb-87a4-a6d3ec5824c7.png)"
   ]
  },
  {
   "cell_type": "markdown",
   "metadata": {},
   "source": [
    "## 9.2 이진탐색트리의 연산"
   ]
  },
  {
   "cell_type": "markdown",
   "metadata": {},
   "source": [
    "이진탐색트리는 탐색을 위한 자료구조이므로 노드의 데이터는 하나의 엔트리, 즉 (탐색키, 키에 대한 값)의 형태가 되어야 한다.  \n",
    "이진탐색트리를 위한 노드 클래스 BSTNode를 다음과 같이 정의한다."
   ]
  },
  {
   "cell_type": "code",
   "execution_count": 1,
   "metadata": {},
   "outputs": [],
   "source": [
    "class BSTNode:\n",
    "    def __init__(self, key, value):\n",
    "        self.key = key\n",
    "        self.value = value\n",
    "        self.left = None\n",
    "        self.right = None"
   ]
  },
  {
   "cell_type": "markdown",
   "metadata": {},
   "source": [
    "### 탐색 연산\n",
    "#### 키를 이용한 탐색"
   ]
  },
  {
   "cell_type": "markdown",
   "metadata": {},
   "source": [
    "- key == 루트의 키 값: 루트가 찾는 노드임. 탐색 성공.\n",
    "- key < 루트의 키 값: 찾는 노드는 왼쪽 서브트리에 있음. 탐색을 루트의 왼쪽 자식을 기준으로 다시 시작\n",
    "- key > 루트의 키 값: 찾는 노드는 오른쪽 서브트리에 있음. 탐색을 루트의 오른쪽 자식을 기준으로 다시 시작"
   ]
  },
  {
   "cell_type": "markdown",
   "metadata": {},
   "source": [
    "![image](https://user-images.githubusercontent.com/68596881/107362644-5c7ec400-6b1c-11eb-9bf8-0e93a66cef25.png)"
   ]
  },
  {
   "cell_type": "code",
   "execution_count": 3,
   "metadata": {},
   "outputs": [],
   "source": [
    "#순환함수\n",
    "def search_bst(n, key):\n",
    "    if n == None:\n",
    "        return None\n",
    "    elif key == n.key:\n",
    "        return n\n",
    "    elif key < n.key:\n",
    "        return search_bst(n.left, key)\n",
    "    else:\n",
    "        return search_bst(n.right, key)\n",
    "    \n",
    "#반복함수\n",
    "def search_bst_iter(n, key):\n",
    "    while n != None:\n",
    "        if key == n.key:\n",
    "            return n\n",
    "        elif key < n.key:\n",
    "            n = n.left\n",
    "        else:\n",
    "            n = n.right\n",
    "    return None"
   ]
  },
  {
   "cell_type": "markdown",
   "metadata": {},
   "source": [
    "#### 값을 이용한 탐색  \n",
    "트리의 모든 노드를 하나씩 검사하면 된다. 탐색의 효율은 떨어진다. 왜냐하면 트리의 모든 노드를 검사해야하기 때문이다.  \n",
    "시간 복잡도는 $O(n)$"
   ]
  },
  {
   "cell_type": "code",
   "execution_count": 4,
   "metadata": {},
   "outputs": [],
   "source": [
    "#이진탐색트리 탐색연산(preorder사용): 값을 이용한 탐색\n",
    "def search_value_bst(n, value):\n",
    "    if n == None:\n",
    "        return None\n",
    "    elif value == n.value:\n",
    "        return n\n",
    "    res = search_value_bst(n.left, value) #왼쪽서브트리에서 탐색\n",
    "    if res is not None: #성공하면 결과 반환\n",
    "        return res\n",
    "    else: #실패하면 오른쪽을 탐색해 결과 반환\n",
    "        return search_value_bst(n.right, value)"
   ]
  },
  {
   "cell_type": "markdown",
   "metadata": {},
   "source": [
    "#### 최대와 최소 노드 탐색\n",
    "최대 키는 트리의 가장 오른쪽 노드에 있고, 최소 키는 트리의 가장 왼쪽 노드에 있다."
   ]
  },
  {
   "cell_type": "code",
   "execution_count": 5,
   "metadata": {},
   "outputs": [],
   "source": [
    "def search_max_bst(n):\n",
    "    while n != None and n.right != None:\n",
    "        n = n.right\n",
    "    return n\n",
    "\n",
    "def search_min_bst(n):\n",
    "    while n != None and n.left != None:\n",
    "        n = n.left\n",
    "    return n"
   ]
  },
  {
   "cell_type": "markdown",
   "metadata": {},
   "source": [
    "### 삽입 연산"
   ]
  },
  {
   "cell_type": "markdown",
   "metadata": {},
   "source": [
    "삽입 연산을 위해서는 먼저 삽입할 노드의 키를 이용한 탐색 과정을 수행해야 하는데, 탐색에 실패한 위치가 바로 새로운 노드를 삽입해야 하는 위치이기 때문이다.  \n",
    "<br>\n",
    "![image](https://user-images.githubusercontent.com/68596881/107362674-67d1ef80-6b1c-11eb-82f7-de76dd4e1c57.png)"
   ]
  },
  {
   "cell_type": "code",
   "execution_count": 6,
   "metadata": {},
   "outputs": [],
   "source": [
    "#이진탐색트리 삽입연산 (노드를 삽입함): 순환구조\n",
    "def insert_bst(r, n):\n",
    "    if n.key < r.key:\n",
    "        if r.left is None:\n",
    "            r.left = n\n",
    "            return True\n",
    "        else:\n",
    "            return insert_bst(r.left, n)\n",
    "    elif n.key > r.key:\n",
    "        if r.right is None:\n",
    "            r.right = n\n",
    "            return True\n",
    "        else:\n",
    "            return insert_bst(r.right, n)\n",
    "    else: #키가 중복되면 삽입하지 않음\n",
    "        return False"
   ]
  },
  {
   "cell_type": "markdown",
   "metadata": {},
   "source": [
    "### 삭제 연산"
   ]
  },
  {
   "cell_type": "markdown",
   "metadata": {},
   "source": [
    "1) 삭제할 노드가 단말 노드인 경우  \n",
    "2) 삭제할 노드가 하나의 자식을 갖는 경우  \n",
    "3) 두 개의 자식을 모두 갖는 경우"
   ]
  },
  {
   "cell_type": "markdown",
   "metadata": {},
   "source": [
    "#### case1\n",
    "![image](https://user-images.githubusercontent.com/68596881/107362700-728c8480-6b1c-11eb-92a0-714b06fd1266.png)"
   ]
  },
  {
   "cell_type": "code",
   "execution_count": 7,
   "metadata": {},
   "outputs": [],
   "source": [
    "def delete_bst_case1(parent, node, root):\n",
    "    if parent is None: #삭제할 단말 노드가 루트이면\n",
    "        root = None  #공백 트리가 됨\n",
    "    else:\n",
    "        if parent.left == node:\n",
    "            parent.left = None\n",
    "        else:\n",
    "            parent.right = None\n",
    "            \n",
    "    return root #root가 변경될 수도 있으므로 반환"
   ]
  },
  {
   "cell_type": "markdown",
   "metadata": {},
   "source": [
    "#### case2\n",
    "![image](https://user-images.githubusercontent.com/68596881/107362721-7a4c2900-6b1c-11eb-9d48-3cab487b90bc.png)"
   ]
  },
  {
   "cell_type": "code",
   "execution_count": 8,
   "metadata": {},
   "outputs": [],
   "source": [
    "def delete_bst_case2(parent, node, root):\n",
    "    if node.left is not None: #삭제할 노드가 왼쪽 자식만 가짐\n",
    "        child = node.left\n",
    "    else: #삭제할 노드가 오른쪽 자식만 가짐\n",
    "        child = node.right\n",
    "    \n",
    "    if node == root:\n",
    "        root = child\n",
    "    else:\n",
    "        if node is parent.left:\n",
    "            parent.left = child\n",
    "        else:\n",
    "            parent.right = child\n",
    "    \n",
    "    return root #root가 변경될 수도 있으므로 반환"
   ]
  },
  {
   "cell_type": "markdown",
   "metadata": {},
   "source": [
    "#### case3\n",
    "![image](https://user-images.githubusercontent.com/68596881/107362745-82a46400-6b1c-11eb-9d0a-3be09cb649d4.png)"
   ]
  },
  {
   "cell_type": "code",
   "execution_count": 9,
   "metadata": {},
   "outputs": [],
   "source": [
    "def delete_bst_case3(parent, node, root):\n",
    "    succp = node #후계장의 부모 노드\n",
    "    succ = node.right #후계자 노드\n",
    "    while (succ.left != None): #후계자와 부모노드 탐색\n",
    "        succp = succ\n",
    "        succ = succ.left\n",
    "        \n",
    "    if (succp.left == succ): #후계자가 왼쪽 자식이면\n",
    "        succp.left = succ.right #후계자의 오른쪽 자식 연결\n",
    "    else: #후계자가 오른쪽 자식이면\n",
    "        succp.right = succ.right #후계자의 왼쪽 자식 연결\n",
    "    \n",
    "    #후계자의 키와 값을 삭제할 노드에 복사\n",
    "    node.key = succ.key\n",
    "    node.value = succ.value\n",
    "    node = succ \n",
    "    \n",
    "    return root #일관성을 위해 root 반환"
   ]
  },
  {
   "cell_type": "code",
   "execution_count": 10,
   "metadata": {},
   "outputs": [],
   "source": [
    "#이진탐색트리 삭제연산\n",
    "def delete_bst(root, key):\n",
    "    if root == None:\n",
    "        return None\n",
    "\n",
    "    parent = None\n",
    "    node = root\n",
    "    while node != None and node.key != key:\n",
    "        parent = node\n",
    "        if key < node.key:\n",
    "            node = node.left\n",
    "        else:\n",
    "            node = node.right\n",
    "    \n",
    "    if node == None: #삭제할 노드가 없음\n",
    "        return None\n",
    "    if node.left == None and node.right == None: #case1\n",
    "        root = delete_bst_case1(parent, node, root)\n",
    "    elif node.left == None or node.right == None: #case2\n",
    "        root = delete_bst_case2(parent, node, root)\n",
    "    else: #case3\n",
    "        root = delete_bst_case3(parent, node, root)\n",
    "    return root"
   ]
  },
  {
   "cell_type": "code",
   "execution_count": null,
   "metadata": {},
   "outputs": [],
   "source": []
  }
 ],
 "metadata": {
  "kernelspec": {
   "display_name": "Python 3",
   "language": "python",
   "name": "python3"
  },
  "language_info": {
   "codemirror_mode": {
    "name": "ipython",
    "version": 3
   },
   "file_extension": ".py",
   "mimetype": "text/x-python",
   "name": "python",
   "nbconvert_exporter": "python",
   "pygments_lexer": "ipython3",
   "version": "3.7.3"
  }
 },
 "nbformat": 4,
 "nbformat_minor": 2
}
