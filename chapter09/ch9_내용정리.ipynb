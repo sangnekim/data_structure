{
 "cells": [
  {
   "cell_type": "markdown",
   "metadata": {},
   "source": [
    "# 탐색트리"
   ]
  },
  {
   "cell_type": "markdown",
   "metadata": {},
   "source": [
    "## 9.1 탐색트리란?"
   ]
  },
  {
   "cell_type": "markdown",
   "metadata": {},
   "source": [
    "이진탐색트리(BST, Binary Search Tree): 효율적인 탐색을 위한 이진트리 기반의 자료구조이다.\n",
    "- 모든 노드는 유일한 키 값을 갖는다.\n",
    "- 왼쪽 서브트리의 키들은 루트의 키보다 작다.\n",
    "- 오른쪽 서브트리의 키들은 루트의 키보다 크다.\n",
    "- 왼쪽과 오른쪽 서브트리도 이진탐색트리이다."
   ]
  },
  {
   "cell_type": "markdown",
   "metadata": {},
   "source": [
    "![image](https://user-images.githubusercontent.com/68596881/107362600-4e30a800-6b1c-11eb-87a4-a6d3ec5824c7.png)"
   ]
  },
  {
   "cell_type": "markdown",
   "metadata": {},
   "source": [
    "## 9.2 이진탐색트리의 연산"
   ]
  },
  {
   "cell_type": "markdown",
   "metadata": {},
   "source": [
    "이진탐색트리는 탐색을 위한 자료구조이므로 노드의 데이터는 하나의 엔트리, 즉 (탐색키, 키에 대한 값)의 형태가 되어야 한다.  \n",
    "이진탐색트리를 위한 노드 클래스 BSTNode를 다음과 같이 정의한다."
   ]
  },
  {
   "cell_type": "code",
   "execution_count": 1,
   "metadata": {},
   "outputs": [],
   "source": [
    "class BSTNode:\n",
    "    def __init__(self, key, value):\n",
    "        self.key = key\n",
    "        self.value = value\n",
    "        self.left = None\n",
    "        self.right = None"
   ]
  },
  {
   "cell_type": "markdown",
   "metadata": {},
   "source": [
    "### 탐색 연산\n",
    "#### 키를 이용한 탐색"
   ]
  },
  {
   "cell_type": "markdown",
   "metadata": {},
   "source": [
    "- key == 루트의 키 값: 루트가 찾는 노드임. 탐색 성공.\n",
    "- key < 루트의 키 값: 찾는 노드는 왼쪽 서브트리에 있음. 탐색을 루트의 왼쪽 자식을 기준으로 다시 시작\n",
    "- key > 루트의 키 값: 찾는 노드는 오른쪽 서브트리에 있음. 탐색을 루트의 오른쪽 자식을 기준으로 다시 시작"
   ]
  },
  {
   "cell_type": "markdown",
   "metadata": {},
   "source": [
    "![image](https://user-images.githubusercontent.com/68596881/107362644-5c7ec400-6b1c-11eb-9bf8-0e93a66cef25.png)"
   ]
  },
  {
   "cell_type": "code",
   "execution_count": 2,
   "metadata": {},
   "outputs": [],
   "source": [
    "#순환함수\n",
    "def search_bst(n, key):\n",
    "    if n == None:\n",
    "        return None\n",
    "    elif key == n.key:\n",
    "        return n\n",
    "    elif key < n.key:\n",
    "        return search_bst(n.left, key)\n",
    "    else:\n",
    "        return search_bst(n.right, key)\n",
    "    \n",
    "#반복함수\n",
    "def search_bst_iter(n, key):\n",
    "    while n != None:\n",
    "        if key == n.key:\n",
    "            return n\n",
    "        elif key < n.key:\n",
    "            n = n.left\n",
    "        else:\n",
    "            n = n.right\n",
    "    return None"
   ]
  },
  {
   "cell_type": "markdown",
   "metadata": {},
   "source": [
    "#### 값을 이용한 탐색  \n",
    "트리의 모든 노드를 하나씩 검사하면 된다. 탐색의 효율은 떨어진다. 왜냐하면 트리의 모든 노드를 검사해야하기 때문이다.  \n",
    "시간 복잡도는 $O(n)$"
   ]
  },
  {
   "cell_type": "code",
   "execution_count": 3,
   "metadata": {},
   "outputs": [],
   "source": [
    "#이진탐색트리 탐색연산(preorder사용): 값을 이용한 탐색\n",
    "def search_value_bst(n, value):\n",
    "    if n == None:\n",
    "        return None\n",
    "    elif value == n.value:\n",
    "        return n\n",
    "    res = search_value_bst(n.left, value) #왼쪽서브트리에서 탐색\n",
    "    if res is not None: #성공하면 결과 반환\n",
    "        return res\n",
    "    else: #실패하면 오른쪽을 탐색해 결과 반환\n",
    "        return search_value_bst(n.right, value)"
   ]
  },
  {
   "cell_type": "markdown",
   "metadata": {},
   "source": [
    "#### 최대와 최소 노드 탐색\n",
    "최대 키는 트리의 가장 오른쪽 노드에 있고, 최소 키는 트리의 가장 왼쪽 노드에 있다."
   ]
  },
  {
   "cell_type": "code",
   "execution_count": 4,
   "metadata": {},
   "outputs": [],
   "source": [
    "def search_max_bst(n):\n",
    "    while n != None and n.right != None:\n",
    "        n = n.right\n",
    "    return n\n",
    "\n",
    "def search_min_bst(n):\n",
    "    while n != None and n.left != None:\n",
    "        n = n.left\n",
    "    return n"
   ]
  },
  {
   "cell_type": "markdown",
   "metadata": {},
   "source": [
    "### 삽입 연산"
   ]
  },
  {
   "cell_type": "markdown",
   "metadata": {},
   "source": [
    "삽입 연산을 위해서는 먼저 삽입할 노드의 키를 이용한 탐색 과정을 수행해야 하는데, 탐색에 실패한 위치가 바로 새로운 노드를 삽입해야 하는 위치이기 때문이다.  \n",
    "<br>\n",
    "![image](https://user-images.githubusercontent.com/68596881/107362674-67d1ef80-6b1c-11eb-82f7-de76dd4e1c57.png)"
   ]
  },
  {
   "cell_type": "code",
   "execution_count": 5,
   "metadata": {},
   "outputs": [],
   "source": [
    "#이진탐색트리 삽입연산 (노드를 삽입함): 순환구조\n",
    "def insert_bst(r, n):\n",
    "    if n.key < r.key:\n",
    "        if r.left is None:\n",
    "            r.left = n\n",
    "            return True\n",
    "        else:\n",
    "            return insert_bst(r.left, n)\n",
    "    elif n.key > r.key:\n",
    "        if r.right is None:\n",
    "            r.right = n\n",
    "            return True\n",
    "        else:\n",
    "            return insert_bst(r.right, n)\n",
    "    else: #키가 중복되면 삽입하지 않음\n",
    "        return False"
   ]
  },
  {
   "cell_type": "markdown",
   "metadata": {},
   "source": [
    "### 삭제 연산"
   ]
  },
  {
   "cell_type": "markdown",
   "metadata": {},
   "source": [
    "1) 삭제할 노드가 단말 노드인 경우  \n",
    "2) 삭제할 노드가 하나의 자식을 갖는 경우  \n",
    "3) 두 개의 자식을 모두 갖는 경우"
   ]
  },
  {
   "cell_type": "markdown",
   "metadata": {},
   "source": [
    "#### case1\n",
    "![image](https://user-images.githubusercontent.com/68596881/107362700-728c8480-6b1c-11eb-92a0-714b06fd1266.png)"
   ]
  },
  {
   "cell_type": "code",
   "execution_count": 6,
   "metadata": {},
   "outputs": [],
   "source": [
    "def delete_bst_case1(parent, node, root):\n",
    "    if parent is None: #삭제할 단말 노드가 루트이면\n",
    "        root = None  #공백 트리가 됨\n",
    "    else:\n",
    "        if parent.left == node:\n",
    "            parent.left = None\n",
    "        else:\n",
    "            parent.right = None\n",
    "            \n",
    "    return root #root가 변경될 수도 있으므로 반환"
   ]
  },
  {
   "cell_type": "markdown",
   "metadata": {},
   "source": [
    "#### case2\n",
    "![image](https://user-images.githubusercontent.com/68596881/107362721-7a4c2900-6b1c-11eb-9d48-3cab487b90bc.png)"
   ]
  },
  {
   "cell_type": "code",
   "execution_count": 7,
   "metadata": {},
   "outputs": [],
   "source": [
    "def delete_bst_case2(parent, node, root):\n",
    "    if node.left is not None: #삭제할 노드가 왼쪽 자식만 가짐\n",
    "        child = node.left\n",
    "    else: #삭제할 노드가 오른쪽 자식만 가짐\n",
    "        child = node.right\n",
    "    \n",
    "    if node == root:\n",
    "        root = child\n",
    "    else:\n",
    "        if node is parent.left:\n",
    "            parent.left = child\n",
    "        else:\n",
    "            parent.right = child\n",
    "    \n",
    "    return root #root가 변경될 수도 있으므로 반환"
   ]
  },
  {
   "cell_type": "markdown",
   "metadata": {},
   "source": [
    "#### case3\n",
    "![image](https://user-images.githubusercontent.com/68596881/107362745-82a46400-6b1c-11eb-9d0a-3be09cb649d4.png)"
   ]
  },
  {
   "cell_type": "code",
   "execution_count": 8,
   "metadata": {},
   "outputs": [],
   "source": [
    "def delete_bst_case3(parent, node, root):\n",
    "    succp = node #후계장의 부모 노드\n",
    "    succ = node.right #후계자 노드\n",
    "    while (succ.left != None): #후계자와 부모노드 탐색\n",
    "        succp = succ\n",
    "        succ = succ.left\n",
    "        \n",
    "    if (succp.left == succ): #후계자가 왼쪽 자식이면\n",
    "        succp.left = succ.right #후계자의 오른쪽 자식 연결\n",
    "    else: #후계자가 오른쪽 자식이면\n",
    "        succp.right = succ.right #후계자의 왼쪽 자식 연결\n",
    "    \n",
    "    #후계자의 키와 값을 삭제할 노드에 복사\n",
    "    node.key = succ.key\n",
    "    node.value = succ.value\n",
    "    node = succ \n",
    "    \n",
    "    return root #일관성을 위해 root 반환"
   ]
  },
  {
   "cell_type": "code",
   "execution_count": 9,
   "metadata": {},
   "outputs": [],
   "source": [
    "#이진탐색트리 삭제연산\n",
    "def delete_bst(root, key):\n",
    "    if root == None:\n",
    "        return None\n",
    "\n",
    "    parent = None\n",
    "    node = root\n",
    "    while node != None and node.key != key:\n",
    "        parent = node\n",
    "        if key < node.key:\n",
    "            node = node.left\n",
    "        else:\n",
    "            node = node.right\n",
    "    \n",
    "    if node == None: #삭제할 노드가 없음\n",
    "        return None\n",
    "    if node.left == None and node.right == None: #case1\n",
    "        root = delete_bst_case1(parent, node, root)\n",
    "    elif node.left == None or node.right == None: #case2\n",
    "        root = delete_bst_case2(parent, node, root)\n",
    "    else: #case3\n",
    "        root = delete_bst_case3(parent, node, root)\n",
    "    return root"
   ]
  },
  {
   "cell_type": "markdown",
   "metadata": {},
   "source": [
    "## 9.3 이진탐색트리를 이용한 맵"
   ]
  },
  {
   "cell_type": "code",
   "execution_count": 21,
   "metadata": {},
   "outputs": [],
   "source": [
    "#8장에서 구현한 함수\n",
    "def count_node(n):\n",
    "    if n is None:\n",
    "        return 0\n",
    "    else:\n",
    "        return 1+count_node(n.left) + count_node(n.right)\n",
    "    \n",
    "def inorder(n):\n",
    "    if n is not None:\n",
    "        inorder(n.left) #먼저 왼쪽\n",
    "        print(n.key, end = ' ') #루트노드 처리\n",
    "        inorder(n.right)"
   ]
  },
  {
   "cell_type": "code",
   "execution_count": 22,
   "metadata": {},
   "outputs": [],
   "source": [
    "class BSTMap():\n",
    "    def __init__(self):\n",
    "        self.root = None #트리의 루트 노드\n",
    "        \n",
    "    def isEmpty(self):\n",
    "        return self.root == None\n",
    "    \n",
    "    def claer(self):\n",
    "        self.root = None\n",
    "    \n",
    "    def size(self):\n",
    "        return count_node(self.root)\n",
    "    \n",
    "    def search(self, key):\n",
    "        return search_bst(self.root, key)\n",
    "    \n",
    "    def searchValue(self, key):\n",
    "        return search_value_bst(self.root, key)\n",
    "    \n",
    "    def findMax(self):\n",
    "        return search_max_bst(self.root)\n",
    "    \n",
    "    def findMin(self):\n",
    "        return search_min_bst(self.root)\n",
    "    \n",
    "    def insert(self, key, value = None):\n",
    "        n = BSTNode(key, value) #새로운 노드 생성\n",
    "        if self.isEmpty(): #공백이면 루트노드로 삽입\n",
    "            self.root = n\n",
    "        else: #공백이 아니면 \n",
    "            insert_bst(self.root, n)\n",
    "    \n",
    "    def delete(self, key):\n",
    "        self.root = delete_bst(self.root, key)\n",
    "    \n",
    "    def display(self, msg = 'BSTMap :'):\n",
    "        print(msg, end = '')\n",
    "        inorder(self.root)\n",
    "        print()"
   ]
  },
  {
   "cell_type": "code",
   "execution_count": 23,
   "metadata": {},
   "outputs": [
    {
     "name": "stdout",
     "output_type": "stream",
     "text": [
      "[삽입 연산] :  [35, 18, 7, 26, 12, 3, 68, 22, 30, 99]\n",
      "[중위 순회] :3 7 12 18 22 26 30 35 68 99 \n",
      "[탐색 26] : 성공\n",
      "[탐색 25] : 실패\n",
      "[   3 삭제] :7 12 18 22 26 30 35 68 99 \n",
      "[  68 삭제] :7 12 18 22 26 30 35 99 \n",
      "[  18 삭제] :7 12 22 26 30 35 99 \n",
      "[  35 삭제] :7 12 22 26 30 99 \n"
     ]
    }
   ],
   "source": [
    "map = BSTMap()\n",
    "data = [35, 18, 7, 26, 12, 3, 68, 22, 30, 99]\n",
    "\n",
    "print('[삽입 연산] : ', data)\n",
    "for key in data:\n",
    "    map.insert(key)\n",
    "map.display('[중위 순회] :')\n",
    "if map.search(26) != None:\n",
    "    print('[탐색 26] : 성공')\n",
    "else:\n",
    "    print('[탐색 26] : 실패')\n",
    "if map.search(25) != None:\n",
    "    print('[탐색 25] : 성공')\n",
    "else:\n",
    "    print('[탐색 25] : 실패')\n",
    "\n",
    "map.delete(3); map.display(\"[   3 삭제] :\")\n",
    "map.delete(68); map.display(\"[  68 삭제] :\")\n",
    "map.delete(18); map.display(\"[  18 삭제] :\")\n",
    "map.delete(35); map.display(\"[  35 삭제] :\")"
   ]
  },
  {
   "cell_type": "markdown",
   "metadata": {},
   "source": [
    "## 9.4 심화 학습: 균형이진탐색트리"
   ]
  },
  {
   "cell_type": "markdown",
   "metadata": {},
   "source": [
    "AVL트리: 모든 노드에서 왼쪽 서브트리와 오른쪽 서브트리의 높이 차가 1을 넘지 않는 이진탐색트리이다. 즉 모든 노드의 균형 인수는 0이나 $\\pm$1이 되어야 한다.  \n",
    "균형 인수: 왼쪽 서브트리의 높이와 오른쪽 서브트리의 높이 차"
   ]
  },
  {
   "cell_type": "markdown",
   "metadata": {},
   "source": [
    "![image](https://user-images.githubusercontent.com/68596881/107525936-adfd8080-6bfa-11eb-866d-7cd5bcd954e9.png)"
   ]
  },
  {
   "cell_type": "markdown",
   "metadata": {},
   "source": [
    "### AVL트리의 삽입 연산\n",
    "새로 삽입된 노드 N으로부터 가장 가까우면서 균형 인수가 $\\pm$2가 된 조상 노드를 A라고 하자.\n",
    "- LL 타입: N이 A의 왼쪽 자식의 왼쪽 서브 트리에 삽입된다.\n",
    "- LR 타입: N이 A의 왼쪽 자식의 오른쪽 서브 트리에 삽입된다.\n",
    "- RR 타입: N이 A의 오른쪽 자식의 오른쪽 서브 트리에 삽입된다.\n",
    "- RL 타입: N이 A의 오른쪽 자식의 왼쪽 서브 트리에 삽입된다."
   ]
  },
  {
   "cell_type": "markdown",
   "metadata": {},
   "source": [
    "#### LL 회전"
   ]
  },
  {
   "cell_type": "markdown",
   "metadata": {},
   "source": [
    "![image](https://user-images.githubusercontent.com/68596881/107526014-c1a8e700-6bfa-11eb-87d2-9fc90733780b.png)"
   ]
  },
  {
   "cell_type": "code",
   "execution_count": 24,
   "metadata": {},
   "outputs": [],
   "source": [
    "def rotateLL(A):\n",
    "    B = A.left\n",
    "    A.left = B.right\n",
    "    B.right = A\n",
    "    return B #새로운 루트 B를 반환"
   ]
  },
  {
   "cell_type": "markdown",
   "metadata": {},
   "source": [
    "#### RR 회전"
   ]
  },
  {
   "cell_type": "markdown",
   "metadata": {},
   "source": [
    "![image](https://user-images.githubusercontent.com/68596881/107526091-d38a8a00-6bfa-11eb-9e6d-a78f375e1853.png)"
   ]
  },
  {
   "cell_type": "code",
   "execution_count": 25,
   "metadata": {},
   "outputs": [],
   "source": [
    "def rotateRR(A):\n",
    "    B = A.right\n",
    "    A.right = B.left\n",
    "    B.left = A\n",
    "    return B # 새로운 루트 B 반환"
   ]
  },
  {
   "cell_type": "markdown",
   "metadata": {},
   "source": [
    "#### RL 회전"
   ]
  },
  {
   "cell_type": "markdown",
   "metadata": {},
   "source": [
    "![image](https://user-images.githubusercontent.com/68596881/107526127-dc7b5b80-6bfa-11eb-90fd-a06e8309736f.png)"
   ]
  },
  {
   "cell_type": "code",
   "execution_count": 26,
   "metadata": {},
   "outputs": [],
   "source": [
    "def rotateRL(A):\n",
    "    B = A.right\n",
    "    A.right = rotateLL(B)\n",
    "    return rotateRR(A)"
   ]
  },
  {
   "cell_type": "markdown",
   "metadata": {},
   "source": [
    "#### LR 회전"
   ]
  },
  {
   "cell_type": "markdown",
   "metadata": {},
   "source": [
    "![image](https://user-images.githubusercontent.com/68596881/107526154-e69d5a00-6bfa-11eb-8eeb-f0a0119b66b6.png)\n"
   ]
  },
  {
   "cell_type": "code",
   "execution_count": 27,
   "metadata": {},
   "outputs": [],
   "source": [
    "def rotateLR(A):\n",
    "    B = A.left\n",
    "    A.left = rotateRR(B)\n",
    "    return rotateLL(A)"
   ]
  },
  {
   "cell_type": "markdown",
   "metadata": {},
   "source": [
    "#### 재균형 함수"
   ]
  },
  {
   "cell_type": "code",
   "execution_count": 30,
   "metadata": {},
   "outputs": [],
   "source": [
    "#8장에서 구현한 함수\n",
    "def calc_height(n):\n",
    "    if n is None: # 공백트리 --> 0 반환\n",
    "        return 0\n",
    "    hLeft = calc_height(n.left) # 왼쪽 트리의 높이\n",
    "    hRight = calc_height(n.right) #오른쪽 트리의 높이\n",
    "    if (hLeft > hRight): #더 높은 높이에 1을 더해 반환\n",
    "        return hLeft + 1\n",
    "    else:\n",
    "        return hRight + 1\n",
    "\n",
    "def calc_height_diff(n):\n",
    "    if n is None:\n",
    "        return 0\n",
    "    return calc_height(n.left) - calc_height(n.right)"
   ]
  },
  {
   "cell_type": "code",
   "execution_count": 31,
   "metadata": {},
   "outputs": [],
   "source": [
    "def reBalance(parent):\n",
    "    hDiff = calc_height_diff(parent)\n",
    "    \n",
    "    if hDiff > 1:\n",
    "        if calc_height_diff(parent.left) > 0:\n",
    "            parent = rotateLL(parent)\n",
    "        else:\n",
    "            parent = rotateLR(parent)\n",
    "    elif hDiff < -1:\n",
    "        if calc_height_diff(parent.right) < 0:\n",
    "            parent = rotateRR(parent)\n",
    "        else:\n",
    "            parent = rotateRL(parent)\n",
    "    return parent"
   ]
  },
  {
   "cell_type": "markdown",
   "metadata": {},
   "source": [
    "#### 삽입 함수\n",
    "- 삽입이 끝나면 반드시 재균형 함수를 호출해서 균형을 확인해야 한다.\n",
    "- 이진탐색트리에서와 달리 삽입 후 서브트리의 루트노드가 변경되는 경우가 많다. 따라서 루트를 반환해야 한다."
   ]
  },
  {
   "cell_type": "code",
   "execution_count": 32,
   "metadata": {},
   "outputs": [],
   "source": [
    "def insert_avl(parent, node):\n",
    "    if node.key < parent.key:\n",
    "        if parent.left != None:\n",
    "            parent.left = insert_avl(parent.left, node)\n",
    "        else:\n",
    "            parent.left = node\n",
    "        return reBalance(parent)\n",
    "    \n",
    "    elif node.key > parent.key:\n",
    "        if parent.right != None:\n",
    "            parent.right = insert_avl(parent.right, node)\n",
    "        else:\n",
    "            parent.right = node\n",
    "        return reBalance(parent)\n",
    "    else:\n",
    "        print('중복된 키 에러')"
   ]
  },
  {
   "cell_type": "markdown",
   "metadata": {},
   "source": [
    "### AVL트리를 이용한 맵"
   ]
  },
  {
   "cell_type": "code",
   "execution_count": 38,
   "metadata": {},
   "outputs": [],
   "source": [
    "#8장에서 구현한 함수\n",
    "def levelorder(root):\n",
    "    queue = CircularQueue()\n",
    "    queue.enqueue(root) # 최초에 큐에는 루트 노드만 들어있음\n",
    "    while not queue.isEmpty(): # 큐가 공백상태가 아닌 동안\n",
    "        n = queue.dequeue() #큐에서 맨 앞의 노드 n을 꺼냄\n",
    "        if n is not None:\n",
    "            print(n.key, end = ' ') #먼저 노드의 정보를 출력\n",
    "            queue.enqueue(n.left) #왼쪽 자식 노드를 큐에 삽입\n",
    "            queue.enqueue(n.right) #오른쪽 자식 노드를 큐에 삽입\n",
    "\n",
    "MAX_QSIZE = 10\n",
    "class CircularQueue:\n",
    "    def __init__(self):\n",
    "        self.front = 0\n",
    "        self.rear = 0\n",
    "        self.items = [None]*MAX_QSIZE\n",
    "\n",
    "    def isEmpty(self):\n",
    "        return self.front == self.rear\n",
    "\n",
    "    def isFull(self):\n",
    "        return self.front == (self.rear+1)%MAX_QSIZE\n",
    "\n",
    "    def clear(self):\n",
    "        self.front = self.rear\n",
    "\n",
    "    def enqueue(self, item):\n",
    "        if not self.isFull():\n",
    "            self.rear = (self.rear+1)%MAX_QSIZE\n",
    "            self.items[self.rear] = item\n",
    "\n",
    "    def dequeue(self):\n",
    "        if not self.isEmpty():\n",
    "            self.front = (self.front+1)%MAX_QSIZE\n",
    "            return self.items[self.front]\n",
    "\n",
    "    def peek(self):\n",
    "        if not self.isEmpty():\n",
    "            return self.items[(self.front + 1) %MAX_QSIZE]\n",
    "\n",
    "    def size(self):\n",
    "        return (self.rear - self.front + MAX_QSIZE) % MAX_QSIZE\n",
    "\n",
    "    def display(self):\n",
    "        out = []\n",
    "        if self.front < self.rear:\n",
    "            out = self.items[self.front+1:self.rear+1]\n",
    "        else:\n",
    "            out = self.items[self.front+1:MAX_QSIZE] + self.items[0:self.rear+1]\n",
    "        print(\"[f=%s,r=%d] ==> \"%(self.front, self.rear), out)\n",
    "        \n",
    "#전체 노드개수\n",
    "def count_node(n):\n",
    "    if n is None:\n",
    "        return 0\n",
    "    else:\n",
    "        return 1+count_node(n.left) + count_node(n.right)\n",
    "\n",
    "#단말 노드 개수\n",
    "def count_leaf(n):\n",
    "    if n is None: #공백 트리 --> 0 반환\n",
    "        return 0\n",
    "    elif n.left is None and n.right is None: #단말노드 --> 1 반환\n",
    "        return 1\n",
    "    else: #비단말 노드: 좌우 서브트리의 결과 합을 반환\n",
    "        return count_leaf(n.left) + count_leaf(n.right)"
   ]
  },
  {
   "cell_type": "code",
   "execution_count": 39,
   "metadata": {},
   "outputs": [],
   "source": [
    "class AVLMap(BSTMap):\n",
    "    def __init__(self):\n",
    "        super().__init__()\n",
    "    \n",
    "    def insert(self, key, value = None):\n",
    "        n = BSTNode(key, value)\n",
    "        if self.isEmpty():\n",
    "            self.root = n\n",
    "        else:\n",
    "            self.root = insert_avl(self.root, n)\n",
    "    \n",
    "    def display(self, msg = 'AVLMap :'):\n",
    "        print(msg, end = '')\n",
    "        levelorder(self.root)\n",
    "        print()"
   ]
  },
  {
   "cell_type": "code",
   "execution_count": 40,
   "metadata": {},
   "outputs": [
    {
     "name": "stdout",
     "output_type": "stream",
     "text": [
      "AVL(7)7 \n",
      "AVL(8)7 8 \n",
      "AVL(9)8 7 9 \n",
      "AVL(2)8 7 9 2 \n",
      "AVL(1)8 2 9 1 7 \n",
      "AVL(5)7 2 8 1 5 9 \n",
      "AVL(3)7 2 8 1 5 9 3 \n",
      "AVL(6)7 2 8 1 5 9 3 6 \n",
      "AVL(4)7 3 8 2 5 9 1 4 6 \n",
      " 노드의 개수 = 9\n",
      " 단말의 개수 = 4\n",
      " 트리의 높이 = 4\n"
     ]
    }
   ],
   "source": [
    "node = [7,8,9,2,1,5,3,6,4]\n",
    "map = AVLMap()\n",
    "\n",
    "for i in node:\n",
    "    map.insert(i)\n",
    "    map.display(\"AVL(%d)\"%i)\n",
    "\n",
    "print(' 노드의 개수 = %d'% count_node(map.root))\n",
    "print(' 단말의 개수 = %d'% count_leaf(map.root))\n",
    "print(' 트리의 높이 = %d'% calc_height(map.root))"
   ]
  },
  {
   "cell_type": "code",
   "execution_count": null,
   "metadata": {},
   "outputs": [],
   "source": []
  }
 ],
 "metadata": {
  "kernelspec": {
   "display_name": "Python 3",
   "language": "python",
   "name": "python3"
  },
  "language_info": {
   "codemirror_mode": {
    "name": "ipython",
    "version": 3
   },
   "file_extension": ".py",
   "mimetype": "text/x-python",
   "name": "python",
   "nbconvert_exporter": "python",
   "pygments_lexer": "ipython3",
   "version": "3.7.3"
  }
 },
 "nbformat": 4,
 "nbformat_minor": 2
}
