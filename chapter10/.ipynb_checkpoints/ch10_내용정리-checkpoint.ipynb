{
 "cells": [
  {
   "cell_type": "markdown",
   "metadata": {},
   "source": [
    "# 그래프"
   ]
  },
  {
   "cell_type": "markdown",
   "metadata": {},
   "source": [
    "## 10.1 그래프란?"
   ]
  },
  {
   "cell_type": "markdown",
   "metadata": {},
   "source": [
    "그래프: 연결된 객체들 사이의 관계를 표현할 수 있는 자료구조"
   ]
  },
  {
   "cell_type": "markdown",
   "metadata": {},
   "source": [
    "### 그래프의 종류\n",
    "- 무방향 그래프(undirected graph): 간선에 방향이 표시되지 않은 그래프\n",
    "- 방향 그래프(directed graph): 간선에 방향성이 존재하는 그래프\n",
    "- 가중치 그래프(weighted graph): 간선에 비용이나 가중치가 할당된 그래프\n",
    "- 부분 그래프(subgraph): 그래프 G를 구성하는 정점의 집합 V(G)의 간선의 집합 E(G)의 부분 집합으로 이우러진 그래프를 G의 부분 그래프라 한다."
   ]
  },
  {
   "cell_type": "markdown",
   "metadata": {},
   "source": [
    "### 그래프 용어\n",
    "- 인접 정점(adjacent vertex): 간선에 의해 직접 연결된 정점\n",
    "- 정점의 차수(degree): 그 정점에 연결된 간선의 수\n",
    "- 경로(path): 간선을 따라 갈 수 있는 길\n",
    "- 경로의 길이: 경로를 구성하는데 사용된 간선의 수\n",
    "- 단순 경로(simple path): 경로 중에서 반복되는 간선이 없는 경로\n",
    "- 사이클(cycle): 단순 경로의 시작 정점과 종료 정점이 같은 경로\n",
    "- 연결 그래프(connected graph): 모든 정점들 사이에 경로가 존재하는 그래프\n",
    "- 트리(tree): 사이클을 가지지 않는 연결 그래프\n",
    "- 완전 그래프(complete graph): 모든 정점 간에 간선이 존재하는 그래프"
   ]
  },
  {
   "cell_type": "markdown",
   "metadata": {},
   "source": [
    "### 그래프의 추상 자료형\n",
    "- isEmpty(): 그래프가 공백 상태인지 확인한다.\n",
    "- countVertex(): 정점의 수를 반환한다.\n",
    "- countEdge(): 간선의 수를 반환한다.\n",
    "- getEdge(u,v): 정점 u에서 정점 v로 연결된 간선을 반환한다.\n",
    "- degree(v): 정점 v의 차수를 반환한다.\n",
    "- adjacent(v): 정점 v에 인접한 모든 정점의 집합을 반환한다.\n",
    "- insertVertex(v): 그래프에 정점 v를 삽입한다.\n",
    "- insertEdge(u,v): 그래프에 간선 (u,v)를 삽입한다.\n",
    "- deleteVertex(v): 그래프의 정점 v를 삭제한다.\n",
    "- deleteEdge(u,v): 그래프의 간선 (u,v)를 삭제한다."
   ]
  },
  {
   "cell_type": "markdown",
   "metadata": {},
   "source": [
    "## 10.2 그래프의 표현"
   ]
  },
  {
   "cell_type": "markdown",
   "metadata": {},
   "source": [
    "### 인접 행렬을 이용한 표현\n",
    "![image](https://user-images.githubusercontent.com/68596881/107846057-082d5a00-6e24-11eb-9fdb-d79cd30f9b72.png)"
   ]
  },
  {
   "cell_type": "markdown",
   "metadata": {},
   "source": [
    "### 인접 리스트를 이용한 표현\n",
    "![image](https://user-images.githubusercontent.com/68596881/107846063-17140c80-6e24-11eb-837a-8720a265aba1.png)"
   ]
  },
  {
   "cell_type": "markdown",
   "metadata": {},
   "source": [
    "### 인접 행렬과 인접 리스트의 복잡도 비교\n",
    "정점의 수가 n개이고, 간선의 수가 e개인 무방향 그래프에서 주요 연산에 대한 인접 행렬과 인접 리스트의 복잡도를 비교해 보자."
   ]
  },
  {
   "cell_type": "markdown",
   "metadata": {},
   "source": [
    "![image](https://user-images.githubusercontent.com/68596881/107846076-23986500-6e24-11eb-9e3f-5595efcd56d0.png)"
   ]
  },
  {
   "cell_type": "markdown",
   "metadata": {},
   "source": [
    "### 파이썬을 이용한 그래프 표현"
   ]
  },
  {
   "cell_type": "code",
   "execution_count": 1,
   "metadata": {},
   "outputs": [
    {
     "name": "stdout",
     "output_type": "stream",
     "text": [
      "A\n",
      "E\n",
      "D\n"
     ]
    }
   ],
   "source": [
    "#인접 행렬 표현\n",
    "vertex = ['A','B','C','D','E','F','G','H']\n",
    "adjMat = [[0,1,1,0,0,0,0,0],\n",
    "         [1,0,0,1,0,0,0,0],\n",
    "         [1,0,0,1,1,0,0,0],\n",
    "         [0,1,1,0,0,1,0,0],\n",
    "         [0,0,1,0,0,0,1,1],\n",
    "         [0,0,0,1,0,0,0,0],\n",
    "         [0,0,0,0,1,0,0,1],\n",
    "         [0,0,0,0,1,0,1,0]]\n",
    "\n",
    "#인접 리스트 표현\n",
    "#인접 정점 리스트\n",
    "vertex = ['A','B','C','D','E','F','G','H']\n",
    "adjList = [['B','C'],\n",
    "          ['A','D'],\n",
    "          ['A,','D','E'],\n",
    "          ['B','C','F'],\n",
    "          ['C','G','H'],\n",
    "          ['D'],\n",
    "          ['E','H'],\n",
    "          ['E','G']]\n",
    "\n",
    "#딕셔너리\n",
    "graph = {'A':['B','C'],\n",
    "        'B':['A','D'],\n",
    "        'C':['A','D','E'],\n",
    "        'D':['B','C','F'],\n",
    "        'E':['C','G','H'],\n",
    "        'F':['D'],\n",
    "        'G':['E','H'],\n",
    "        'H':['E','G']}\n",
    "\n",
    "#딕셔너리와 집합\n",
    "graph = {'A':set(['B','C']),\n",
    "        'B':set(['A','D']),\n",
    "        'C':set(['A','D','E']),\n",
    "        'D':set(['B','C','F']),\n",
    "        'E':set(['C','G','H']),\n",
    "        'F':set(['D']),\n",
    "        'G':set(['E','H']),\n",
    "        'H':set(['E','G'])}\n",
    "\n",
    "for v in graph['C']:\n",
    "    print(v)"
   ]
  },
  {
   "cell_type": "markdown",
   "metadata": {},
   "source": [
    "## 10.3 그래프의 탐색"
   ]
  },
  {
   "cell_type": "code",
   "execution_count": 2,
   "metadata": {},
   "outputs": [],
   "source": [
    "mygraph = {'A':set(['B','C']),\n",
    "        'B':set(['A','D']),\n",
    "        'C':set(['A','D','E']),\n",
    "        'D':set(['B','C','F']),\n",
    "        'E':set(['C','G','H']),\n",
    "        'F':set(['D']),\n",
    "        'G':set(['E','H']),\n",
    "        'H':set(['E','G'])}"
   ]
  },
  {
   "cell_type": "markdown",
   "metadata": {},
   "source": [
    "### 깊이 우선 탐색\n",
    "![image](https://user-images.githubusercontent.com/68596881/107846078-31e68100-6e24-11eb-9491-c30b3512cf67.png)"
   ]
  },
  {
   "cell_type": "code",
   "execution_count": 3,
   "metadata": {},
   "outputs": [],
   "source": [
    "def dfs(graph, start, visited = set()):\n",
    "    if start not in visited:\n",
    "        visited.add(start)\n",
    "        print(start, end = ' ')\n",
    "        nbr = graph[start] - visited\n",
    "        for v in nbr:\n",
    "            dfs(graph, v, visited)"
   ]
  },
  {
   "cell_type": "markdown",
   "metadata": {},
   "source": [
    "정점의 수가 n이고 간선의 수가 e인 그래프를 깊이 우선 탐색 하는 시간\n",
    "- 인접 리스트: $O(n+e)$\n",
    "- 인접 행렬: $O(n^2)$\n",
    "- 희소 그래프인 경우 깊이 우선 탐색은 인접 리스트의 사용이 인접행렬의 사용보다 시간적으로 유리하다"
   ]
  },
  {
   "cell_type": "markdown",
   "metadata": {},
   "source": [
    "### 너비 우선 탐색\n",
    "![image](https://user-images.githubusercontent.com/68596881/107846085-3dd24300-6e24-11eb-8133-191172a38369.png)"
   ]
  },
  {
   "cell_type": "code",
   "execution_count": 4,
   "metadata": {},
   "outputs": [],
   "source": [
    "import collections\n",
    "\n",
    "def bfs(graph, start):\n",
    "    visited = set([start])\n",
    "    queue = collections.deque([start])\n",
    "    while queue:\n",
    "        vertex = queue.popleft()\n",
    "        print(vertex, end = ' ')\n",
    "        nbr = graph[vertex] - visited\n",
    "        for v in nbr:\n",
    "            visited.add(v)\n",
    "            queue.append(v)"
   ]
  },
  {
   "cell_type": "markdown",
   "metadata": {},
   "source": [
    "정점의 수가 n이고 간선의 수가 e인 그래프를 넓이 우선 탐색 하는 시간\n",
    "- 인접 리스트: $O(n+e)$\n",
    "- 인접 행렬: $O(n^2)$\n",
    "- 희소 그래프인 경우 넓이 우선 탐색은 인접 리스트의 사용이 인접행렬의 사용보다 시간적으로 유리하다"
   ]
  },
  {
   "cell_type": "markdown",
   "metadata": {},
   "source": [
    "## 10.4 연결 성분 검사"
   ]
  },
  {
   "cell_type": "markdown",
   "metadata": {},
   "source": [
    "연결 성분(connected component): 최대로 연결된 부분 그래프\n",
    "![image](https://user-images.githubusercontent.com/68596881/107846091-49be0500-6e24-11eb-8a66-5814e18a9463.png)"
   ]
  },
  {
   "cell_type": "code",
   "execution_count": 5,
   "metadata": {},
   "outputs": [],
   "source": [
    "def find_connected_component(graph):\n",
    "    visited = set()\n",
    "    colorList = []\n",
    "    \n",
    "    for vtx in graph:\n",
    "        if vtx not in visited:\n",
    "            color = dfs_cc(graph, [], vtx, visited)\n",
    "            colorList.append(color)\n",
    "    \n",
    "    print('그래프 연결성분 개수 = %d'%len(colorList))\n",
    "    print(colorList)\n",
    "\n",
    "def dfs_cc(graph, color, vertex, visited):\n",
    "    if vertex not in visited:\n",
    "        visited.add(vertex)\n",
    "        color.append(vertex)\n",
    "        nbr = graph[vertex] - visited\n",
    "        for v in nbr:\n",
    "            dfs_cc(graph, color, v, visited)\n",
    "    return color"
   ]
  },
  {
   "cell_type": "code",
   "execution_count": 6,
   "metadata": {},
   "outputs": [
    {
     "name": "stdout",
     "output_type": "stream",
     "text": [
      "find_connected_component: \n",
      "그래프 연결성분 개수 = 2\n",
      "[['A', 'B', 'C'], ['D', 'E']]\n"
     ]
    }
   ],
   "source": [
    "mygraph = {'A':set(['B','C']),\n",
    "          'B':set(['A']),\n",
    "          'C':set(['A']),\n",
    "          'D':set(['E']),\n",
    "          'E':set(['D'])}\n",
    "\n",
    "print('find_connected_component: ')\n",
    "find_connected_component(mygraph)"
   ]
  },
  {
   "cell_type": "markdown",
   "metadata": {},
   "source": [
    "## 10.5 신장 트리"
   ]
  },
  {
   "cell_type": "markdown",
   "metadata": {},
   "source": [
    "신장 트리(spanning tree): 그래프내의 모든 정점을 포함하는 트리이다. 깊이우선이나 너비우선 탐색 도중에 사용된 간선들만 모으면 된다."
   ]
  },
  {
   "cell_type": "code",
   "execution_count": 7,
   "metadata": {},
   "outputs": [],
   "source": [
    "import collections\n",
    "\n",
    "def bfsST(graph, start):\n",
    "    visited = set([start])\n",
    "    queue = collections.deque([start])\n",
    "    while queue:\n",
    "        v = queue.popleft()\n",
    "        nbr = graph[v] - visited\n",
    "        for u in nbr:\n",
    "            print(\"(\", v, \",\",u,\")\", end='')\n",
    "            visited.add(u)\n",
    "            queue.append(u)"
   ]
  },
  {
   "cell_type": "markdown",
   "metadata": {},
   "source": [
    "## 10.6 위상 정렬"
   ]
  },
  {
   "cell_type": "markdown",
   "metadata": {},
   "source": [
    "위상 정렬: 방향 그래프에 존재하는 각 정점들의 선행 순서를 위배하지 않으면서 모든 정점을 나열하는 것"
   ]
  },
  {
   "cell_type": "markdown",
   "metadata": {},
   "source": [
    "![image](https://user-images.githubusercontent.com/68596881/107846096-58a4b780-6e24-11eb-946f-166caa013547.png)"
   ]
  },
  {
   "cell_type": "code",
   "execution_count": 8,
   "metadata": {},
   "outputs": [],
   "source": [
    "def topological_sort_AM(vertex, graph):\n",
    "    n = len(vertex)\n",
    "    inDeg = [0]*n #정점의 진입차수 저장\n",
    "    \n",
    "    for i in range(n):\n",
    "        for j in range(n):\n",
    "            if graph[i][j] > 0:\n",
    "                inDeg[j] += 1\n",
    "    vlist = []\n",
    "    for i in range(n):\n",
    "        if inDeg[i] == 0:\n",
    "            vlist.append(i)\n",
    "    \n",
    "    while len(vlist) > 0 :\n",
    "        v = vlist.pop()\n",
    "        print(vertex[v], end = ' ')\n",
    "        \n",
    "        for u in range(n):\n",
    "            if v != u and graph[v][u] > 0:\n",
    "                inDeg[u] -=1\n",
    "                if inDeg[u] == 0:\n",
    "                    vlist.append(u)"
   ]
  },
  {
   "cell_type": "code",
   "execution_count": 10,
   "metadata": {},
   "outputs": [
    {
     "name": "stdout",
     "output_type": "stream",
     "text": [
      "topological_sort: \n",
      "B E A C D F \n"
     ]
    }
   ],
   "source": [
    "vertex = ['A','B','C','D','E','F']\n",
    "graphAM = [[0,0,1,1,0,0],\n",
    "          [0,0,0,1,1,0],\n",
    "          [0,0,0,1,0,1],\n",
    "          [0,0,0,0,0,1],\n",
    "          [0,0,0,0,0,1],\n",
    "          [0,0,0,0,0,0]]\n",
    "print('topological_sort: ')\n",
    "topological_sort_AM(vertex, graphAM)\n",
    "print()"
   ]
  },
  {
   "cell_type": "code",
   "execution_count": null,
   "metadata": {},
   "outputs": [],
   "source": []
  }
 ],
 "metadata": {
  "kernelspec": {
   "display_name": "Python 3",
   "language": "python",
   "name": "python3"
  },
  "language_info": {
   "codemirror_mode": {
    "name": "ipython",
    "version": 3
   },
   "file_extension": ".py",
   "mimetype": "text/x-python",
   "name": "python",
   "nbconvert_exporter": "python",
   "pygments_lexer": "ipython3",
   "version": "3.7.3"
  }
 },
 "nbformat": 4,
 "nbformat_minor": 2
}
