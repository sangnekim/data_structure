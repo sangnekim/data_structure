{
 "cells": [
  {
   "cell_type": "markdown",
   "metadata": {},
   "source": [
    "# 가중치 그래프"
   ]
  },
  {
   "cell_type": "markdown",
   "metadata": {},
   "source": [
    "## 11.1 가중치 그래프란?\n",
    "가중치 그래프(weighted graph): 간선에 비용이나 가중치가 할당된 그래프  \n",
    "가중치 그래프는 수학적으로 G = (V,E,w)와 같이 표현한다.\n",
    "- V(G)는 그래프 G의 정점들의 집합\n",
    "- E(G)는 그래프 G의 간선들의 집합\n",
    "- w(e)는 간선 e의 강도로 비용 또는 길이"
   ]
  },
  {
   "cell_type": "markdown",
   "metadata": {},
   "source": [
    "## 11.2 가중치 그래프의 표현"
   ]
  },
  {
   "cell_type": "markdown",
   "metadata": {},
   "source": [
    "### 인접 행렬을 이용한 표현"
   ]
  },
  {
   "cell_type": "code",
   "execution_count": 1,
   "metadata": {},
   "outputs": [],
   "source": [
    "vertex = ['A','B','C','D','E','F','G']\n",
    "weight = [[None, 29, None, None, None, 10, None],\n",
    "         [29, None, 16, None, None, None, 15],\n",
    "         [None, 16, None, 12, None, None, None],\n",
    "         [None, None, 12, None, 22, None, 18],\n",
    "         [None, None, None, 22, None, 27, 25],\n",
    "         [10, None, None, None, 27, None, None],\n",
    "         [None, 15, None, 18, 25, None, None]]\n",
    "graph = (vertex, weight)"
   ]
  },
  {
   "cell_type": "code",
   "execution_count": 2,
   "metadata": {},
   "outputs": [
    {
     "name": "stdout",
     "output_type": "stream",
     "text": [
      "AM : weight sum =  174\n"
     ]
    }
   ],
   "source": [
    "def weightSum(vlist, W):\n",
    "    sum = 0\n",
    "    for i in range(len(vlist)):\n",
    "        for j in range(i+1, len(vlist)):\n",
    "            if W[i][j] != None:\n",
    "                sum += W[i][j]\n",
    "    return sum\n",
    "print('AM : weight sum = ', weightSum(vertex, weight))"
   ]
  },
  {
   "cell_type": "code",
   "execution_count": 4,
   "metadata": {},
   "outputs": [
    {
     "name": "stdout",
     "output_type": "stream",
     "text": [
      "(A,B,29) (A,F,10) (B,C,16) (B,G,15) (C,D,12) (D,E,22) (D,G,18) (E,F,27) (E,G,25) \n"
     ]
    }
   ],
   "source": [
    "def printAllEdges(vlist, W):\n",
    "    for i in range(len(vlist)):\n",
    "        for j in range(i+1, len(W[i])):\n",
    "            if W[i][j] != None and W[i][j] != 0:\n",
    "                print(\"(%s,%s,%d)\"%(vlist[i], vlist[j],W[i][j]), end = ' ')\n",
    "    print()\n",
    "printAllEdges(vertex, weight)"
   ]
  },
  {
   "cell_type": "markdown",
   "metadata": {},
   "source": [
    "### 인접 리스트를 이용한 표현"
   ]
  },
  {
   "cell_type": "code",
   "execution_count": 5,
   "metadata": {},
   "outputs": [],
   "source": [
    "graphA = {'A' : {('B',29),('F',10)},\n",
    "         'B' : {('A',29), ('C',16), ('G',15)},\n",
    "         'C' : {('B',16), ('D',12)},\n",
    "         'D' : {('C',12), ('E',22), ('G',18)},\n",
    "         'E' : {('D',22), ('F', 27), ('G',25)},\n",
    "         'F' : {('A',10), ('E',27)},\n",
    "         'G' : {('B',15), ('D',18), ('E',25)}}"
   ]
  },
  {
   "cell_type": "code",
   "execution_count": 6,
   "metadata": {},
   "outputs": [
    {
     "name": "stdout",
     "output_type": "stream",
     "text": [
      "AL : weigth sum =  174\n",
      "(A,B,29) (A,F,10) (B,G,15) (B,A,29) (B,C,16) (C,D,12) (C,B,16) (D,G,18) (D,C,12) (D,E,22) (E,D,22) (E,G,25) (E,F,27) (F,E,27) (F,A,10) (G,B,15) (G,E,25) (G,D,18) "
     ]
    }
   ],
   "source": [
    "def weightSum(graph):\n",
    "    sum = 0\n",
    "    for v in graph:\n",
    "        for e in graph[v]:\n",
    "            sum += e[1]\n",
    "    return sum//2\n",
    "\n",
    "def printAllEdges(graph):\n",
    "    for v in graph:\n",
    "        for e in graph[v]:\n",
    "            print('(%s,%s,%d)'%(v,e[0],e[1]), end = ' ')\n",
    "\n",
    "print('AL : weigth sum = ', weightSum(graphA))\n",
    "printAllEdges(graphA)"
   ]
  },
  {
   "cell_type": "markdown",
   "metadata": {},
   "source": [
    "## 11.3 최소비용 신장 트리\n",
    "- 그래프의 모든 정점들은 연결되어야 한다.\n",
    "- 연결에 필요한 간선의 가중치 합(비용)이 최소가 되어야 한다.\n",
    "- 사이클은 두 정점을 연결하는 두 가지 경로를 제공하므로 비용 측면에서 바람직하지 않다. 따라서 사이클이 없이 (n-1)개의 간선만을 사용해야 한다."
   ]
  },
  {
   "cell_type": "markdown",
   "metadata": {},
   "source": [
    "### Kruskal의 MST 알고리즘\n",
    "Kruskal 의 알고리즘은 탐욕적인 방법(greedy method)를 사용한다. 각 단계에서 사이클을 이루지 않는 최소 비용 간선을 선택한다. 이러한 과정을 반복하여 그래프의 모든 정점을 최소비용으로 연결하는 최적 해답을 구한다.  \n",
    "<br>\n",
    "Kruskal의 최소 비용 신장 트리 알고리즘\n",
    "1. 그래프의 모든 간선을 가중치에 따라 오름차순으로 정렬한다.\n",
    "2. 가장 가중치가 작은 간선 e를 뽑는다.\n",
    "3. e를 신장 트리에 넣었을 때 사이클이 생기면 넣지 않고 2번으로 이동한다.\n",
    "4. 사이클이 생기지 않으면 최소 신장 트리에 삽입한다.\n",
    "5. n-1개의 간선이 삽입될 때 까지 2번으로 이동한다. (n은 정점의 개수)"
   ]
  },
  {
   "cell_type": "markdown",
   "metadata": {},
   "source": [
    "#### union과 find 연산"
   ]
  },
  {
   "cell_type": "code",
   "execution_count": 7,
   "metadata": {},
   "outputs": [],
   "source": [
    "# 그래프의 모든 정점에 대해 부모 노드의 인덱스를 저장하기 위해 전역변수로 사용\n",
    "parent = []\n",
    "set_size = 0\n",
    "\n",
    "def init_set(nSets):\n",
    "    global set_size, parent\n",
    "    set_size = nSets\n",
    "    for i in range(nSets):\n",
    "        parent.append(-1)\n",
    "        \n",
    "def find(id):\n",
    "    while (parent[id] >= 0):\n",
    "        id = parent[id]\n",
    "    return id\n",
    "\n",
    "def union(s1, s2):\n",
    "    global set_size\n",
    "    parent[s1] = s2\n",
    "    set_size = set_size -1"
   ]
  },
  {
   "cell_type": "code",
   "execution_count": 8,
   "metadata": {},
   "outputs": [],
   "source": [
    "#kruskal의 최소 비용 신장 트리 프로그램\n",
    "def MSTkruskal(vertex, adj):\n",
    "    vsize = len(vertex)\n",
    "    init_set(vsize)\n",
    "    eList = []\n",
    "    \n",
    "    for i in range(vsize - 1): #모든 간선을 리스트에 넣음\n",
    "        for j in range(i+1, vsize):\n",
    "            if adj[i][j] != None:\n",
    "                eList.append((i,j,adj[i][j]))\n",
    "                \n",
    "    #간선 리스트를 가중치의 내림차순으로 정렬\n",
    "    eList.sort(key = lambda e: e[2], reverse= True)\n",
    "    \n",
    "    edgeAccepted = 0\n",
    "    while edgeAccepted < vsize - 1:\n",
    "        e = eList.pop(-1) #가장 작은 가중치를 가진 간선\n",
    "        uset = find(e[0]) #두 정점이 속한 집합 번호\n",
    "        vset = find(e[1])\n",
    "        \n",
    "        if uset != vset:\n",
    "            print('간선 추가: (%s,%s,%d)'%(vertex[e[0]], vertex[e[1]], e[2]))\n",
    "            union(uset, vset)\n",
    "            edgeAccepted += 1"
   ]
  },
  {
   "cell_type": "code",
   "execution_count": 9,
   "metadata": {},
   "outputs": [
    {
     "name": "stdout",
     "output_type": "stream",
     "text": [
      "MST By Kruskal's Algorithm\n",
      "간선 추가: (A,F,10)\n",
      "간선 추가: (C,D,12)\n",
      "간선 추가: (B,G,15)\n",
      "간선 추가: (B,C,16)\n",
      "간선 추가: (D,E,22)\n",
      "간선 추가: (E,F,27)\n"
     ]
    }
   ],
   "source": [
    "vertex = ['A','B','C','D','E','F','G']\n",
    "weight = [[None, 29, None, None, None, 10, None],\n",
    "         [29, None, 16, None, None, None, 15],\n",
    "         [None, 16, None, 12, None, None, None],\n",
    "         [None, None, 12, None, 22, None, 18],\n",
    "         [None, None, None, 22, None, 27, 25],\n",
    "         [10, None, None, None, 27, None, None],\n",
    "         [None, 15, None, 18, 25, None, None]]\n",
    "\n",
    "print(\"MST By Kruskal's Algorithm\")\n",
    "MSTkruskal(vertex, weight)"
   ]
  },
  {
   "cell_type": "markdown",
   "metadata": {},
   "source": [
    "Kruskal의 알고리즘의 시간 복잡도는 간선들을 정렬하는 시간에 좌우된다. 따라서 퀵 정렬이나 최소 힙와 같은 효율적인 정렬 알고리즘을 사용한다면 시간 복잡도는 $elog_{2}e$이다. (e는 간선의 개수)"
   ]
  },
  {
   "cell_type": "markdown",
   "metadata": {},
   "source": [
    "### Prim의 MST 알고리즘\n",
    "1. 그래프에서 시작 정점을 선택하여 초기 트리를 만든다.\n",
    "2. 현재 트리의 정점들과 인접한 정점들 중에서 간선의 가중치가 가장 작은 정점 v를 선택한다.\n",
    "3. 이 정점 v와 이때의 간선을 트리에 추가한다.\n",
    "4. 모든 정점이 삽입될 때 까지 2번으로 이동한다."
   ]
  },
  {
   "cell_type": "code",
   "execution_count": 10,
   "metadata": {},
   "outputs": [],
   "source": [
    "INF = 9999\n",
    "#현재 트리에 인접한 정점들 중에서 가장 가까운 정점을 찾는 함수\n",
    "def getMinVertex(dist, selected):\n",
    "    minv = 0\n",
    "    mindist = INF\n",
    "    for v in range(len(dist)):\n",
    "        if not selected[v] and dist[v] < mindist:\n",
    "            mindist = dist[v]\n",
    "            minv = v\n",
    "    return minv"
   ]
  },
  {
   "cell_type": "code",
   "execution_count": 11,
   "metadata": {},
   "outputs": [],
   "source": [
    "#Prim의 최소 비용 신장 트리 프로그램\n",
    "def MSTPrim(vertex, adj):\n",
    "    vsize = len(vertex)\n",
    "    dist = [INF]*vsize\n",
    "    selected = [False]*vsize\n",
    "    dist[0] = 0\n",
    "    \n",
    "    for i in range(vsize):\n",
    "        u = getMinVertex(dist, selected)\n",
    "        selected[u] = True\n",
    "        print(vertex[u], end = ' ')\n",
    "        for v in range(visze):\n",
    "            if (adj[u][v] != None):\n",
    "                if selected[v] == False and adj[u][v] < dist[v]:\n",
    "                    dist[v] = adj[u][v]\n",
    "                    \n",
    "    print()"
   ]
  },
  {
   "cell_type": "markdown",
   "metadata": {},
   "source": [
    "Prim 알고리즘의 시간 복잡도는 $O(n^2)$이다.  \n",
    "간선의 개수가 매우 적은 희박한 그래프(sparse graph)를 대상으로 할 경우에는 Kruskal의 알고리즘이 적합하고, 반대로 완전 그래프와 같이 간선이 매우 많은 그래프의 경우에는 Prim의 알고리즘이 유리하다."
   ]
  },
  {
   "cell_type": "markdown",
   "metadata": {},
   "source": [
    "## 11.4 최단 경로\n",
    "가중치 그래프에서 두 정점을 연결하는 여러 경로들 중에서 간선들의 가중치 합이 최소가 되는 경로를 찾는 문제"
   ]
  },
  {
   "cell_type": "markdown",
   "metadata": {},
   "source": [
    "### Dijkstra의 최단 경로 알고리즘\n",
    "하나의 시작 정점 v에서 다른 모든 정점까지의 최단 경로를 찾는 알고리즘"
   ]
  },
  {
   "cell_type": "code",
   "execution_count": 1,
   "metadata": {},
   "outputs": [],
   "source": [
    "INF = 9999\n",
    "#최소 dist 정점을 찾는 함수\n",
    "def choose_vertex(dist, found):\n",
    "    min = INF\n",
    "    minpos = -1\n",
    "    for i in range(len(dist)): #모든 정점 중에서\n",
    "        if dist[i] < min and found[i] == False: #방문하지 않은 최소 dist 정점\n",
    "            min = dist[i]\n",
    "            minpos = i\n",
    "    return minpos # 최소 dist 정점의 인덱스 반환\n",
    "\n",
    "def shortest_path_dijkstra(vtx, adj, start):\n",
    "    vsize = len(vtx) # 정점의 수\n",
    "    dist = list(adj[start]) #dist 배열 생성 및 초기화\n",
    "    path = [start] * vsize #path 배열 생성 및 초기화\n",
    "    found = [False] * vsize #found 배열 생성 및 초기화\n",
    "    found[start] = True #시작정점: 이미 찾아짐\n",
    "    dist[start] = 0 #시작정점의 거리: 0\n",
    "    \n",
    "    for i in range(vsize):\n",
    "        print('Step%2d: '%(i+1), dist) #단계별 dist[]출력용\n",
    "        u = choose_vertex(dist, found) #최소 dist 정점 u 탐색\n",
    "        found[u] = True\n",
    "        \n",
    "        for w in range(vsize): #모든 정점에 대해\n",
    "            if not found[w]: # 아직 찾아지지 않았으면\n",
    "                if dist[u] + adj[u][w] < dist[w]: #갱신 조건 검사\n",
    "                    dist[w] = dist[u] + adj[u][w] #dist 갱신\n",
    "                    path[w] = u #이전 정점 갱신\n",
    "                    \n",
    "    return path #찾아진 최단 경로 반환"
   ]
  },
  {
   "cell_type": "code",
   "execution_count": 2,
   "metadata": {},
   "outputs": [
    {
     "name": "stdout",
     "output_type": "stream",
     "text": [
      "Shortest Path By Dijkstra Algorithm\n",
      "Step 1:  [0, 7, 9999, 9999, 3, 10, 9999]\n",
      "Step 2:  [0, 5, 9999, 14, 3, 10, 8]\n",
      "Step 3:  [0, 5, 9, 14, 3, 10, 8]\n",
      "Step 4:  [0, 5, 9, 12, 3, 10, 8]\n",
      "Step 5:  [0, 5, 9, 11, 3, 10, 8]\n",
      "Step 6:  [0, 5, 9, 11, 3, 10, 8]\n",
      "Step 7:  [0, 5, 9, 11, 3, 10, 8]\n",
      "[최단 경로: A -> B] B <- E <- A\n",
      "[최단 경로: A -> C] C <- B <- E <- A\n",
      "[최단 경로: A -> D] D <- C <- B <- E <- A\n",
      "[최단 경로: A -> E] E <- A\n",
      "[최단 경로: A -> F] F <- A\n",
      "[최단 경로: A -> G] G <- E <- A\n"
     ]
    }
   ],
   "source": [
    "vertex = ['A','B','C','D','E','F','G']\n",
    "weight = [[0, 7, INF, INF, 3, 10, INF],\n",
    "         [7, 0, 4, 10, 2, 6, INF],\n",
    "         [INF, 4, 0, 2, INF ,INF ,INF],\n",
    "         [INF,10,2,0,11,9,4],\n",
    "         [3, 2, INF,11,0,13,5],\n",
    "         [10, 6, INF,9,13,0,INF],\n",
    "         [INF,INF,INF,4,5,INF,0]]\n",
    "\n",
    "print('Shortest Path By Dijkstra Algorithm')\n",
    "start = 0\n",
    "path = shortest_path_dijkstra(vertex, weight, start)\n",
    "\n",
    "#최종 경로를 출력하기 위한 코드\n",
    "for end in range(len(vertex)):\n",
    "    if end != start:\n",
    "        print('[최단 경로: %s -> %s] %s'%(vertex[start], vertex[end], vertex[end]), end='')\n",
    "        while path[end] != start:\n",
    "            print(\" <- %s\"%vertex[path[end]], end = '')\n",
    "            end = path[end]\n",
    "        print(' <- %s'%vertex[path[end]])"
   ]
  },
  {
   "cell_type": "markdown",
   "metadata": {},
   "source": [
    "최단 경로 알고리즘은 주 반복문을 n번 반복하고 내부 반복문을 2n번 반복하므로 $O(n^2)$의 시간 복잡도를 갖는다."
   ]
  },
  {
   "cell_type": "markdown",
   "metadata": {},
   "source": [
    "### Floyd의 최단 경로 알고리즘\n",
    "그래프의 모든 정점사이의 최단경로를 한꺼번에 찾아준다."
   ]
  },
  {
   "cell_type": "markdown",
   "metadata": {},
   "source": [
    "$A^{k}[i][j]$를 0부터 k까지의 정점만을 이용한 정점 i에서 j까지의 최단 경로라고 하자  \n",
    "$A^{-1}[i][j]$는 인접 행렬  \n",
    "$A^{-1}[i][j]$ -> $A^{0}[i][j]$ -> $A^{1}[i][j]$ -> ... -> $A^{n-1}[i][j]$  \n",
    "$A^{k}[i][j]$ <- $min(A^{k-1}[i][j], A^{k-1}[i][k] + A^{k-1}[k][j])$  \n",
    "이것은 정점 k를 경유하는 것이 보다 좋은 경로이면 $A^{k-1}[i][j]$의 값이 변경되고, 그렇지 않으면 이전 값을 유지한다는 의미이다."
   ]
  },
  {
   "cell_type": "code",
   "execution_count": 4,
   "metadata": {},
   "outputs": [],
   "source": [
    "INF = 9999\n",
    "def printA(A): #현재의 A행렬을 화면에 출력하는 함수\n",
    "    vsize = len(A)\n",
    "    print('======================================')\n",
    "    for i in range(vsize):\n",
    "        for j in range(vsize):\n",
    "            if (A[i][j] == INF):\n",
    "                print('INF', end = '')\n",
    "            else:\n",
    "                print(\"%4d\"%A[i][j], end = '')\n",
    "        print(\"\")\n",
    "\n",
    "def shortest_path_floyd(vertex, adj):\n",
    "    vsize = len(vertex) #정점의 개수\n",
    "    A = list(adj) #2차원 배열의 복사\n",
    "    for i in range(vsize):\n",
    "        A[i] = list(adj[i])\n",
    "    \n",
    "    for k in range(vsize):\n",
    "        for i in range(vsize):\n",
    "            for j in range(vsize):\n",
    "                if A[i][k] + A[k][j] < A[i][j]:\n",
    "                    A[i][j] = A[i][k] + A[k][j]\n",
    "        printA(A)"
   ]
  },
  {
   "cell_type": "code",
   "execution_count": 5,
   "metadata": {},
   "outputs": [
    {
     "name": "stdout",
     "output_type": "stream",
     "text": [
      "======================================\n",
      "   0   7INFINF   3  10INF\n",
      "   7   0   4  10   2   6INF\n",
      "INF   4   0   2INFINFINF\n",
      "INF  10   2   0  11   9   4\n",
      "   3   2INF  11   0  13   5\n",
      "  10   6INF   9  13   0INF\n",
      "INFINFINF   4   5INF   0\n",
      "======================================\n",
      "   0   7  11  17   3  10INF\n",
      "   7   0   4  10   2   6INF\n",
      "  11   4   0   2   6  10INF\n",
      "  17  10   2   0  11   9   4\n",
      "   3   2   6  11   0   8   5\n",
      "  10   6  10   9   8   0INF\n",
      "INFINFINF   4   5INF   0\n",
      "======================================\n",
      "   0   7  11  13   3  10INF\n",
      "   7   0   4   6   2   6INF\n",
      "  11   4   0   2   6  10INF\n",
      "  13   6   2   0   8   9   4\n",
      "   3   2   6   8   0   8   5\n",
      "  10   6  10   9   8   0INF\n",
      "INFINFINF   4   5INF   0\n",
      "======================================\n",
      "   0   7  11  13   3  10  17\n",
      "   7   0   4   6   2   6  10\n",
      "  11   4   0   2   6  10   6\n",
      "  13   6   2   0   8   9   4\n",
      "   3   2   6   8   0   8   5\n",
      "  10   6  10   9   8   0  13\n",
      "  17  10   6   4   5  13   0\n",
      "======================================\n",
      "   0   5   9  11   3  10   8\n",
      "   5   0   4   6   2   6   7\n",
      "   9   4   0   2   6  10   6\n",
      "  11   6   2   0   8   9   4\n",
      "   3   2   6   8   0   8   5\n",
      "  10   6  10   9   8   0  13\n",
      "   8   7   6   4   5  13   0\n",
      "======================================\n",
      "   0   5   9  11   3  10   8\n",
      "   5   0   4   6   2   6   7\n",
      "   9   4   0   2   6  10   6\n",
      "  11   6   2   0   8   9   4\n",
      "   3   2   6   8   0   8   5\n",
      "  10   6  10   9   8   0  13\n",
      "   8   7   6   4   5  13   0\n",
      "======================================\n",
      "   0   5   9  11   3  10   8\n",
      "   5   0   4   6   2   6   7\n",
      "   9   4   0   2   6  10   6\n",
      "  11   6   2   0   8   9   4\n",
      "   3   2   6   8   0   8   5\n",
      "  10   6  10   9   8   0  13\n",
      "   8   7   6   4   5  13   0\n"
     ]
    }
   ],
   "source": [
    "shortest_path_floyd(vertex, weight)"
   ]
  },
  {
   "cell_type": "markdown",
   "metadata": {},
   "source": [
    "Floyd 알고리즘의 시간 복잡도는 $O(n^3)$이다"
   ]
  },
  {
   "cell_type": "code",
   "execution_count": null,
   "metadata": {},
   "outputs": [],
   "source": []
  }
 ],
 "metadata": {
  "kernelspec": {
   "display_name": "Python 3",
   "language": "python",
   "name": "python3"
  },
  "language_info": {
   "codemirror_mode": {
    "name": "ipython",
    "version": 3
   },
   "file_extension": ".py",
   "mimetype": "text/x-python",
   "name": "python",
   "nbconvert_exporter": "python",
   "pygments_lexer": "ipython3",
   "version": "3.7.3"
  }
 },
 "nbformat": 4,
 "nbformat_minor": 2
}
