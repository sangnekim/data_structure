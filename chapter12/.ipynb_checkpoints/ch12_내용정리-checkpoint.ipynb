{
 "cells": [
  {
   "cell_type": "markdown",
   "metadata": {},
   "source": [
    "# 고급 정렬\n",
    "## 12.1 다양한 정렬 알고리즘"
   ]
  },
  {
   "cell_type": "markdown",
   "metadata": {},
   "source": [
    "- 선택 정렬: 입력의 크기에 따라 자료 이동 횟수가 결정된다.\n",
    "- 삽입 정렬: 레코드의 많은 이동이 필요하지만 대부분의 레코드가 이미 정려되어 있는 경우에는 효율적이다.\n",
    "- 버블 정렬: 인접 요소를 교환하는 방식의 가장 간단한 알고리즘을 사용한다.\n",
    "- 셸 정렬: 삽입 정렬 개념을 개선한 방법\n",
    "- 힙 정렬: 추가적인 메모리 공간이 필요 없는 제자리 정렬로 구현하는 방법\n",
    "- 병합 정렬: 연속적인 분할과 병합을 이용하는 방법\n",
    "- 퀵 정렬, 이중피벗 퀵 정렬: 피벗을 이용한 정렬 방법으로 대표적인 효율적인 정렬 알고리즘\n",
    "- 기수 정렬, 카운팅 정렬: 항목의 비교를 사용하지 않고 분배를 이용해 정렬하는 방법이지만 적용할 수 있는 킷값에 제한이 있는 알고리즘"
   ]
  },
  {
   "cell_type": "markdown",
   "metadata": {},
   "source": [
    "## 12.2 셸 정렬"
   ]
  },
  {
   "cell_type": "markdown",
   "metadata": {},
   "source": [
    "셸 정렬: 삽입정렬이 어느 정도 정렬된 배열에 대새허는 대단히 바른 것에 착안했다."
   ]
  },
  {
   "cell_type": "markdown",
   "metadata": {},
   "source": [
    "![image](https://user-images.githubusercontent.com/68596881/108025043-18824680-7069-11eb-888e-d1df4011f6cf.png)"
   ]
  },
  {
   "cell_type": "markdown",
   "metadata": {},
   "source": [
    "셸 정렬은 먼저 리스트를 일정한 기준에 따라 여러 개의 부분 리스트로 나누고, 각 부분리스트를 삽입 정렬을 이용해 정렬한다. 모든 부분 리스트가 정렬되면 다시 전체 리스트를 더 적은 개수의 부분 리스트로 만들어 앞의 과정을 되풀이한다. 이 과정은 부분 리스트의 개수가 1이 될 때까지 반복된다."
   ]
  },
  {
   "cell_type": "code",
   "execution_count": 1,
   "metadata": {},
   "outputs": [],
   "source": [
    "#gap만큼 떨어진 요소들을 삽입 정렬. 정렬 범위는 first에서 last\n",
    "def sortGapInsertion(A, first, last, gap):\n",
    "    for i in range(first+gap, last+1, gap):\n",
    "        key = A[i]\n",
    "        j = i-gap\n",
    "        while j >= first and key<A[j]: #삽입 위치를 찾음\n",
    "            A[j+gap] = A[j] #항목 이동\n",
    "            j = j- gap\n",
    "        A[j+gap] = key #최종 위치에 삽입\n",
    "\n",
    "def shell_sort(A):\n",
    "    n = len(A)\n",
    "    gap = n//2\n",
    "    while gap > 0 :\n",
    "        if gap%2 == 0:\n",
    "            gap += 1\n",
    "        for i in range(gap):\n",
    "            sortGapInsertion(A,i,n-1, gap)\n",
    "        print('    Gap=', gap, A)\n",
    "        gap = gap//2"
   ]
  },
  {
   "cell_type": "code",
   "execution_count": 2,
   "metadata": {},
   "outputs": [
    {
     "name": "stdout",
     "output_type": "stream",
     "text": [
      "    Gap= 5 [1, 3, 2, 4, 9, 5, 6, 8, 7]\n",
      "    Gap= 3 [1, 3, 2, 4, 8, 5, 6, 9, 7]\n",
      "    Gap= 1 [1, 2, 3, 4, 5, 6, 7, 8, 9]\n"
     ]
    }
   ],
   "source": [
    "A = [5,3,8,4,9,1,6,2,7]\n",
    "shell_sort(A)"
   ]
  },
  {
   "cell_type": "markdown",
   "metadata": {},
   "source": [
    "시간 복잡도는 최왁의 경우 $O(n^2)$이지만, 평균적인 경우 $O(n^{1.5})$ 이다."
   ]
  },
  {
   "cell_type": "markdown",
   "metadata": {},
   "source": [
    "## 12.3 힙 정렬\n",
    "힙은 우선순위 큐를 완전이진트리로 구현하는 방법으로 최댓값이나 최솟값을 쉽게 추출할 수 있는 자료구조이므로 힙을 이용하면 리스트를 간단히 정렬할 수 잇다."
   ]
  },
  {
   "cell_type": "markdown",
   "metadata": {},
   "source": [
    "### 힙을 이용한 정렬"
   ]
  },
  {
   "cell_type": "code",
   "execution_count": 3,
   "metadata": {},
   "outputs": [],
   "source": [
    "# 8.3절에서 최대 힙을 구현한 코드\n",
    "class MaxHeap:\n",
    "    def __init__(self):\n",
    "        self.heap = []\n",
    "        self.heap.append(0) #0번 항목은 사용하지 않음\n",
    "\n",
    "    def size(self):\n",
    "        return len(self.heap) - 1\n",
    "\n",
    "    def isEmpty(self):\n",
    "        return self.size() == 0\n",
    "\n",
    "    def Parent(self,i):\n",
    "        return self.heap[i//2]\n",
    "\n",
    "    def Left(self, i):\n",
    "        return self.heap[i*2]\n",
    "\n",
    "    def Right(self, i):\n",
    "        return self.heap[i*2 + 1]\n",
    "\n",
    "    def display(self, msg = '힙 트리 '):\n",
    "        print(msg, self.heap[1:])\n",
    "\n",
    "    def insert(self, n):\n",
    "        self.heap.append(n)\n",
    "        i = self.size() #노드 n의 위치\n",
    "        while (i != 1 and n > self.Parent(i)): #부모보다 큰 동안 계속 업힙\n",
    "            self.heap[i] = self.Parent(i)\n",
    "            i = i//2\n",
    "        self.heap[i] = n\n",
    "\n",
    "    def delete(self):\n",
    "        parent = 1\n",
    "        child = 2\n",
    "        if not self.isEmpty():\n",
    "            hroot = self.heap[1] # 삭제할 루트를 복사해 둠\n",
    "            last = self.heap[self.size()] # 마지막 노드\n",
    "            while (child <= self.size()): # 마지막 노드 이전까지\n",
    "                #만약 오른쪽 노드가 더 크면 child를 1 증가(기본은 왼쪽 노드)\n",
    "                if child < self.size() and self.Left(parent) < self.Right(parent):\n",
    "                    child += 1\n",
    "                if last >= self.heap[child]: # 더 큰 자식이 더 작으면 삽입 위치 찾음. down-heap 종료\n",
    "                    break\n",
    "                self.heap[parent] = self.heap[child] #down-heap\n",
    "                parent = child\n",
    "                child *= 2\n",
    "\n",
    "            self.heap[parent] = last #맨 마지막 노드를 parent 위치에 복사\n",
    "            self.heap.pop(-1) #맨 마지막 노드 삭제\n",
    "            return hroot"
   ]
  },
  {
   "cell_type": "code",
   "execution_count": 4,
   "metadata": {},
   "outputs": [],
   "source": [
    "def heapSort(data):\n",
    "    heap = MaxHeap()\n",
    "    for n in data:\n",
    "        heap.insert(n)\n",
    "    \n",
    "    for i in range(1, len(data)+1):\n",
    "        data[-i] = heap.delete()"
   ]
  },
  {
   "cell_type": "markdown",
   "metadata": {},
   "source": [
    "힙의 삽입 연산과 삭제연산의 시간 복잡도는 모두 $O(log_{2}n)$이고, 이러한 연산을 2n번 해야 하므로 정렬의 시간복잡도는 $O(nlog_{2}n)$이다. 하지만 이 방법은 다른 메모리 공간인 힙에 모두 넣었다가 빼야하므로 추가적인 메모리를 필요로 하다."
   ]
  },
  {
   "cell_type": "markdown",
   "metadata": {},
   "source": [
    "### 제자리 정렬로 구현한 힙 정렬"
   ]
  },
  {
   "cell_type": "markdown",
   "metadata": {},
   "source": [
    "#### 정렬되지 않은 배열 -> 최대 힙"
   ]
  },
  {
   "cell_type": "markdown",
   "metadata": {},
   "source": [
    "![image](https://user-images.githubusercontent.com/68596881/108025076-26d06280-7069-11eb-982c-3fe1b52856a5.png)"
   ]
  },
  {
   "cell_type": "code",
   "execution_count": 6,
   "metadata": {},
   "outputs": [],
   "source": [
    "def heapify(arr, n, i): #n: 배열의 길이, i: 다운힙을 진행하고자 하는 항목의 인덱스\n",
    "    largest = i #i번째가 가장 크다고 하자\n",
    "    l = 2*i + 1 #왼쪽 자식\n",
    "    r = 2*i + 2 #오른쪽 자식\n",
    "    \n",
    "    if l < n and arr[i] < arr[l]: #교환조건 검사\n",
    "        largest = l\n",
    "    if r < n and arr[largest] < arr[r]: #교환조건 검사\n",
    "        largest = r\n",
    "    if largest != i: #교환이 필요하면\n",
    "        arr[i], arr[largest] = arr[largest], arr[i] #교환\n",
    "        heapify(arr, n ,largest) #순차적으로 자식노드로 내려감"
   ]
  },
  {
   "cell_type": "markdown",
   "metadata": {},
   "source": [
    "#### 최대 힙 -> 정렬된 배열"
   ]
  },
  {
   "cell_type": "markdown",
   "metadata": {},
   "source": [
    "최대 힙에서 항목들을 하나씩 꺼내 순서대로 저장해야 최종 정렬이 완료된다.  \n",
    "힙의 삭제는 루트를 삭제하는 것이다. 따라서 루트의 숫자를 힙의 마지막 숫자와 교환하고 힙 크기를 1 줄인다. 이 상태는 힙 조건을 만족하지 않을 수 있다. 따라서 다운힙 연산으로 반드시 힙을 복원해야 한다."
   ]
  },
  {
   "cell_type": "code",
   "execution_count": 7,
   "metadata": {},
   "outputs": [],
   "source": [
    "def heapSort(arr):\n",
    "    n = len(arr)\n",
    "    print('i=', 0 ,arr)\n",
    "    for i in range(n//2, -1, -1): #최대 힙을 만듦\n",
    "        heapify(arr, n ,i)\n",
    "        print(\"i=\", i, arr)\n",
    "    print()\n",
    "    \n",
    "    for i in range(n-1, 0, -1):\n",
    "        arr[i],arr[0] = arr[0],arr[i] #루트를 뒤쪽으로 옮김. 교체\n",
    "        heapify(arr, i, 0) #heap 조건을 맞춤\n",
    "        print('i=', i ,arr)"
   ]
  },
  {
   "cell_type": "code",
   "execution_count": 8,
   "metadata": {},
   "outputs": [
    {
     "name": "stdout",
     "output_type": "stream",
     "text": [
      "i= 0 [5, 3, 8, 4, 9, 1, 6, 2, 7]\n",
      "i= 4 [5, 3, 8, 4, 9, 1, 6, 2, 7]\n",
      "i= 3 [5, 3, 8, 7, 9, 1, 6, 2, 4]\n",
      "i= 2 [5, 3, 8, 7, 9, 1, 6, 2, 4]\n",
      "i= 1 [5, 9, 8, 7, 3, 1, 6, 2, 4]\n",
      "i= 0 [9, 7, 8, 5, 3, 1, 6, 2, 4]\n",
      "\n",
      "i= 8 [8, 7, 6, 5, 3, 1, 4, 2, 9]\n",
      "i= 7 [7, 5, 6, 2, 3, 1, 4, 8, 9]\n",
      "i= 6 [6, 5, 4, 2, 3, 1, 7, 8, 9]\n",
      "i= 5 [5, 3, 4, 2, 1, 6, 7, 8, 9]\n",
      "i= 4 [4, 3, 1, 2, 5, 6, 7, 8, 9]\n",
      "i= 3 [3, 2, 1, 4, 5, 6, 7, 8, 9]\n",
      "i= 2 [2, 1, 3, 4, 5, 6, 7, 8, 9]\n",
      "i= 1 [1, 2, 3, 4, 5, 6, 7, 8, 9]\n"
     ]
    }
   ],
   "source": [
    "A = [5,3,8,4,9,1,6,2,7]\n",
    "heapSort(A)"
   ]
  },
  {
   "cell_type": "markdown",
   "metadata": {},
   "source": [
    "힙 정렬의 시간 복잡도는 $O(nlog_{2}n)$이고, 제자리 겅렬로 구현할 수 있어 추가적인 메모리가 필요 없다."
   ]
  },
  {
   "cell_type": "markdown",
   "metadata": {},
   "source": [
    "## 12.4 병합 정렬\n",
    "병합 정렬(merge sort)은 하나의 리스트를 두 개의 균등한 크기로 분할하고 분할된 부분리스트를 정렬한 다음, 두 리스트를 합하여 전체가 정렬된 리스트를 만드는 방법"
   ]
  },
  {
   "cell_type": "markdown",
   "metadata": {},
   "source": [
    "![image](https://user-images.githubusercontent.com/68596881/108025100-32bc2480-7069-11eb-8154-9ab206d023de.png)"
   ]
  },
  {
   "cell_type": "code",
   "execution_count": 9,
   "metadata": {},
   "outputs": [],
   "source": [
    "def merge_sort(A, left, right):\n",
    "    if left < right:\n",
    "        mid = (left + right) //2\n",
    "        merge_sort(A, left, mid)\n",
    "        merge_sort(A, mid+1, right)\n",
    "        merge(A, left, mid, right)\n",
    "        \n",
    "def merge(A, left, mid ,right):\n",
    "    global sorted\n",
    "    k = left\n",
    "    i = left\n",
    "    j = mid + 1\n",
    "    while i <= mid and j <= right:\n",
    "        if A[i] <= A[j]:\n",
    "            sorted[k] = A[i]\n",
    "            i,k = i+1, k+1\n",
    "        else:\n",
    "            sorted[k] = A[j]\n",
    "            j,k = j+1, k+1\n",
    "    if i > mid:\n",
    "        sorted[k:k+right-j+1] = A[j:right + 1]\n",
    "    else:\n",
    "        sorted[k:k+mid-i+1] = A[i:mid+1]\n",
    "    A[left:right+1] = sorted[left:right+1]"
   ]
  },
  {
   "cell_type": "markdown",
   "metadata": {},
   "source": [
    "병합정렬은 최악, 평균, 최선의 모든 경우에 $O(nlog_{2}n)$의 시간 복잡도를 갖는다. 단점은 추가적인 메모리가 필요하다는 것이다."
   ]
  },
  {
   "cell_type": "markdown",
   "metadata": {},
   "source": [
    "## 12.5 퀵 정렬"
   ]
  },
  {
   "cell_type": "markdown",
   "metadata": {},
   "source": [
    "퀵 정렬(quick sort): 분할-정복법을 사용한다.\n",
    "- 리스트 안에 있는 한 요소를 피벗(pivot)으로 선택한다.\n",
    "- 피벗보다 작은 요소들은 모두 피벗의 왼쪽으로 옮기고 피벗보다 큰 요소들은 모두 피벗의 오른쪽으로 옮긴다.\n",
    "- 이 상태에서 피벗을 제외한 왼쪽 리스트와 오른쪽 리스트를 다시 정렬하게 되면 전체 리스트가 정렬된다."
   ]
  },
  {
   "cell_type": "markdown",
   "metadata": {},
   "source": [
    "![image](https://user-images.githubusercontent.com/68596881/108167336-dde7df00-7138-11eb-8cfb-31fb8b1b400e.png)"
   ]
  },
  {
   "cell_type": "markdown",
   "metadata": {},
   "source": [
    "![image](https://user-images.githubusercontent.com/68596881/108167365-ea6c3780-7138-11eb-9fcd-fb816c854d64.png)"
   ]
  },
  {
   "cell_type": "code",
   "execution_count": 1,
   "metadata": {},
   "outputs": [],
   "source": [
    "def quick_sort(A, left, right):\n",
    "    if left < right:\n",
    "        q = partition(A, left, right) #좌우로 분할\n",
    "        quick_sort(A, left, q-1)\n",
    "        quick_sort(A, q+1, right)\n",
    "\n",
    "def partition(A, left, right):\n",
    "    low = left + 1\n",
    "    high = right\n",
    "    pivot = A[left] #피벗 설정\n",
    "    while (low <= high):\n",
    "        while low <= high and A[low] < pivot:\n",
    "            low += 1\n",
    "        while high >= left and A[high] > pivot:\n",
    "            high -= 1\n",
    "        \n",
    "        if low < high: #선택된 두 레코드 교환\n",
    "            A[low],A[high] = A[high],A[low]\n",
    "        \n",
    "    A[left], A[high] = A[high],A[left] #마지막으로 high와 피벗 항목 교환\n",
    "    return high #피벗의 위치 반환"
   ]
  },
  {
   "cell_type": "code",
   "execution_count": 3,
   "metadata": {},
   "outputs": [
    {
     "data": {
      "text/plain": [
       "[1, 2, 3, 4, 5, 6, 7, 8, 9]"
      ]
     },
     "execution_count": 3,
     "metadata": {},
     "output_type": "execute_result"
    }
   ],
   "source": [
    "A = [5,3,8,4,9,1,6,2,7]\n",
    "quick_sort(A,0,len(A)-1)\n",
    "A"
   ]
  },
  {
   "cell_type": "markdown",
   "metadata": {},
   "source": [
    "퀵 정렬의 시간 복잡도\n",
    "- 최선의 경우: 리스트 분할이 항상 리스트의 가운데에서 이루어지는 상황으로 $O(nlog_{2}n)$\n",
    "- 최악의 경우: 리스트가 계속 불균형하게 나누어지는 경우이다. 예를 들어, 이미 정렬된 리스트는 퀵 정렬에서 최악의 입력이다. 시간 복잡도는 $O(n^2)$"
   ]
  },
  {
   "cell_type": "markdown",
   "metadata": {},
   "source": [
    "## 12.6 이중피벗 퀵 정렬"
   ]
  },
  {
   "cell_type": "markdown",
   "metadata": {},
   "source": [
    "이중피벗 퀵 정렬(dual pivot quick sort): 퀵 정렬을 보완하여 2개의 피벗을 사용하는 퀵 정렬"
   ]
  },
  {
   "cell_type": "markdown",
   "metadata": {},
   "source": [
    "![image](https://user-images.githubusercontent.com/68596881/108167407-fce67100-7138-11eb-8ee4-d117f0fcee88.png)"
   ]
  },
  {
   "cell_type": "markdown",
   "metadata": {},
   "source": [
    "![image](https://user-images.githubusercontent.com/68596881/108167432-053eac00-7139-11eb-8e2b-5c61d0065111.png)"
   ]
  },
  {
   "cell_type": "code",
   "execution_count": 4,
   "metadata": {},
   "outputs": [],
   "source": [
    "def dp_quick_sort(A, low, high):\n",
    "    if low < high:\n",
    "        lp, rp = partitionDP(A, low, high) #좌우 피벗의 인덱스를 반환\n",
    "        dp_quick_sort(A, low, lp-1)\n",
    "        dp_quick_sort(A, lp+1, rp-1)\n",
    "        dp_quick_sort(A, rp+1, high)\n",
    "        \n",
    "def partitionDP(A, low, high):\n",
    "    if A[low] > A[high]: #오른쪽 피벗은 왼쪽 피벗보다 작지 않아야 함\n",
    "        A[low], A[high] = A[high], A[low]\n",
    "    \n",
    "    j = low+1\n",
    "    g = high-1\n",
    "    k = low+1\n",
    "    lpVal = A[low] #왼쪽 피벗값\n",
    "    rpVal = A[high] #오른쪽 피벗값\n",
    "    while k <= g:\n",
    "        if A[k] < lpVal: #A[k]가 왼쪽 피벗보다 작으면\n",
    "            A[k],A[j] = A[j], A[k] #교환\n",
    "            j += 1\n",
    "            \n",
    "        elif A[k] >= rpVal:\n",
    "            while A[g] > rpVal and k < g: #g의 위치 찾기\n",
    "                g -= 1\n",
    "            A[k], A[g] = A[g], A[k]\n",
    "            g -= 1\n",
    "            \n",
    "            if A[k] < lpVal: #변경된 A[k]가 왼쪽 피벗보다 작으면\n",
    "                A[k],A[j] = A[j],A[k] #다시 교환\n",
    "                j += 1\n",
    "            k += 1\n",
    "    \n",
    "    j -= 1\n",
    "    g += 1\n",
    "    A[low],A[j] = A[j], A[low]\n",
    "    A[high], A[g] = A[g], A[high]\n",
    "    \n",
    "    return j, g #왼쪽과 오른쪽 피벗의 인덱스"
   ]
  },
  {
   "cell_type": "markdown",
   "metadata": {},
   "source": [
    "이중피벗 퀵 정렬의 이론적인 시간 복잡도는 퀵 정렬과 차이가 없으나 일반적인 경우 퀵 정렬보다 성능이 우수하다고 알려져 있다."
   ]
  },
  {
   "cell_type": "markdown",
   "metadata": {},
   "source": [
    "## 12.7 기수정렬"
   ]
  },
  {
   "cell_type": "markdown",
   "metadata": {},
   "source": [
    "기수 정렬(radix sort): 자리수의 값에 따라서 정렬"
   ]
  },
  {
   "cell_type": "markdown",
   "metadata": {},
   "source": [
    "![image](https://user-images.githubusercontent.com/68596881/108167466-11c30480-7139-11eb-90a0-d6fb2a387768.png)"
   ]
  },
  {
   "cell_type": "code",
   "execution_count": 5,
   "metadata": {},
   "outputs": [],
   "source": [
    "from queue import Queue\n",
    "\n",
    "def radix_sort(A):\n",
    "    queues = []\n",
    "    for i in range(BUCKETS):\n",
    "        queues.append(Queue())\n",
    "        \n",
    "    n = len(A)\n",
    "    factor = 1 #1의 자리부터 시작\n",
    "    for d in range(DIGITS):\n",
    "        for i in range(n): #자릿수에 따라 큐에 삽입\n",
    "            queues[(A[i]//factor)%10].put(A[i]) #숫자를 삽입\n",
    "        i = 0\n",
    "        for b in range(BUCKETS):\n",
    "            while not queues[b].empty():\n",
    "                A[i] = queues[b].get()\n",
    "                i += 1\n",
    "        factor *= 10 #그 다음 자리수로 간다.\n",
    "        print('step', d+1, A)"
   ]
  },
  {
   "cell_type": "code",
   "execution_count": 6,
   "metadata": {},
   "outputs": [
    {
     "name": "stdout",
     "output_type": "stream",
     "text": [
      "step 1 [2112, 5292, 7912, 7793, 5003, 3465, 7386, 8177, 6528, 4379]\n",
      "step 2 [5003, 2112, 7912, 6528, 3465, 8177, 4379, 7386, 5292, 7793]\n",
      "step 3 [5003, 2112, 8177, 5292, 4379, 7386, 3465, 6528, 7793, 7912]\n",
      "step 4 [2112, 3465, 4379, 5003, 5292, 6528, 7386, 7793, 7912, 8177]\n",
      "Radix:  [2112, 3465, 4379, 5003, 5292, 6528, 7386, 7793, 7912, 8177]\n"
     ]
    }
   ],
   "source": [
    "import random\n",
    "BUCKETS = 10\n",
    "DIGITS = 4\n",
    "data = []\n",
    "for i in range(10):\n",
    "    data.append(random.randint(1,9999))\n",
    "radix_sort(data)\n",
    "print('Radix: ',data)"
   ]
  },
  {
   "cell_type": "markdown",
   "metadata": {},
   "source": [
    "기수정렬의 시간복잡도는 $O(d*n)$ -> d:정수의 자릿수  \n",
    "기수정렬은 다른 정렬 방법에 비하면 빠른 수행 시간에 정렬을 마칠 수 있다. 그러나 정렬에 사용되는 키값이 자연수로 표현되어야만 적용이 가능하다."
   ]
  },
  {
   "cell_type": "markdown",
   "metadata": {},
   "source": [
    "## 12.8 카운팅 정렬"
   ]
  },
  {
   "cell_type": "markdown",
   "metadata": {},
   "source": [
    "카운팅 정렬(counting sort): 키 값들이 일정한 범위를 가진 정수라면 킷값을 가진 항목의 수를 세는 방법을 이용해서 정렬"
   ]
  },
  {
   "cell_type": "code",
   "execution_count": 7,
   "metadata": {},
   "outputs": [],
   "source": [
    "MAX_VAL = 1000\n",
    "def counting_sort(A):\n",
    "    output = [0]*MAX_VAL\n",
    "    count = [0]*MAX_VAL\n",
    "    \n",
    "    for i in A: #각 숫자별 빈도를 계산\n",
    "        count[i] += 1\n",
    "        \n",
    "    for i in range(MAX_VAL): #count[i]가 출력 배열에서\n",
    "        count[i] += count [i-1] #해당 숫자의 위치가 되도록 수정\n",
    "    \n",
    "    for i in range(len(A)):\n",
    "        output[count[A[i]]-1] = A[i]\n",
    "        count[A[i]] -= 1\n",
    "        \n",
    "    for i in range(len(A)):\n",
    "        A[i] = output[i]"
   ]
  },
  {
   "cell_type": "markdown",
   "metadata": {},
   "source": [
    "카운팅 정렬의 시간복잡도는 $O(k+n)$ -> k: 숫자의 범위  \n",
    "k가 너무 크다면 공간 복잡도가 문제가 된다. 따라서 제한된 범위의 k를 사용해야 한다."
   ]
  },
  {
   "cell_type": "markdown",
   "metadata": {},
   "source": [
    "## 정렬 알고리즘의 성능 분석"
   ]
  },
  {
   "cell_type": "markdown",
   "metadata": {},
   "source": [
    "![image](https://user-images.githubusercontent.com/68596881/108167492-1edff380-7139-11eb-9495-4138fa6f1e52.png)"
   ]
  },
  {
   "cell_type": "code",
   "execution_count": null,
   "metadata": {},
   "outputs": [],
   "source": []
  }
 ],
 "metadata": {
  "kernelspec": {
   "display_name": "Python 3",
   "language": "python",
   "name": "python3"
  },
  "language_info": {
   "codemirror_mode": {
    "name": "ipython",
    "version": 3
   },
   "file_extension": ".py",
   "mimetype": "text/x-python",
   "name": "python",
   "nbconvert_exporter": "python",
   "pygments_lexer": "ipython3",
   "version": "3.7.3"
  }
 },
 "nbformat": 4,
 "nbformat_minor": 2
}
