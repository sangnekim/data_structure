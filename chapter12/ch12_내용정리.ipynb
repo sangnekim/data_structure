{
 "cells": [
  {
   "cell_type": "markdown",
   "metadata": {},
   "source": [
    "# 고급 정렬\n",
    "## 12.1 다양한 정렬 알고리즘"
   ]
  },
  {
   "cell_type": "markdown",
   "metadata": {},
   "source": [
    "- 선택 정렬: 입력의 크기에 따라 자료 이동 횟수가 결정된다.\n",
    "- 삽입 정렬: 레코드의 많은 이동이 필요하지만 대부분의 레코드가 이미 정려되어 있는 경우에는 효율적이다.\n",
    "- 버블 정렬: 인접 요소를 교환하는 방식의 가장 간단한 알고리즘을 사용한다.\n",
    "- 셸 정렬: 삽입 정렬 개념을 개선한 방법\n",
    "- 힙 정렬: 추가적인 메모리 공간이 필요 없는 제자리 정렬로 구현하는 방법\n",
    "- 병합 정렬: 연속적인 분할과 병합을 이용하는 방법\n",
    "- 퀵 정렬, 이중피벗 퀵 정렬: 피벗을 이용한 정렬 방법으로 대표적인 효율적인 정렬 알고리즘\n",
    "- 기수 정렬, 카운팅 정렬: 항목의 비교를 사용하지 않고 분배를 이용해 정렬하는 방법이지만 적용할 수 있는 킷값에 제한이 있는 알고리즘"
   ]
  },
  {
   "cell_type": "markdown",
   "metadata": {},
   "source": [
    "## 12.2 셸 정렬"
   ]
  },
  {
   "cell_type": "markdown",
   "metadata": {},
   "source": [
    "셸 정렬: 삽입정렬이 어느 정도 정렬된 배열에 대새허는 대단히 바른 것에 착안했다."
   ]
  },
  {
   "cell_type": "markdown",
   "metadata": {},
   "source": [
    "![image](https://user-images.githubusercontent.com/68596881/108025043-18824680-7069-11eb-888e-d1df4011f6cf.png)"
   ]
  },
  {
   "cell_type": "markdown",
   "metadata": {},
   "source": [
    "셸 정렬은 먼저 리스트를 일정한 기준에 따라 여러 개의 부분 리스트로 나누고, 각 부분리스트를 삽입 정렬을 이용해 정렬한다. 모든 부분 리스트가 정렬되면 다시 전체 리스트를 더 적은 개수의 부분 리스트로 만들어 앞의 과정을 되풀이한다. 이 과정은 부분 리스트의 개수가 1이 될 때까지 반복된다."
   ]
  },
  {
   "cell_type": "code",
   "execution_count": 1,
   "metadata": {},
   "outputs": [],
   "source": [
    "#gap만큼 떨어진 요소들을 삽입 정렬. 정렬 범위는 first에서 last\n",
    "def sortGapInsertion(A, first, last, gap):\n",
    "    for i in range(first+gap, last+1, gap):\n",
    "        key = A[i]\n",
    "        j = i-gap\n",
    "        while j >= first and key<A[j]: #삽입 위치를 찾음\n",
    "            A[j+gap] = A[j] #항목 이동\n",
    "            j = j- gap\n",
    "        A[j+gap] = key #최종 위치에 삽입\n",
    "\n",
    "def shell_sort(A):\n",
    "    n = len(A)\n",
    "    gap = n//2\n",
    "    while gap > 0 :\n",
    "        if gap%2 == 0:\n",
    "            gap += 1\n",
    "        for i in range(gap):\n",
    "            sortGapInsertion(A,i,n-1, gap)\n",
    "        print('    Gap=', gap, A)\n",
    "        gap = gap//2"
   ]
  },
  {
   "cell_type": "code",
   "execution_count": 2,
   "metadata": {},
   "outputs": [
    {
     "name": "stdout",
     "output_type": "stream",
     "text": [
      "    Gap= 5 [1, 3, 2, 4, 9, 5, 6, 8, 7]\n",
      "    Gap= 3 [1, 3, 2, 4, 8, 5, 6, 9, 7]\n",
      "    Gap= 1 [1, 2, 3, 4, 5, 6, 7, 8, 9]\n"
     ]
    }
   ],
   "source": [
    "A = [5,3,8,4,9,1,6,2,7]\n",
    "shell_sort(A)"
   ]
  },
  {
   "cell_type": "markdown",
   "metadata": {},
   "source": [
    "시간 복잡도는 최왁의 경우 $O(n^2)$이지만, 평균적인 경우 $O(n^{1.5})$ 이다."
   ]
  },
  {
   "cell_type": "markdown",
   "metadata": {},
   "source": [
    "## 12.3 힙 정렬\n",
    "힙은 우선순위 큐를 완전이진트리로 구현하는 방법으로 최댓값이나 최솟값을 쉽게 추출할 수 있는 자료구조이므로 힙을 이용하면 리스트를 간단히 정렬할 수 잇다."
   ]
  },
  {
   "cell_type": "markdown",
   "metadata": {},
   "source": [
    "### 힙을 이용한 정렬"
   ]
  },
  {
   "cell_type": "code",
   "execution_count": 3,
   "metadata": {},
   "outputs": [],
   "source": [
    "# 8.3절에서 최대 힙을 구현한 코드\n",
    "class MaxHeap:\n",
    "    def __init__(self):\n",
    "        self.heap = []\n",
    "        self.heap.append(0) #0번 항목은 사용하지 않음\n",
    "\n",
    "    def size(self):\n",
    "        return len(self.heap) - 1\n",
    "\n",
    "    def isEmpty(self):\n",
    "        return self.size() == 0\n",
    "\n",
    "    def Parent(self,i):\n",
    "        return self.heap[i//2]\n",
    "\n",
    "    def Left(self, i):\n",
    "        return self.heap[i*2]\n",
    "\n",
    "    def Right(self, i):\n",
    "        return self.heap[i*2 + 1]\n",
    "\n",
    "    def display(self, msg = '힙 트리 '):\n",
    "        print(msg, self.heap[1:])\n",
    "\n",
    "    def insert(self, n):\n",
    "        self.heap.append(n)\n",
    "        i = self.size() #노드 n의 위치\n",
    "        while (i != 1 and n > self.Parent(i)): #부모보다 큰 동안 계속 업힙\n",
    "            self.heap[i] = self.Parent(i)\n",
    "            i = i//2\n",
    "        self.heap[i] = n\n",
    "\n",
    "    def delete(self):\n",
    "        parent = 1\n",
    "        child = 2\n",
    "        if not self.isEmpty():\n",
    "            hroot = self.heap[1] # 삭제할 루트를 복사해 둠\n",
    "            last = self.heap[self.size()] # 마지막 노드\n",
    "            while (child <= self.size()): # 마지막 노드 이전까지\n",
    "                #만약 오른쪽 노드가 더 크면 child를 1 증가(기본은 왼쪽 노드)\n",
    "                if child < self.size() and self.Left(parent) < self.Right(parent):\n",
    "                    child += 1\n",
    "                if last >= self.heap[child]: # 더 큰 자식이 더 작으면 삽입 위치 찾음. down-heap 종료\n",
    "                    break\n",
    "                self.heap[parent] = self.heap[child] #down-heap\n",
    "                parent = child\n",
    "                child *= 2\n",
    "\n",
    "            self.heap[parent] = last #맨 마지막 노드를 parent 위치에 복사\n",
    "            self.heap.pop(-1) #맨 마지막 노드 삭제\n",
    "            return hroot"
   ]
  },
  {
   "cell_type": "code",
   "execution_count": 4,
   "metadata": {},
   "outputs": [],
   "source": [
    "def heapSort(data):\n",
    "    heap = MaxHeap()\n",
    "    for n in data:\n",
    "        heap.insert(n)\n",
    "    \n",
    "    for i in range(1, len(data)+1):\n",
    "        data[-i] = heap.delete()"
   ]
  },
  {
   "cell_type": "markdown",
   "metadata": {},
   "source": [
    "힙의 삽입 연산과 삭제연산의 시간 복잡도는 모두 $O(log_{2}n)$이고, 이러한 연산을 2n번 해야 하므로 정렬의 시간복잡도는 $O(nlog_{2}n)$이다. 하지만 이 방법은 다른 메모리 공간인 힙에 모두 넣었다가 빼야하므로 추가적인 메모리를 필요로 하다."
   ]
  },
  {
   "cell_type": "markdown",
   "metadata": {},
   "source": [
    "### 제자리 정렬로 구현한 힙 정렬"
   ]
  },
  {
   "cell_type": "markdown",
   "metadata": {},
   "source": [
    "#### 정렬되지 않은 배열 -> 최대 힙"
   ]
  },
  {
   "cell_type": "markdown",
   "metadata": {},
   "source": [
    "![image](https://user-images.githubusercontent.com/68596881/108025076-26d06280-7069-11eb-982c-3fe1b52856a5.png)"
   ]
  },
  {
   "cell_type": "code",
   "execution_count": 6,
   "metadata": {},
   "outputs": [],
   "source": [
    "def heapify(arr, n, i): #n: 배열의 길이, i: 다운힙을 진행하고자 하는 항목의 인덱스\n",
    "    largest = i #i번째가 가장 크다고 하자\n",
    "    l = 2*i + 1 #왼쪽 자식\n",
    "    r = 2*i + 2 #오른쪽 자식\n",
    "    \n",
    "    if l < n and arr[i] < arr[l]: #교환조건 검사\n",
    "        largest = l\n",
    "    if r < n and arr[largest] < arr[r]: #교환조건 검사\n",
    "        largest = r\n",
    "    if largest != i: #교환이 필요하면\n",
    "        arr[i], arr[largest] = arr[largest], arr[i] #교환\n",
    "        heapify(arr, n ,largest) #순차적으로 자식노드로 내려감"
   ]
  },
  {
   "cell_type": "markdown",
   "metadata": {},
   "source": [
    "#### 최대 힙 -> 정렬된 배열"
   ]
  },
  {
   "cell_type": "markdown",
   "metadata": {},
   "source": [
    "최대 힙에서 항목들을 하나씩 꺼내 순서대로 저장해야 최종 정렬이 완료된다.  \n",
    "힙의 삭제는 루트를 삭제하는 것이다. 따라서 루트의 숫자를 힙의 마지막 숫자와 교환하고 힙 크기를 1 줄인다. 이 상태는 힙 조건을 만족하지 않을 수 있다. 따라서 다운힙 연산으로 반드시 힙을 복원해야 한다."
   ]
  },
  {
   "cell_type": "code",
   "execution_count": 7,
   "metadata": {},
   "outputs": [],
   "source": [
    "def heapSort(arr):\n",
    "    n = len(arr)\n",
    "    print('i=', 0 ,arr)\n",
    "    for i in range(n//2, -1, -1): #최대 힙을 만듦\n",
    "        heapify(arr, n ,i)\n",
    "        print(\"i=\", i, arr)\n",
    "    print()\n",
    "    \n",
    "    for i in range(n-1, 0, -1):\n",
    "        arr[i],arr[0] = arr[0],arr[i] #루트를 뒤쪽으로 옮김. 교체\n",
    "        heapify(arr, i, 0) #heap 조건을 맞춤\n",
    "        print('i=', i ,arr)"
   ]
  },
  {
   "cell_type": "code",
   "execution_count": 8,
   "metadata": {},
   "outputs": [
    {
     "name": "stdout",
     "output_type": "stream",
     "text": [
      "i= 0 [5, 3, 8, 4, 9, 1, 6, 2, 7]\n",
      "i= 4 [5, 3, 8, 4, 9, 1, 6, 2, 7]\n",
      "i= 3 [5, 3, 8, 7, 9, 1, 6, 2, 4]\n",
      "i= 2 [5, 3, 8, 7, 9, 1, 6, 2, 4]\n",
      "i= 1 [5, 9, 8, 7, 3, 1, 6, 2, 4]\n",
      "i= 0 [9, 7, 8, 5, 3, 1, 6, 2, 4]\n",
      "\n",
      "i= 8 [8, 7, 6, 5, 3, 1, 4, 2, 9]\n",
      "i= 7 [7, 5, 6, 2, 3, 1, 4, 8, 9]\n",
      "i= 6 [6, 5, 4, 2, 3, 1, 7, 8, 9]\n",
      "i= 5 [5, 3, 4, 2, 1, 6, 7, 8, 9]\n",
      "i= 4 [4, 3, 1, 2, 5, 6, 7, 8, 9]\n",
      "i= 3 [3, 2, 1, 4, 5, 6, 7, 8, 9]\n",
      "i= 2 [2, 1, 3, 4, 5, 6, 7, 8, 9]\n",
      "i= 1 [1, 2, 3, 4, 5, 6, 7, 8, 9]\n"
     ]
    }
   ],
   "source": [
    "A = [5,3,8,4,9,1,6,2,7]\n",
    "heapSort(A)"
   ]
  },
  {
   "cell_type": "markdown",
   "metadata": {},
   "source": [
    "힙 정렬의 시간 복잡도는 $O(nlog_{2}n)$이고, 제자리 겅렬로 구현할 수 있어 추가적인 메모리가 필요 없다."
   ]
  },
  {
   "cell_type": "markdown",
   "metadata": {},
   "source": [
    "## 12.4 병합 정렬\n",
    "병합 정렬(merge sort)은 하나의 리스트를 두 개의 균등한 크기로 분할하고 분할된 부분리스트를 정렬한 다음, 두 리스트를 합하여 전체가 정렬된 리스트를 만드는 방법"
   ]
  },
  {
   "cell_type": "markdown",
   "metadata": {},
   "source": [
    "![image](https://user-images.githubusercontent.com/68596881/108025100-32bc2480-7069-11eb-8154-9ab206d023de.png)"
   ]
  },
  {
   "cell_type": "code",
   "execution_count": 9,
   "metadata": {},
   "outputs": [],
   "source": [
    "def merge_sort(A, left, right):\n",
    "    if left < right:\n",
    "        mid = (left + right) //2\n",
    "        merge_sort(A, left, mid)\n",
    "        merge_sort(A, mid+1, right)\n",
    "        merge(A, left, mid, right)\n",
    "        \n",
    "def merge(A, left, mid ,right):\n",
    "    global sorted\n",
    "    k = left\n",
    "    i = left\n",
    "    j = mid + 1\n",
    "    while i <= mid and j <= right:\n",
    "        if A[i] <= A[j]:\n",
    "            sorted[k] = A[i]\n",
    "            i,k = i+1, k+1\n",
    "        else:\n",
    "            sorted[k] = A[j]\n",
    "            j,k = j+1, k+1\n",
    "    if i > mid:\n",
    "        sorted[k:k+right-j+1] = A[j:right + 1]\n",
    "    else:\n",
    "        sorted[k:k+mid-i+1] = A[i:mid+1]\n",
    "    A[left:right+1] = sorted[left:right+1]"
   ]
  },
  {
   "cell_type": "markdown",
   "metadata": {},
   "source": [
    "병합정렬은 최악, 평균, 최선의 모든 경우에 $O(nlog_{2}n)$의 시간 복잡도를 갖는다. 단점은 추가적인 메모리가 필요하다는 것이다."
   ]
  },
  {
   "cell_type": "code",
   "execution_count": null,
   "metadata": {},
   "outputs": [],
   "source": []
  }
 ],
 "metadata": {
  "kernelspec": {
   "display_name": "Python 3",
   "language": "python",
   "name": "python3"
  },
  "language_info": {
   "codemirror_mode": {
    "name": "ipython",
    "version": 3
   },
   "file_extension": ".py",
   "mimetype": "text/x-python",
   "name": "python",
   "nbconvert_exporter": "python",
   "pygments_lexer": "ipython3",
   "version": "3.7.3"
  }
 },
 "nbformat": 4,
 "nbformat_minor": 2
}
